{
 "cells": [
  {
   "cell_type": "code",
   "execution_count": 1,
   "metadata": {},
   "outputs": [],
   "source": [
    "import pandas as pd\n",
    "import numpy as np\n",
    "import matplotlib.pyplot as plt\n",
    "from sklearn.model_selection import train_test_split\n",
    "from sklearn.tree import DecisionTreeClassifier\n",
    "from sklearn.preprocessing import LabelEncoder"
   ]
  },
  {
   "cell_type": "code",
   "execution_count": 2,
   "metadata": {},
   "outputs": [],
   "source": [
    "df = pd.read_csv(\"../datasets/titanic/train.csv\")"
   ]
  },
  {
   "cell_type": "code",
   "execution_count": 3,
   "metadata": {},
   "outputs": [
    {
     "data": {
      "text/plain": [
       "Index(['PassengerId', 'Survived', 'Pclass', 'Name', 'Sex', 'Age', 'SibSp',\n",
       "       'Parch', 'Ticket', 'Fare', 'Cabin', 'Embarked'],\n",
       "      dtype='object')"
      ]
     },
     "execution_count": 3,
     "metadata": {},
     "output_type": "execute_result"
    }
   ],
   "source": [
    "df.columns"
   ]
  },
  {
   "cell_type": "code",
   "execution_count": 4,
   "metadata": {},
   "outputs": [],
   "source": [
    "cut = df[['Survived', 'Pclass', 'Sex', 'Age', 'SibSp',\n",
    "       'Parch']].copy()"
   ]
  },
  {
   "cell_type": "code",
   "execution_count": 5,
   "metadata": {},
   "outputs": [
    {
     "data": {
      "text/html": [
       "<div>\n",
       "<style scoped>\n",
       "    .dataframe tbody tr th:only-of-type {\n",
       "        vertical-align: middle;\n",
       "    }\n",
       "\n",
       "    .dataframe tbody tr th {\n",
       "        vertical-align: top;\n",
       "    }\n",
       "\n",
       "    .dataframe thead th {\n",
       "        text-align: right;\n",
       "    }\n",
       "</style>\n",
       "<table border=\"1\" class=\"dataframe\">\n",
       "  <thead>\n",
       "    <tr style=\"text-align: right;\">\n",
       "      <th></th>\n",
       "      <th>Survived</th>\n",
       "      <th>Pclass</th>\n",
       "      <th>Age</th>\n",
       "      <th>SibSp</th>\n",
       "      <th>Parch</th>\n",
       "    </tr>\n",
       "  </thead>\n",
       "  <tbody>\n",
       "    <tr>\n",
       "      <th>count</th>\n",
       "      <td>891.000000</td>\n",
       "      <td>891.000000</td>\n",
       "      <td>714.000000</td>\n",
       "      <td>891.000000</td>\n",
       "      <td>891.000000</td>\n",
       "    </tr>\n",
       "    <tr>\n",
       "      <th>mean</th>\n",
       "      <td>0.383838</td>\n",
       "      <td>2.308642</td>\n",
       "      <td>29.699118</td>\n",
       "      <td>0.523008</td>\n",
       "      <td>0.381594</td>\n",
       "    </tr>\n",
       "    <tr>\n",
       "      <th>std</th>\n",
       "      <td>0.486592</td>\n",
       "      <td>0.836071</td>\n",
       "      <td>14.526497</td>\n",
       "      <td>1.102743</td>\n",
       "      <td>0.806057</td>\n",
       "    </tr>\n",
       "    <tr>\n",
       "      <th>min</th>\n",
       "      <td>0.000000</td>\n",
       "      <td>1.000000</td>\n",
       "      <td>0.420000</td>\n",
       "      <td>0.000000</td>\n",
       "      <td>0.000000</td>\n",
       "    </tr>\n",
       "    <tr>\n",
       "      <th>25%</th>\n",
       "      <td>0.000000</td>\n",
       "      <td>2.000000</td>\n",
       "      <td>20.125000</td>\n",
       "      <td>0.000000</td>\n",
       "      <td>0.000000</td>\n",
       "    </tr>\n",
       "    <tr>\n",
       "      <th>50%</th>\n",
       "      <td>0.000000</td>\n",
       "      <td>3.000000</td>\n",
       "      <td>28.000000</td>\n",
       "      <td>0.000000</td>\n",
       "      <td>0.000000</td>\n",
       "    </tr>\n",
       "    <tr>\n",
       "      <th>75%</th>\n",
       "      <td>1.000000</td>\n",
       "      <td>3.000000</td>\n",
       "      <td>38.000000</td>\n",
       "      <td>1.000000</td>\n",
       "      <td>0.000000</td>\n",
       "    </tr>\n",
       "    <tr>\n",
       "      <th>max</th>\n",
       "      <td>1.000000</td>\n",
       "      <td>3.000000</td>\n",
       "      <td>80.000000</td>\n",
       "      <td>8.000000</td>\n",
       "      <td>6.000000</td>\n",
       "    </tr>\n",
       "  </tbody>\n",
       "</table>\n",
       "</div>"
      ],
      "text/plain": [
       "         Survived      Pclass         Age       SibSp       Parch\n",
       "count  891.000000  891.000000  714.000000  891.000000  891.000000\n",
       "mean     0.383838    2.308642   29.699118    0.523008    0.381594\n",
       "std      0.486592    0.836071   14.526497    1.102743    0.806057\n",
       "min      0.000000    1.000000    0.420000    0.000000    0.000000\n",
       "25%      0.000000    2.000000   20.125000    0.000000    0.000000\n",
       "50%      0.000000    3.000000   28.000000    0.000000    0.000000\n",
       "75%      1.000000    3.000000   38.000000    1.000000    0.000000\n",
       "max      1.000000    3.000000   80.000000    8.000000    6.000000"
      ]
     },
     "execution_count": 5,
     "metadata": {},
     "output_type": "execute_result"
    }
   ],
   "source": [
    "cut.describe()"
   ]
  },
  {
   "cell_type": "code",
   "execution_count": 6,
   "metadata": {},
   "outputs": [
    {
     "name": "stdout",
     "output_type": "stream",
     "text": [
      "<class 'pandas.core.frame.DataFrame'>\n",
      "RangeIndex: 891 entries, 0 to 890\n",
      "Data columns (total 6 columns):\n",
      "Survived    891 non-null int64\n",
      "Pclass      891 non-null int64\n",
      "Sex         891 non-null object\n",
      "Age         714 non-null float64\n",
      "SibSp       891 non-null int64\n",
      "Parch       891 non-null int64\n",
      "dtypes: float64(1), int64(4), object(1)\n",
      "memory usage: 41.8+ KB\n"
     ]
    }
   ],
   "source": [
    "cut.info()"
   ]
  },
  {
   "cell_type": "code",
   "execution_count": 7,
   "metadata": {},
   "outputs": [],
   "source": [
    "droped = cut.loc[cut[\"Age\"].isna()]"
   ]
  },
  {
   "cell_type": "code",
   "execution_count": 8,
   "metadata": {},
   "outputs": [],
   "source": [
    "cut.dropna(inplace=True)"
   ]
  },
  {
   "cell_type": "code",
   "execution_count": 9,
   "metadata": {},
   "outputs": [],
   "source": [
    "board = cut.groupby([\"Survived\", \"Pclass\", \"Sex\"])[[\"Age\"]].mean()\n",
    "board.reset_index(inplace=True)"
   ]
  },
  {
   "cell_type": "code",
   "execution_count": 24,
   "metadata": {},
   "outputs": [
    {
     "data": {
      "text/html": [
       "<div>\n",
       "<style scoped>\n",
       "    .dataframe tbody tr th:only-of-type {\n",
       "        vertical-align: middle;\n",
       "    }\n",
       "\n",
       "    .dataframe tbody tr th {\n",
       "        vertical-align: top;\n",
       "    }\n",
       "\n",
       "    .dataframe thead th {\n",
       "        text-align: right;\n",
       "    }\n",
       "</style>\n",
       "<table border=\"1\" class=\"dataframe\">\n",
       "  <thead>\n",
       "    <tr style=\"text-align: right;\">\n",
       "      <th></th>\n",
       "      <th>Survived</th>\n",
       "      <th>Pclass</th>\n",
       "      <th>Sex</th>\n",
       "      <th>Age</th>\n",
       "    </tr>\n",
       "  </thead>\n",
       "  <tbody>\n",
       "    <tr>\n",
       "      <th>0</th>\n",
       "      <td>0</td>\n",
       "      <td>1</td>\n",
       "      <td>female</td>\n",
       "      <td>25.666667</td>\n",
       "    </tr>\n",
       "    <tr>\n",
       "      <th>1</th>\n",
       "      <td>0</td>\n",
       "      <td>1</td>\n",
       "      <td>male</td>\n",
       "      <td>44.581967</td>\n",
       "    </tr>\n",
       "    <tr>\n",
       "      <th>2</th>\n",
       "      <td>0</td>\n",
       "      <td>2</td>\n",
       "      <td>female</td>\n",
       "      <td>36.000000</td>\n",
       "    </tr>\n",
       "    <tr>\n",
       "      <th>3</th>\n",
       "      <td>0</td>\n",
       "      <td>2</td>\n",
       "      <td>male</td>\n",
       "      <td>33.369048</td>\n",
       "    </tr>\n",
       "    <tr>\n",
       "      <th>4</th>\n",
       "      <td>0</td>\n",
       "      <td>3</td>\n",
       "      <td>female</td>\n",
       "      <td>23.818182</td>\n",
       "    </tr>\n",
       "    <tr>\n",
       "      <th>5</th>\n",
       "      <td>0</td>\n",
       "      <td>3</td>\n",
       "      <td>male</td>\n",
       "      <td>27.255814</td>\n",
       "    </tr>\n",
       "    <tr>\n",
       "      <th>6</th>\n",
       "      <td>1</td>\n",
       "      <td>1</td>\n",
       "      <td>female</td>\n",
       "      <td>34.939024</td>\n",
       "    </tr>\n",
       "    <tr>\n",
       "      <th>7</th>\n",
       "      <td>1</td>\n",
       "      <td>1</td>\n",
       "      <td>male</td>\n",
       "      <td>36.248000</td>\n",
       "    </tr>\n",
       "    <tr>\n",
       "      <th>8</th>\n",
       "      <td>1</td>\n",
       "      <td>2</td>\n",
       "      <td>female</td>\n",
       "      <td>28.080882</td>\n",
       "    </tr>\n",
       "    <tr>\n",
       "      <th>9</th>\n",
       "      <td>1</td>\n",
       "      <td>2</td>\n",
       "      <td>male</td>\n",
       "      <td>16.022000</td>\n",
       "    </tr>\n",
       "    <tr>\n",
       "      <th>10</th>\n",
       "      <td>1</td>\n",
       "      <td>3</td>\n",
       "      <td>female</td>\n",
       "      <td>19.329787</td>\n",
       "    </tr>\n",
       "    <tr>\n",
       "      <th>11</th>\n",
       "      <td>1</td>\n",
       "      <td>3</td>\n",
       "      <td>male</td>\n",
       "      <td>22.274211</td>\n",
       "    </tr>\n",
       "  </tbody>\n",
       "</table>\n",
       "</div>"
      ],
      "text/plain": [
       "    Survived  Pclass     Sex        Age\n",
       "0          0       1  female  25.666667\n",
       "1          0       1    male  44.581967\n",
       "2          0       2  female  36.000000\n",
       "3          0       2    male  33.369048\n",
       "4          0       3  female  23.818182\n",
       "5          0       3    male  27.255814\n",
       "6          1       1  female  34.939024\n",
       "7          1       1    male  36.248000\n",
       "8          1       2  female  28.080882\n",
       "9          1       2    male  16.022000\n",
       "10         1       3  female  19.329787\n",
       "11         1       3    male  22.274211"
      ]
     },
     "execution_count": 24,
     "metadata": {},
     "output_type": "execute_result"
    }
   ],
   "source": [
    "board"
   ]
  },
  {
   "cell_type": "code",
   "execution_count": 10,
   "metadata": {},
   "outputs": [],
   "source": [
    "def get_age(row):\n",
    "    item = board.loc[(board[\"Survived\"]==row[\"Survived\"]) & (board[\"Pclass\"]==row[\"Pclass\"]) & (board[\"Sex\"]==row[\"Sex\"])]\n",
    "    row[\"Age\"] = item.iat[0,-1]\n",
    "    return row"
   ]
  },
  {
   "cell_type": "code",
   "execution_count": 11,
   "metadata": {},
   "outputs": [
    {
     "data": {
      "text/html": [
       "<div>\n",
       "<style scoped>\n",
       "    .dataframe tbody tr th:only-of-type {\n",
       "        vertical-align: middle;\n",
       "    }\n",
       "\n",
       "    .dataframe tbody tr th {\n",
       "        vertical-align: top;\n",
       "    }\n",
       "\n",
       "    .dataframe thead th {\n",
       "        text-align: right;\n",
       "    }\n",
       "</style>\n",
       "<table border=\"1\" class=\"dataframe\">\n",
       "  <thead>\n",
       "    <tr style=\"text-align: right;\">\n",
       "      <th></th>\n",
       "      <th>Survived</th>\n",
       "      <th>Pclass</th>\n",
       "      <th>Sex</th>\n",
       "      <th>Age</th>\n",
       "    </tr>\n",
       "  </thead>\n",
       "  <tbody>\n",
       "    <tr>\n",
       "      <th>1</th>\n",
       "      <td>0</td>\n",
       "      <td>1</td>\n",
       "      <td>male</td>\n",
       "      <td>44.581967</td>\n",
       "    </tr>\n",
       "  </tbody>\n",
       "</table>\n",
       "</div>"
      ],
      "text/plain": [
       "   Survived  Pclass   Sex        Age\n",
       "1         0       1  male  44.581967"
      ]
     },
     "execution_count": 11,
     "metadata": {},
     "output_type": "execute_result"
    }
   ],
   "source": [
    "board.loc[(board[\"Survived\"]==0) & (board[\"Pclass\"]==1) & (board[\"Sex\"]==\"male\")]"
   ]
  },
  {
   "cell_type": "code",
   "execution_count": 12,
   "metadata": {},
   "outputs": [],
   "source": [
    "droped = droped.apply(get_age, axis=1)"
   ]
  },
  {
   "cell_type": "code",
   "execution_count": 13,
   "metadata": {},
   "outputs": [],
   "source": [
    "total = pd.concat([cut, droped])"
   ]
  },
  {
   "cell_type": "code",
   "execution_count": 14,
   "metadata": {},
   "outputs": [
    {
     "name": "stdout",
     "output_type": "stream",
     "text": [
      "<class 'pandas.core.frame.DataFrame'>\n",
      "Int64Index: 891 entries, 0 to 888\n",
      "Data columns (total 6 columns):\n",
      "Survived    891 non-null int64\n",
      "Pclass      891 non-null int64\n",
      "Sex         891 non-null object\n",
      "Age         891 non-null float64\n",
      "SibSp       891 non-null int64\n",
      "Parch       891 non-null int64\n",
      "dtypes: float64(1), int64(4), object(1)\n",
      "memory usage: 48.7+ KB\n"
     ]
    }
   ],
   "source": [
    "total.info()"
   ]
  },
  {
   "cell_type": "code",
   "execution_count": 31,
   "metadata": {},
   "outputs": [],
   "source": [
    "le = LabelEncoder()"
   ]
  },
  {
   "cell_type": "code",
   "execution_count": 32,
   "metadata": {},
   "outputs": [],
   "source": [
    "total[\"Sex\"] = le.fit_transform(total[\"Sex\"])"
   ]
  },
  {
   "cell_type": "code",
   "execution_count": 33,
   "metadata": {},
   "outputs": [
    {
     "data": {
      "text/plain": [
       "array([0, 1])"
      ]
     },
     "execution_count": 33,
     "metadata": {},
     "output_type": "execute_result"
    }
   ],
   "source": [
    "le.classes_"
   ]
  },
  {
   "cell_type": "code",
   "execution_count": 34,
   "metadata": {},
   "outputs": [],
   "source": [
    "X = total.drop([\"Survived\"], axis=1)"
   ]
  },
  {
   "cell_type": "code",
   "execution_count": 35,
   "metadata": {},
   "outputs": [],
   "source": [
    "y = total[\"Survived\"]"
   ]
  },
  {
   "cell_type": "code",
   "execution_count": 36,
   "metadata": {},
   "outputs": [],
   "source": [
    "X_train, X_test, y_train, y_test = train_test_split(\n",
    "...     X, y, test_size=0.33, random_state=42)"
   ]
  },
  {
   "cell_type": "code",
   "execution_count": 69,
   "metadata": {},
   "outputs": [],
   "source": [
    "model = DecisionTreeClassifier(max_depth=5)"
   ]
  },
  {
   "cell_type": "code",
   "execution_count": 70,
   "metadata": {},
   "outputs": [
    {
     "data": {
      "text/plain": [
       "DecisionTreeClassifier(class_weight=None, criterion='gini', max_depth=5,\n",
       "            max_features=None, max_leaf_nodes=None,\n",
       "            min_impurity_decrease=0.0, min_impurity_split=None,\n",
       "            min_samples_leaf=1, min_samples_split=2,\n",
       "            min_weight_fraction_leaf=0.0, presort=False, random_state=None,\n",
       "            splitter='best')"
      ]
     },
     "execution_count": 70,
     "metadata": {},
     "output_type": "execute_result"
    }
   ],
   "source": [
    "model.fit(X_train, y_train)"
   ]
  },
  {
   "cell_type": "code",
   "execution_count": 71,
   "metadata": {},
   "outputs": [
    {
     "data": {
      "text/plain": [
       "0.8338983050847457"
      ]
     },
     "execution_count": 71,
     "metadata": {},
     "output_type": "execute_result"
    }
   ],
   "source": [
    "model.score(X_test, y_test)"
   ]
  },
  {
   "cell_type": "code",
   "execution_count": 27,
   "metadata": {},
   "outputs": [],
   "source": [
    "def entropy(col):\n",
    "    vals, counts = np.unique(col, return_counts=True)\n",
    "    \n",
    "    acc = 0\n",
    "    probs = counts / len(col)\n",
    "    for prob in probs:\n",
    "        acc += prob * np.log2(prob)\n",
    "        \n",
    "    return - acc"
   ]
  },
  {
   "cell_type": "code",
   "execution_count": 28,
   "metadata": {},
   "outputs": [
    {
     "data": {
      "text/plain": [
       "0.9607079018756469"
      ]
     },
     "execution_count": 28,
     "metadata": {},
     "output_type": "execute_result"
    }
   ],
   "source": [
    "entropy(total[\"Survived\"])"
   ]
  },
  {
   "cell_type": "code",
   "execution_count": 29,
   "metadata": {},
   "outputs": [],
   "source": [
    "def infogain(X, col_name, y):\n",
    "    \n",
    "    pivot = X[col_name].mean()\n",
    "    left = y.loc[X[col_name] < pivot]\n",
    "    right = y.loc[X[col_name] >= pivot]\n",
    "    \n",
    "    l_entropy = entropy(left)\n",
    "    r_entropy = entropy(right)\n",
    "    tot_entropy = entropy(y)\n",
    "    p_left = len(left)/len(y)\n",
    "    p_right = len(right)/len(y)\n",
    "    \n",
    "    return tot_entropy - p_left*l_entropy - p_right*r_entropy\n"
   ]
  },
  {
   "cell_type": "code",
   "execution_count": 30,
   "metadata": {},
   "outputs": [
    {
     "name": "stdout",
     "output_type": "stream",
     "text": [
      "infogain for  Pclass 0.07579362743608165\n",
      "infogain for  Sex 0.2176601066606143\n",
      "infogain for  Age 0.0008052404301705507\n",
      "infogain for  SibSp 0.009584541813400127\n",
      "infogain for  Parch 0.015380754493137666\n"
     ]
    }
   ],
   "source": [
    "for col in X.columns:\n",
    "    print(\"infogain for \", col, infogain(X, col, y))"
   ]
  },
  {
   "cell_type": "code",
   "execution_count": 157,
   "metadata": {},
   "outputs": [],
   "source": [
    "class Node:\n",
    "    \n",
    "    def __init__(self, label=None, pivot=None, result=None):\n",
    "        \n",
    "        self.label = label\n",
    "        self.pivot = pivot\n",
    "        self.result = result\n",
    "        \n",
    "        self.left = None\n",
    "        self.right = None\n",
    "    \n",
    "class DecisionTreeCuston:\n",
    "    \n",
    "    def __init__(self, max_depth=5):\n",
    "        self.max_depth = max_depth\n",
    "        self.nodes = 0\n",
    "        \n",
    "    def fit(self, X, y):\n",
    "        self.root = self.generate(X, y, self.max_depth)\n",
    "    \n",
    "    def generate(self, X, y, depth):\n",
    "        if depth == 0:\n",
    "            node = Node(result=y.mean())\n",
    "            self.nodes += 1\n",
    "            return node\n",
    "        \n",
    "        gains = []\n",
    "        for col in X.columns:\n",
    "            gains.append((self.infogain(X, col, y), col))\n",
    "            \n",
    "        selected = sorted(gains, reverse=True)[0]\n",
    "        selected_gain = selected[0]\n",
    "        selected_col = selected[1]\n",
    "        \n",
    "        if selected_gain <= .01:\n",
    "            node = Node(result=y.mean())\n",
    "            self.nodes += 1\n",
    "            return node\n",
    "        \n",
    "        pivot = X[selected_col].mean()\n",
    "        \n",
    "        left_X = X.loc[X[selected_col] < pivot]\n",
    "        right_X = X.loc[X[selected_col] >= pivot]\n",
    "        \n",
    "        left_y = y.loc[X[selected_col] < pivot]\n",
    "        right_y = y.loc[X[selected_col] >= pivot]\n",
    "        \n",
    "        node = Node(label=selected_col, pivot=pivot)\n",
    "        node.left = self.generate(left_X, left_y, depth-1)\n",
    "        node.right = self.generate(right_X, right_y, depth-1)\n",
    "        self.nodes += 1\n",
    "        \n",
    "        return node\n",
    "    \n",
    "    def predict_point(self, row, node):\n",
    "        if node.label == None:\n",
    "            return node.result\n",
    "        \n",
    "        if row[node.label] < node.pivot:\n",
    "            return self.predict_point(row, node.left)\n",
    "        else:\n",
    "            return self.predict_point(row, node.right)\n",
    "    \n",
    "    def predict(self, X):\n",
    "        results = []\n",
    "        for index, row in X.iterrows():\n",
    "            results.append(self.predict_point(row, self.root))\n",
    "            \n",
    "        return (np.array(results) > .7).astype(int)\n",
    "            \n",
    "    \n",
    "    def entropy(self, col):\n",
    "        vals, counts = np.unique(col, return_counts=True)\n",
    "        acc = 0\n",
    "        probs = counts / len(col)\n",
    "        for prob in probs:\n",
    "            acc += prob * np.log2(prob)\n",
    "        return - acc\n",
    "    \n",
    "    def score(self, X, y):\n",
    "        y_p = self.predict(X)\n",
    "        return (y == y_p).mean()\n",
    "    \n",
    "    def display(self):\n",
    "        self.display_rec(self.root, \"\")\n",
    "    \n",
    "    def display_rec(self, node, indent):\n",
    "        if node == None:\n",
    "            return\n",
    "        \n",
    "        if node.label != None:\n",
    "            print(indent, \"Deviding abt\", node.label, node.pivot)\n",
    "            self.display_rec(node.left, indent + \"\\t\")\n",
    "            self.display_rec(node.right, indent + \"\\t\")\n",
    "        else:\n",
    "            if node.result > .5:\n",
    "                print(indent, \"Survived\")\n",
    "            else:\n",
    "                print(indent, \"Died\")\n",
    "    \n",
    "    def infogain(self, X, col_name, y):\n",
    "    \n",
    "        pivot = X[col_name].mean()\n",
    "        left = y.loc[X[col_name] < pivot]\n",
    "        right = y.loc[X[col_name] >= pivot]\n",
    "\n",
    "        l_entropy = entropy(left)\n",
    "        r_entropy = entropy(right)\n",
    "        tot_entropy = entropy(y)\n",
    "        p_left = len(left)/len(y)\n",
    "        p_right = len(right)/len(y)\n",
    "\n",
    "        return tot_entropy - p_left*l_entropy - p_right*r_entropy\n",
    "\n",
    "        \n",
    "        "
   ]
  },
  {
   "cell_type": "code",
   "execution_count": 158,
   "metadata": {},
   "outputs": [],
   "source": [
    "model = DecisionTreeCuston(max_depth=10)"
   ]
  },
  {
   "cell_type": "code",
   "execution_count": 159,
   "metadata": {},
   "outputs": [],
   "source": [
    "model.fit(X_train, y_train)"
   ]
  },
  {
   "cell_type": "code",
   "execution_count": 160,
   "metadata": {},
   "outputs": [
    {
     "data": {
      "text/plain": [
       "array([0, 0, 0, 1, 1, 0, 0, 1, 1, 0])"
      ]
     },
     "execution_count": 160,
     "metadata": {},
     "output_type": "execute_result"
    }
   ],
   "source": [
    "model.predict(X_test.iloc[:10])"
   ]
  },
  {
   "cell_type": "code",
   "execution_count": 161,
   "metadata": {},
   "outputs": [
    {
     "data": {
      "text/plain": [
       "105"
      ]
     },
     "execution_count": 161,
     "metadata": {},
     "output_type": "execute_result"
    }
   ],
   "source": [
    "model.nodes"
   ]
  },
  {
   "cell_type": "code",
   "execution_count": 162,
   "metadata": {},
   "outputs": [
    {
     "data": {
      "text/plain": [
       "0.8271186440677966"
      ]
     },
     "execution_count": 162,
     "metadata": {},
     "output_type": "execute_result"
    }
   ],
   "source": [
    "model.score(X_test, y_test)"
   ]
  },
  {
   "cell_type": "code",
   "execution_count": 142,
   "metadata": {},
   "outputs": [
    {
     "name": "stdout",
     "output_type": "stream",
     "text": [
      " Deviding abt Sex 0.6593959731543624\n",
      "\t Deviding abt Pclass 2.147783251231527\n",
      "\t\t Survived\n",
      "\t\t Deviding abt Age 21.4670451945675\n",
      "\t\t\t Deviding abt Age 14.062340425531916\n",
      "\t\t\t\t Deviding abt Age 5.264705882352941\n",
      "\t\t\t\t\t Deviding abt Age 2.772727272727273\n",
      "\t\t\t\t\t\t Deviding abt Age 1.4166666666666667\n",
      "\t\t\t\t\t\t\t Survived\n",
      "\t\t\t\t\t\t\t Died\n",
      "\t\t\t\t\t\t Survived\n",
      "\t\t\t\t\t Died\n",
      "\t\t\t\t Deviding abt Age 18.594455190199874\n",
      "\t\t\t\t\t Deviding abt Age 16.75\n",
      "\t\t\t\t\t\t Survived\n",
      "\t\t\t\t\t\t Deviding abt Parch 0.5714285714285714\n",
      "\t\t\t\t\t\t\t Died\n",
      "\t\t\t\t\t\t\t Deviding abt SibSp 1.3333333333333333\n",
      "\t\t\t\t\t\t\t\t Died\n",
      "\t\t\t\t\t\t\t\t Survived\n",
      "\t\t\t\t\t Deviding abt Age 19.6484295845998\n",
      "\t\t\t\t\t\t Survived\n",
      "\t\t\t\t\t\t Deviding abt SibSp 0.8\n",
      "\t\t\t\t\t\t\t Died\n",
      "\t\t\t\t\t\t\t Died\n",
      "\t\t\t Deviding abt SibSp 1.0930232558139534\n",
      "\t\t\t\t Died\n",
      "\t\t\t\t Died\n",
      "\t Deviding abt Pclass 2.3587786259541983\n",
      "\t\t Deviding abt Pclass 1.4819277108433735\n",
      "\t\t\t Deviding abt Age 41.93866946244758\n",
      "\t\t\t\t Deviding abt Age 30.29368421052632\n",
      "\t\t\t\t\t Deviding abt Age 22.6825\n",
      "\t\t\t\t\t\t Deviding abt Parch 1.5\n",
      "\t\t\t\t\t\t\t Died\n",
      "\t\t\t\t\t\t\t Survived\n",
      "\t\t\t\t\t\t Deviding abt Parch 0.3333333333333333\n",
      "\t\t\t\t\t\t\t Deviding abt Age 26.88888888888889\n",
      "\t\t\t\t\t\t\t\t Deviding abt SibSp 0.6666666666666666\n",
      "\t\t\t\t\t\t\t\t\t Died\n",
      "\t\t\t\t\t\t\t\t\t Survived\n",
      "\t\t\t\t\t\t\t\t Deviding abt Age 28.0\n",
      "\t\t\t\t\t\t\t\t\t Survived\n",
      "\t\t\t\t\t\t\t\t\t Deviding abt SibSp 0.5\n",
      "\t\t\t\t\t\t\t\t\t\t Died\n",
      "\t\t\t\t\t\t\t\t\t\t Died\n",
      "\t\t\t\t\t\t\t Deviding abt Parch 1.3333333333333333\n",
      "\t\t\t\t\t\t\t\t Deviding abt Age 23.5\n",
      "\t\t\t\t\t\t\t\t\t Survived\n",
      "\t\t\t\t\t\t\t\t\t Died\n",
      "\t\t\t\t\t\t\t\t Died\n",
      "\t\t\t\t\t Deviding abt Parch 0.18181818181818182\n",
      "\t\t\t\t\t\t Deviding abt Age 35.56888888888889\n",
      "\t\t\t\t\t\t\t Deviding abt Age 33.0\n",
      "\t\t\t\t\t\t\t\t Deviding abt SibSp 0.6666666666666666\n",
      "\t\t\t\t\t\t\t\t\t Died\n",
      "\t\t\t\t\t\t\t\t\t Died\n",
      "\t\t\t\t\t\t\t\t Deviding abt Age 34.5\n",
      "\t\t\t\t\t\t\t\t\t Died\n",
      "\t\t\t\t\t\t\t\t\t Survived\n",
      "\t\t\t\t\t\t\t Deviding abt Age 37.203636363636356\n",
      "\t\t\t\t\t\t\t\t Survived\n",
      "\t\t\t\t\t\t\t\t Deviding abt SibSp 0.25\n",
      "\t\t\t\t\t\t\t\t\t Deviding abt Age 39.333333333333336\n",
      "\t\t\t\t\t\t\t\t\t\t Died\n",
      "\t\t\t\t\t\t\t\t\t\t Died\n",
      "\t\t\t\t\t\t\t\t\t Survived\n",
      "\t\t\t\t\t\t Deviding abt SibSp 0.25\n",
      "\t\t\t\t\t\t\t Deviding abt Age 37.0\n",
      "\t\t\t\t\t\t\t\t Survived\n",
      "\t\t\t\t\t\t\t\t Died\n",
      "\t\t\t\t\t\t\t Survived\n",
      "\t\t\t\t Deviding abt SibSp 0.2916666666666667\n",
      "\t\t\t\t\t Deviding abt Parch 0.14285714285714285\n",
      "\t\t\t\t\t\t Died\n",
      "\t\t\t\t\t\t Died\n",
      "\t\t\t\t\t Deviding abt Parch 0.46153846153846156\n",
      "\t\t\t\t\t\t Deviding abt Age 46.3\n",
      "\t\t\t\t\t\t\t Deviding abt Age 43.8\n",
      "\t\t\t\t\t\t\t\t Died\n",
      "\t\t\t\t\t\t\t\t Died\n",
      "\t\t\t\t\t\t\t Deviding abt Age 48.8\n",
      "\t\t\t\t\t\t\t\t Survived\n",
      "\t\t\t\t\t\t\t\t Deviding abt Age 49.333333333333336\n",
      "\t\t\t\t\t\t\t\t\t Survived\n",
      "\t\t\t\t\t\t\t\t\t Died\n",
      "\t\t\t\t\t\t Died\n",
      "\t\t\t Deviding abt Parch 0.2125\n",
      "\t\t\t\t Died\n",
      "\t\t\t\t Deviding abt Age 12.344999999999999\n",
      "\t\t\t\t\t Survived\n",
      "\t\t\t\t\t Died\n",
      "\t\t Deviding abt Age 27.144893588340278\n",
      "\t\t\t Deviding abt Parch 0.31\n",
      "\t\t\t\t Died\n",
      "\t\t\t\t Deviding abt SibSp 2.625\n",
      "\t\t\t\t\t Deviding abt Age 12.496842105263157\n",
      "\t\t\t\t\t\t Survived\n",
      "\t\t\t\t\t\t Deviding abt Age 18.92473684210526\n",
      "\t\t\t\t\t\t\t Died\n",
      "\t\t\t\t\t\t\t Survived\n",
      "\t\t\t\t\t Died\n",
      "\t\t\t Deviding abt SibSp 0.2677165354330709\n",
      "\t\t\t\t Died\n",
      "\t\t\t\t Died\n"
     ]
    }
   ],
   "source": [
    "model.display()"
   ]
  },
  {
   "cell_type": "code",
   "execution_count": null,
   "metadata": {},
   "outputs": [],
   "source": []
  },
  {
   "cell_type": "code",
   "execution_count": 143,
   "metadata": {},
   "outputs": [],
   "source": [
    "from sklearn.ensemble import RandomForestClassifier, AdaBoostClassifier, "
   ]
  },
  {
   "cell_type": "code",
   "execution_count": 144,
   "metadata": {},
   "outputs": [
    {
     "data": {
      "text/plain": [
       "\u001b[0;31mInit signature:\u001b[0m\n",
       "\u001b[0mRandomForestClassifier\u001b[0m\u001b[0;34m(\u001b[0m\u001b[0;34m\u001b[0m\n",
       "\u001b[0;34m\u001b[0m    \u001b[0;34m[\u001b[0m\u001b[0;34m\"n_estimators='warn'\"\u001b[0m\u001b[0;34m,\u001b[0m \u001b[0;34m\"criterion='gini'\"\u001b[0m\u001b[0;34m,\u001b[0m \u001b[0;34m'max_depth=None'\u001b[0m\u001b[0;34m,\u001b[0m \u001b[0;34m'min_samples_split=2'\u001b[0m\u001b[0;34m,\u001b[0m \u001b[0;34m'min_samples_leaf=1'\u001b[0m\u001b[0;34m,\u001b[0m \u001b[0;34m'min_weight_fraction_leaf=0.0'\u001b[0m\u001b[0;34m,\u001b[0m \u001b[0;34m\"max_features='auto'\"\u001b[0m\u001b[0;34m,\u001b[0m \u001b[0;34m'max_leaf_nodes=None'\u001b[0m\u001b[0;34m,\u001b[0m \u001b[0;34m'min_impurity_decrease=0.0'\u001b[0m\u001b[0;34m,\u001b[0m \u001b[0;34m'min_impurity_split=None'\u001b[0m\u001b[0;34m,\u001b[0m \u001b[0;34m'bootstrap=True'\u001b[0m\u001b[0;34m,\u001b[0m \u001b[0;34m'oob_score=False'\u001b[0m\u001b[0;34m,\u001b[0m \u001b[0;34m'n_jobs=None'\u001b[0m\u001b[0;34m,\u001b[0m \u001b[0;34m'random_state=None'\u001b[0m\u001b[0;34m,\u001b[0m \u001b[0;34m'verbose=0'\u001b[0m\u001b[0;34m,\u001b[0m \u001b[0;34m'warm_start=False'\u001b[0m\u001b[0;34m,\u001b[0m \u001b[0;34m'class_weight=None'\u001b[0m\u001b[0;34m]\u001b[0m\u001b[0;34m,\u001b[0m\u001b[0;34m\u001b[0m\n",
       "\u001b[0;34m\u001b[0m\u001b[0;34m)\u001b[0m\u001b[0;34m\u001b[0m\u001b[0;34m\u001b[0m\u001b[0m\n",
       "\u001b[0;31mDocstring:\u001b[0m     \n",
       "A random forest classifier.\n",
       "\n",
       "A random forest is a meta estimator that fits a number of decision tree\n",
       "classifiers on various sub-samples of the dataset and uses averaging to\n",
       "improve the predictive accuracy and control over-fitting.\n",
       "The sub-sample size is always the same as the original\n",
       "input sample size but the samples are drawn with replacement if\n",
       "`bootstrap=True` (default).\n",
       "\n",
       "Read more in the :ref:`User Guide <forest>`.\n",
       "\n",
       "Parameters\n",
       "----------\n",
       "n_estimators : integer, optional (default=10)\n",
       "    The number of trees in the forest.\n",
       "\n",
       "    .. versionchanged:: 0.20\n",
       "       The default value of ``n_estimators`` will change from 10 in\n",
       "       version 0.20 to 100 in version 0.22.\n",
       "\n",
       "criterion : string, optional (default=\"gini\")\n",
       "    The function to measure the quality of a split. Supported criteria are\n",
       "    \"gini\" for the Gini impurity and \"entropy\" for the information gain.\n",
       "    Note: this parameter is tree-specific.\n",
       "\n",
       "max_depth : integer or None, optional (default=None)\n",
       "    The maximum depth of the tree. If None, then nodes are expanded until\n",
       "    all leaves are pure or until all leaves contain less than\n",
       "    min_samples_split samples.\n",
       "\n",
       "min_samples_split : int, float, optional (default=2)\n",
       "    The minimum number of samples required to split an internal node:\n",
       "\n",
       "    - If int, then consider `min_samples_split` as the minimum number.\n",
       "    - If float, then `min_samples_split` is a fraction and\n",
       "      `ceil(min_samples_split * n_samples)` are the minimum\n",
       "      number of samples for each split.\n",
       "\n",
       "    .. versionchanged:: 0.18\n",
       "       Added float values for fractions.\n",
       "\n",
       "min_samples_leaf : int, float, optional (default=1)\n",
       "    The minimum number of samples required to be at a leaf node.\n",
       "    A split point at any depth will only be considered if it leaves at\n",
       "    least ``min_samples_leaf`` training samples in each of the left and\n",
       "    right branches.  This may have the effect of smoothing the model,\n",
       "    especially in regression.\n",
       "\n",
       "    - If int, then consider `min_samples_leaf` as the minimum number.\n",
       "    - If float, then `min_samples_leaf` is a fraction and\n",
       "      `ceil(min_samples_leaf * n_samples)` are the minimum\n",
       "      number of samples for each node.\n",
       "\n",
       "    .. versionchanged:: 0.18\n",
       "       Added float values for fractions.\n",
       "\n",
       "min_weight_fraction_leaf : float, optional (default=0.)\n",
       "    The minimum weighted fraction of the sum total of weights (of all\n",
       "    the input samples) required to be at a leaf node. Samples have\n",
       "    equal weight when sample_weight is not provided.\n",
       "\n",
       "max_features : int, float, string or None, optional (default=\"auto\")\n",
       "    The number of features to consider when looking for the best split:\n",
       "\n",
       "    - If int, then consider `max_features` features at each split.\n",
       "    - If float, then `max_features` is a fraction and\n",
       "      `int(max_features * n_features)` features are considered at each\n",
       "      split.\n",
       "    - If \"auto\", then `max_features=sqrt(n_features)`.\n",
       "    - If \"sqrt\", then `max_features=sqrt(n_features)` (same as \"auto\").\n",
       "    - If \"log2\", then `max_features=log2(n_features)`.\n",
       "    - If None, then `max_features=n_features`.\n",
       "\n",
       "    Note: the search for a split does not stop until at least one\n",
       "    valid partition of the node samples is found, even if it requires to\n",
       "    effectively inspect more than ``max_features`` features.\n",
       "\n",
       "max_leaf_nodes : int or None, optional (default=None)\n",
       "    Grow trees with ``max_leaf_nodes`` in best-first fashion.\n",
       "    Best nodes are defined as relative reduction in impurity.\n",
       "    If None then unlimited number of leaf nodes.\n",
       "\n",
       "min_impurity_decrease : float, optional (default=0.)\n",
       "    A node will be split if this split induces a decrease of the impurity\n",
       "    greater than or equal to this value.\n",
       "\n",
       "    The weighted impurity decrease equation is the following::\n",
       "\n",
       "        N_t / N * (impurity - N_t_R / N_t * right_impurity\n",
       "                            - N_t_L / N_t * left_impurity)\n",
       "\n",
       "    where ``N`` is the total number of samples, ``N_t`` is the number of\n",
       "    samples at the current node, ``N_t_L`` is the number of samples in the\n",
       "    left child, and ``N_t_R`` is the number of samples in the right child.\n",
       "\n",
       "    ``N``, ``N_t``, ``N_t_R`` and ``N_t_L`` all refer to the weighted sum,\n",
       "    if ``sample_weight`` is passed.\n",
       "\n",
       "    .. versionadded:: 0.19\n",
       "\n",
       "min_impurity_split : float, (default=1e-7)\n",
       "    Threshold for early stopping in tree growth. A node will split\n",
       "    if its impurity is above the threshold, otherwise it is a leaf.\n",
       "\n",
       "    .. deprecated:: 0.19\n",
       "       ``min_impurity_split`` has been deprecated in favor of\n",
       "       ``min_impurity_decrease`` in 0.19. The default value of\n",
       "       ``min_impurity_split`` will change from 1e-7 to 0 in 0.23 and it\n",
       "       will be removed in 0.25. Use ``min_impurity_decrease`` instead.\n",
       "\n",
       "\n",
       "bootstrap : boolean, optional (default=True)\n",
       "    Whether bootstrap samples are used when building trees.\n",
       "\n",
       "oob_score : bool (default=False)\n",
       "    Whether to use out-of-bag samples to estimate\n",
       "    the generalization accuracy.\n",
       "\n",
       "n_jobs : int or None, optional (default=None)\n",
       "    The number of jobs to run in parallel for both `fit` and `predict`.\n",
       "    ``None`` means 1 unless in a :obj:`joblib.parallel_backend` context.\n",
       "    ``-1`` means using all processors. See :term:`Glossary <n_jobs>`\n",
       "    for more details.\n",
       "\n",
       "random_state : int, RandomState instance or None, optional (default=None)\n",
       "    If int, random_state is the seed used by the random number generator;\n",
       "    If RandomState instance, random_state is the random number generator;\n",
       "    If None, the random number generator is the RandomState instance used\n",
       "    by `np.random`.\n",
       "\n",
       "verbose : int, optional (default=0)\n",
       "    Controls the verbosity when fitting and predicting.\n",
       "\n",
       "warm_start : bool, optional (default=False)\n",
       "    When set to ``True``, reuse the solution of the previous call to fit\n",
       "    and add more estimators to the ensemble, otherwise, just fit a whole\n",
       "    new forest. See :term:`the Glossary <warm_start>`.\n",
       "\n",
       "class_weight : dict, list of dicts, \"balanced\", \"balanced_subsample\" or     None, optional (default=None)\n",
       "    Weights associated with classes in the form ``{class_label: weight}``.\n",
       "    If not given, all classes are supposed to have weight one. For\n",
       "    multi-output problems, a list of dicts can be provided in the same\n",
       "    order as the columns of y.\n",
       "\n",
       "    Note that for multioutput (including multilabel) weights should be\n",
       "    defined for each class of every column in its own dict. For example,\n",
       "    for four-class multilabel classification weights should be\n",
       "    [{0: 1, 1: 1}, {0: 1, 1: 5}, {0: 1, 1: 1}, {0: 1, 1: 1}] instead of\n",
       "    [{1:1}, {2:5}, {3:1}, {4:1}].\n",
       "\n",
       "    The \"balanced\" mode uses the values of y to automatically adjust\n",
       "    weights inversely proportional to class frequencies in the input data\n",
       "    as ``n_samples / (n_classes * np.bincount(y))``\n",
       "\n",
       "    The \"balanced_subsample\" mode is the same as \"balanced\" except that\n",
       "    weights are computed based on the bootstrap sample for every tree\n",
       "    grown.\n",
       "\n",
       "    For multi-output, the weights of each column of y will be multiplied.\n",
       "\n",
       "    Note that these weights will be multiplied with sample_weight (passed\n",
       "    through the fit method) if sample_weight is specified.\n",
       "\n",
       "Attributes\n",
       "----------\n",
       "estimators_ : list of DecisionTreeClassifier\n",
       "    The collection of fitted sub-estimators.\n",
       "\n",
       "classes_ : array of shape = [n_classes] or a list of such arrays\n",
       "    The classes labels (single output problem), or a list of arrays of\n",
       "    class labels (multi-output problem).\n",
       "\n",
       "n_classes_ : int or list\n",
       "    The number of classes (single output problem), or a list containing the\n",
       "    number of classes for each output (multi-output problem).\n",
       "\n",
       "n_features_ : int\n",
       "    The number of features when ``fit`` is performed.\n",
       "\n",
       "n_outputs_ : int\n",
       "    The number of outputs when ``fit`` is performed.\n",
       "\n",
       "feature_importances_ : array of shape = [n_features]\n",
       "    The feature importances (the higher, the more important the feature).\n",
       "\n",
       "oob_score_ : float\n",
       "    Score of the training dataset obtained using an out-of-bag estimate.\n",
       "\n",
       "oob_decision_function_ : array of shape = [n_samples, n_classes]\n",
       "    Decision function computed with out-of-bag estimate on the training\n",
       "    set. If n_estimators is small it might be possible that a data point\n",
       "    was never left out during the bootstrap. In this case,\n",
       "    `oob_decision_function_` might contain NaN.\n",
       "\n",
       "Examples\n",
       "--------\n",
       ">>> from sklearn.ensemble import RandomForestClassifier\n",
       ">>> from sklearn.datasets import make_classification\n",
       "\n",
       ">>> X, y = make_classification(n_samples=1000, n_features=4,\n",
       "...                            n_informative=2, n_redundant=0,\n",
       "...                            random_state=0, shuffle=False)\n",
       ">>> clf = RandomForestClassifier(n_estimators=100, max_depth=2,\n",
       "...                              random_state=0)\n",
       ">>> clf.fit(X, y)\n",
       "RandomForestClassifier(bootstrap=True, class_weight=None, criterion='gini',\n",
       "            max_depth=2, max_features='auto', max_leaf_nodes=None,\n",
       "            min_impurity_decrease=0.0, min_impurity_split=None,\n",
       "            min_samples_leaf=1, min_samples_split=2,\n",
       "            min_weight_fraction_leaf=0.0, n_estimators=100, n_jobs=None,\n",
       "            oob_score=False, random_state=0, verbose=0, warm_start=False)\n",
       ">>> print(clf.feature_importances_)\n",
       "[0.14205973 0.76664038 0.0282433  0.06305659]\n",
       ">>> print(clf.predict([[0, 0, 0, 0]]))\n",
       "[1]\n",
       "\n",
       "Notes\n",
       "-----\n",
       "The default values for the parameters controlling the size of the trees\n",
       "(e.g. ``max_depth``, ``min_samples_leaf``, etc.) lead to fully grown and\n",
       "unpruned trees which can potentially be very large on some data sets. To\n",
       "reduce memory consumption, the complexity and size of the trees should be\n",
       "controlled by setting those parameter values.\n",
       "\n",
       "The features are always randomly permuted at each split. Therefore,\n",
       "the best found split may vary, even with the same training data,\n",
       "``max_features=n_features`` and ``bootstrap=False``, if the improvement\n",
       "of the criterion is identical for several splits enumerated during the\n",
       "search of the best split. To obtain a deterministic behaviour during\n",
       "fitting, ``random_state`` has to be fixed.\n",
       "\n",
       "References\n",
       "----------\n",
       "\n",
       ".. [1] L. Breiman, \"Random Forests\", Machine Learning, 45(1), 5-32, 2001.\n",
       "\n",
       "See also\n",
       "--------\n",
       "DecisionTreeClassifier, ExtraTreesClassifier\n",
       "\u001b[0;31mFile:\u001b[0m           /usr/local/lib/python3.7/site-packages/sklearn/ensemble/forest.py\n",
       "\u001b[0;31mType:\u001b[0m           ABCMeta\n",
       "\u001b[0;31mSubclasses:\u001b[0m     \n"
      ]
     },
     "metadata": {},
     "output_type": "display_data"
    }
   ],
   "source": [
    "RandomForestClassifier?"
   ]
  },
  {
   "cell_type": "code",
   "execution_count": null,
   "metadata": {},
   "outputs": [],
   "source": []
  }
 ],
 "metadata": {
  "kernelspec": {
   "display_name": "Python 3",
   "language": "python",
   "name": "python3"
  },
  "language_info": {
   "codemirror_mode": {
    "name": "ipython",
    "version": 3
   },
   "file_extension": ".py",
   "mimetype": "text/x-python",
   "name": "python",
   "nbconvert_exporter": "python",
   "pygments_lexer": "ipython3",
   "version": "3.7.2"
  }
 },
 "nbformat": 4,
 "nbformat_minor": 4
}

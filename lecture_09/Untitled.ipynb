{
 "cells": [
  {
   "cell_type": "code",
   "execution_count": 26,
   "metadata": {},
   "outputs": [],
   "source": [
    "import numpy as np\n",
    "import matplotlib.pyplot as plt"
   ]
  },
  {
   "cell_type": "code",
   "execution_count": 106,
   "metadata": {},
   "outputs": [
    {
     "data": {
      "text/plain": [
       "array([[ 1.3315865 ,  0.71527897, -1.54540029, -0.00838385,  0.62133597,\n",
       "        -0.72008556,  0.26551159,  0.10854853,  0.00429143, -0.17460021],\n",
       "       [ 0.43302619,  1.20303737, -0.96506567,  1.02827408,  0.22863013,\n",
       "         0.44513761, -1.13660221,  0.13513688,  1.484537  , -1.07980489],\n",
       "       [-1.97772828, -1.7433723 ,  0.26607016,  2.38496733,  1.12369125,\n",
       "         1.67262221,  0.09914922,  1.39799638, -0.27124799,  0.61320418],\n",
       "       [-0.26731719, -0.54930901,  0.1327083 , -0.47614201,  1.30847308,\n",
       "         0.19501328,  0.40020999, -0.33763234,  1.25647226, -0.7319695 ],\n",
       "       [ 0.66023155, -0.35087189, -0.93943336, -0.48933722, -0.80459114,\n",
       "        -0.21269764, -0.33914025,  0.31216994,  0.56515267, -0.14742026],\n",
       "       [-0.02590534,  0.2890942 , -0.53987907,  0.70816002,  0.84222474,\n",
       "         0.2035808 ,  2.39470366,  0.91745894, -0.11227247, -0.36218045],\n",
       "       [-0.23218226, -0.5017289 ,  1.12878515, -0.69781003, -0.08112218,\n",
       "        -0.52929608,  1.04618286, -1.41855603, -0.36249918, -0.12190569],\n",
       "       [ 0.31935642,  0.4609029 , -0.21578989,  0.98907246,  0.31475378,\n",
       "         2.46765106, -1.50832149,  0.62060066, -1.04513254, -0.79800882],\n",
       "       [ 1.98508459,  1.74481415, -1.85618548, -0.2227737 , -0.06584785,\n",
       "        -2.13171211, -0.04883051,  0.39334122,  0.21726515, -1.99439377],\n",
       "       [ 1.10770823,  0.24454398, -0.06191203, -0.75389296,  0.71195902,\n",
       "         0.91826915, -0.48209314,  0.08958761,  0.82699862, -1.95451212]])"
      ]
     },
     "execution_count": 106,
     "metadata": {},
     "output_type": "execute_result"
    }
   ],
   "source": [
    "np.random.seed(10)\n",
    "arr = np.random.randn(10, 10)\n",
    "arr"
   ]
  },
  {
   "cell_type": "code",
   "execution_count": 109,
   "metadata": {},
   "outputs": [
    {
     "data": {
      "text/plain": [
       "array([[ 0.11747566, -1.90745689, -0.92290926,  0.46975143, -0.14436676,\n",
       "        -0.40013835, -0.29598385,  0.84820861,  0.70683045, -0.78726893],\n",
       "       [ 0.29294072, -0.47080725,  2.40432561, -0.73935674, -0.31282876,\n",
       "        -0.34888192, -0.43902624,  0.14110417,  0.27304932, -1.61857075],\n",
       "       [-0.57311336, -1.32044755,  1.23620533,  2.46532508,  1.38323223,\n",
       "         0.34623312,  1.02251611,  0.16681027,  1.65671662,  0.66788961],\n",
       "       [-0.22994664, -1.12955119, -0.6399626 ,  0.31383052, -1.22583598,\n",
       "        -0.22179314,  1.33992631,  0.02930971,  1.98538575,  1.4471656 ],\n",
       "       [-0.28762941, -1.35931057, -0.04804133, -0.48078734,  0.37775309,\n",
       "         1.61440797, -1.12310404, -0.38872795,  0.33234995,  1.13497317],\n",
       "       [ 0.51071441,  0.41429764,  1.34454942,  0.49351532, -0.23700418,\n",
       "         0.05728515, -0.70707145,  0.54666484,  0.94250041, -2.97959677],\n",
       "       [ 1.21814885, -0.05652072,  0.46088845,  0.66237401, -2.29510333,\n",
       "        -1.19592931, -0.33310116, -0.79139077,  0.27417278, -0.51490992],\n",
       "       [-1.7110712 ,  0.61229731,  1.10012937,  0.56435253, -0.71279944,\n",
       "        -0.26085948,  0.54842807,  0.60319905,  1.00686114, -0.29442601],\n",
       "       [-1.42088052, -0.67894677,  0.53388481,  0.7439744 ,  2.22504964,\n",
       "         0.11718142,  0.24461452, -0.17729882, -0.40572953,  0.78177519],\n",
       "       [ 0.35347761, -0.20727949, -1.07969738, -0.12306983, -0.39098219,\n",
       "         1.25517373,  0.94712608, -1.02231069,  1.16716837, -0.57197681]])"
      ]
     },
     "execution_count": 109,
     "metadata": {},
     "output_type": "execute_result"
    }
   ],
   "source": [
    "\n",
    "arr = np.random.randn(10, 10)\n",
    "arr"
   ]
  },
  {
   "cell_type": "code",
   "execution_count": 99,
   "metadata": {},
   "outputs": [
    {
     "data": {
      "text/plain": [
       "array([[ 1.3315865 ,  0.71527897, -1.54540029, -0.00838385,  0.62133597,\n",
       "        -0.72008556,  0.26551159,  0.10854853,  0.00429143, -0.17460021],\n",
       "       [ 0.43302619,  1.20303737, -0.96506567,  1.02827408,  0.22863013,\n",
       "         0.44513761, -1.13660221,  0.13513688,  1.484537  , -1.07980489],\n",
       "       [-1.97772828, -1.7433723 ,  0.26607016,  2.38496733,  1.12369125,\n",
       "         1.67262221,  0.09914922,  1.39799638, -0.27124799,  0.61320418],\n",
       "       [-0.26731719, -0.54930901,  0.1327083 , -0.47614201,  1.30847308,\n",
       "         0.19501328,  0.40020999, -0.33763234,  1.25647226, -0.7319695 ],\n",
       "       [ 0.66023155, -0.35087189, -0.93943336, -0.48933722, -0.80459114,\n",
       "        -0.21269764, -0.33914025,  0.31216994,  0.56515267, -0.14742026],\n",
       "       [-0.02590534,  0.2890942 , -0.53987907,  0.70816002,  0.84222474,\n",
       "         0.2035808 ,  2.39470366,  0.91745894, -0.11227247, -0.36218045],\n",
       "       [-0.23218226, -0.5017289 ,  1.12878515, -0.69781003, -0.08112218,\n",
       "        -0.52929608,  1.04618286, -1.41855603, -0.36249918, -0.12190569],\n",
       "       [ 0.31935642,  0.4609029 , -0.21578989,  0.98907246,  0.31475378,\n",
       "         2.46765106, -1.50832149,  0.62060066, -1.04513254, -0.79800882],\n",
       "       [ 1.98508459,  1.74481415, -1.85618548, -0.2227737 , -0.06584785,\n",
       "        -2.13171211, -0.04883051,  0.39334122,  0.21726515, -1.99439377],\n",
       "       [ 1.10770823,  0.24454398, -0.06191203, -0.75389296,  0.71195902,\n",
       "         0.91826915, -0.48209314,  0.08958761,  0.82699862, -1.95451212]])"
      ]
     },
     "execution_count": 99,
     "metadata": {},
     "output_type": "execute_result"
    }
   ],
   "source": []
  },
  {
   "cell_type": "code",
   "execution_count": 7,
   "metadata": {},
   "outputs": [
    {
     "data": {
      "text/plain": [
       "0.025561579177988545"
      ]
     },
     "execution_count": 7,
     "metadata": {},
     "output_type": "execute_result"
    }
   ],
   "source": [
    "arr.mean()"
   ]
  },
  {
   "cell_type": "code",
   "execution_count": 5,
   "metadata": {},
   "outputs": [
    {
     "data": {
      "text/plain": [
       "0.9673658221290887"
      ]
     },
     "execution_count": 5,
     "metadata": {},
     "output_type": "execute_result"
    }
   ],
   "source": [
    "arr.std()"
   ]
  },
  {
   "cell_type": "code",
   "execution_count": 9,
   "metadata": {},
   "outputs": [
    {
     "data": {
      "text/plain": [
       "array([[-1.30076761,  1.03738288, -0.5593188 , -0.77590905, -0.7096747 ,\n",
       "         0.9328167 , -0.0281402 ,  0.99215146,  0.30863965, -0.69400785],\n",
       "       [ 2.29233173, -2.35457119,  0.77203694, -0.84744914, -0.34964532,\n",
       "         0.9585543 ,  0.92461217,  0.39938434, -0.48716356, -0.86835566],\n",
       "       [-0.40065906,  0.78937085,  0.50280763, -0.04462015, -0.50668902,\n",
       "        -1.44484799,  0.04662178, -0.73042789,  1.43659287, -0.95342757],\n",
       "       [-0.04096419, -0.10855086,  1.72326307,  0.62828512,  1.48376581,\n",
       "         0.56269058, -0.10447561,  0.00491528, -0.83769956,  0.45255463],\n",
       "       [ 1.41412513,  0.49537602,  0.32218347, -1.29110078,  1.61406932,\n",
       "         0.42450474,  1.47427136,  0.93536431, -1.80002498, -1.78143717],\n",
       "       [-0.37892641,  0.54699407,  0.63121337, -0.13426027, -0.3548385 ,\n",
       "         1.23166728,  1.25461949, -1.42806731, -0.94269537,  0.96500985],\n",
       "       [-1.40523288,  0.81806417,  0.1243708 ,  1.44018498,  1.63844748,\n",
       "        -1.26300812,  0.75823218, -0.55398905, -1.24670167,  0.71929704],\n",
       "       [ 1.58364387,  1.21162579,  0.26199726,  0.75906097, -0.36502713,\n",
       "         0.68415566, -1.45418262,  1.48692416,  0.48700633, -0.58906885],\n",
       "       [ 1.01789781, -0.20027705,  1.0019512 , -1.04573959, -0.08949934,\n",
       "        -0.13404465, -0.52395581, -1.57776695, -0.42685673,  1.04025719],\n",
       "       [-2.29582588, -2.08522145, -0.02264554,  0.22092789, -0.74401912,\n",
       "        -0.23678254, -0.37188687, -0.72334242, -0.59485234,  1.89187721]])"
      ]
     },
     "execution_count": 9,
     "metadata": {},
     "output_type": "execute_result"
    }
   ],
   "source": [
    "arr"
   ]
  },
  {
   "cell_type": "code",
   "execution_count": 11,
   "metadata": {},
   "outputs": [
    {
     "data": {
      "text/plain": [
       "array([1.41485967, 1.19678435, 0.58807901, 0.84116863, 0.94515667,\n",
       "       0.87939275, 0.85605968, 0.99896729, 0.88714747, 1.09437962])"
      ]
     },
     "execution_count": 11,
     "metadata": {},
     "output_type": "execute_result"
    }
   ],
   "source": [
    "np.std(arr, axis=0)"
   ]
  },
  {
   "cell_type": "code",
   "execution_count": 13,
   "metadata": {},
   "outputs": [
    {
     "data": {
      "text/plain": [
       "0.04495455822659829"
      ]
     },
     "execution_count": 13,
     "metadata": {},
     "output_type": "execute_result"
    }
   ],
   "source": [
    "arr.mean()"
   ]
  },
  {
   "cell_type": "code",
   "execution_count": 14,
   "metadata": {},
   "outputs": [
    {
     "data": {
      "text/plain": [
       "1.0182298703226742"
      ]
     },
     "execution_count": 14,
     "metadata": {},
     "output_type": "execute_result"
    }
   ],
   "source": [
    "arr.std()"
   ]
  },
  {
   "cell_type": "code",
   "execution_count": 73,
   "metadata": {},
   "outputs": [],
   "source": [
    "means = [10, 5]\n",
    "covs = [[2, .3], [.3, 2]]"
   ]
  },
  {
   "cell_type": "code",
   "execution_count": 78,
   "metadata": {},
   "outputs": [],
   "source": [
    "data = np.random.multivariate_normal(means, covs, 100)"
   ]
  },
  {
   "cell_type": "code",
   "execution_count": 79,
   "metadata": {},
   "outputs": [
    {
     "data": {
      "text/plain": [
       "array([10.20657546,  4.99613187])"
      ]
     },
     "execution_count": 79,
     "metadata": {},
     "output_type": "execute_result"
    }
   ],
   "source": [
    "data.mean(axis=0)"
   ]
  },
  {
   "cell_type": "code",
   "execution_count": 80,
   "metadata": {},
   "outputs": [
    {
     "data": {
      "text/plain": [
       "array([1.49601888, 1.52059521])"
      ]
     },
     "execution_count": 80,
     "metadata": {},
     "output_type": "execute_result"
    }
   ],
   "source": [
    "data.std(axis=0)"
   ]
  },
  {
   "cell_type": "code",
   "execution_count": 81,
   "metadata": {},
   "outputs": [
    {
     "data": {
      "text/plain": [
       "(-20, 20)"
      ]
     },
     "execution_count": 81,
     "metadata": {},
     "output_type": "execute_result"
    },
    {
     "data": {
      "image/png": "[encoded data removed]",
      "text/plain": [
       "<Figure size 432x288 with 1 Axes>"
      ]
     },
     "metadata": {
      "needs_background": "light"
     },
     "output_type": "display_data"
    }
   ],
   "source": [
    "plt.scatter(data[:, 0], data[:, 1])\n",
    "plt.xlim(-20, 20)\n",
    "plt.ylim(-20, 20)"
   ]
  },
  {
   "cell_type": "code",
   "execution_count": null,
   "metadata": {},
   "outputs": [],
   "source": []
  },
  {
   "cell_type": "code",
   "execution_count": null,
   "metadata": {},
   "outputs": [],
   "source": []
  },
  {
   "cell_type": "code",
   "execution_count": 82,
   "metadata": {},
   "outputs": [],
   "source": [
    "from sklearn.datasets import make_blobs"
   ]
  },
  {
   "cell_type": "code",
   "execution_count": 119,
   "metadata": {},
   "outputs": [],
   "source": [
    "X, y = make_blobs(centers=2, random_state=42)"
   ]
  },
  {
   "cell_type": "code",
   "execution_count": 120,
   "metadata": {},
   "outputs": [
    {
     "data": {
      "text/plain": [
       "array([-2.98837186,  8.82862715])"
      ]
     },
     "execution_count": 120,
     "metadata": {},
     "output_type": "execute_result"
    }
   ],
   "source": [
    "X[0]"
   ]
  },
  {
   "cell_type": "code",
   "execution_count": 121,
   "metadata": {},
   "outputs": [
    {
     "data": {
      "text/plain": [
       "0"
      ]
     },
     "execution_count": 121,
     "metadata": {},
     "output_type": "execute_result"
    }
   ],
   "source": [
    "y[0]"
   ]
  },
  {
   "cell_type": "code",
   "execution_count": 122,
   "metadata": {},
   "outputs": [
    {
     "data": {
      "text/plain": [
       "<matplotlib.collections.PathCollection at 0x10f5b1cc0>"
      ]
     },
     "execution_count": 122,
     "metadata": {},
     "output_type": "execute_result"
    },
    {
     "data": {
      "image/png": "[encoded data removed]",
      "text/plain": [
       "<Figure size 432x288 with 1 Axes>"
      ]
     },
     "metadata": {
      "needs_background": "light"
     },
     "output_type": "display_data"
    }
   ],
   "source": [
    "plt.scatter(X[:, 0], X[:, 1], c=y)"
   ]
  },
  {
   "cell_type": "code",
   "execution_count": 123,
   "metadata": {},
   "outputs": [
    {
     "name": "stdout",
     "output_type": "stream",
     "text": [
      "[-2.98837186  8.82862715] 0\n",
      "[5.72293008 3.02697174] 1\n",
      "[-3.05358035  9.12520872] 0\n",
      "[5.461939   3.86996267] 1\n",
      "[4.86733877 3.28031244] 1\n",
      "[-2.14780202 10.55232269] 0\n",
      "[4.91656964 2.80035293] 1\n",
      "[3.08921541 2.04173266] 1\n",
      "[-2.90130578  7.55077118] 0\n",
      "[-3.34841515  8.70507375] 0\n",
      "[-2.44166942  7.58953794] 0\n",
      "[3.40292813 0.65271307] 1\n",
      "[-2.97867201  9.55684617] 0\n",
      "[-3.83738367  9.21114736] 0\n",
      "[3.95985411 2.20542338] 1\n",
      "[3.85662554 1.65110817] 1\n",
      "[4.70010905 4.4364118 ] 1\n",
      "[3.56898634 2.4556421 ] 1\n",
      "[4.69808755 0.83019939] 1\n",
      "[-2.41743685  7.02671721] 0\n",
      "[4.85397258 0.72743091] 1\n",
      "[4.44751787 2.27471703] 1\n",
      "[5.43091078 1.06378223] 1\n",
      "[5.60325497 2.38595061] 1\n",
      "[4.89976163 2.75499256] 1\n",
      "[-0.92998481  9.78172086] 0\n",
      "[4.56277713 2.31432166] 1\n",
      "[-1.6966718  10.37052616] 0\n",
      "[5.1618204  2.27015436] 1\n",
      "[4.375222   4.69333885] 1\n",
      "[-2.743351    8.78014917] 0\n",
      "[-3.98771961  8.29444192] 0\n",
      "[-3.6601912   9.38998415] 0\n",
      "[-1.04354885  8.78850983] 0\n",
      "[-2.16557933  7.25124597] 0\n",
      "[5.22673593 4.16362531] 1\n",
      "[4.81305976 2.35848706] 1\n",
      "[-2.17793419  9.98983126] 0\n",
      "[-3.31769123  8.51252908] 0\n",
      "[-2.30033403  7.054616  ] 0\n",
      "[-1.77073104  9.18565441] 0\n",
      "[5.45339605 0.74230537] 1\n",
      "[3.66519717 2.76025429] 1\n",
      "[5.11311646 1.90034077] 1\n",
      "[4.39449072 1.21943352] 1\n",
      "[-1.03130358  8.49601591] 0\n",
      "[-2.54502366 10.57892978] 0\n",
      "[-2.21307735  9.2753414 ] 0\n",
      "[-3.6155326  7.8180795] 0\n",
      "[3.44857534 2.62972329] 1\n",
      "[4.65288073 3.42670376] 1\n",
      "[-4.23411546  8.4519986 ] 0\n",
      "[-2.97261532  8.54855637] 0\n",
      "[4.9976662  2.53395421] 1\n",
      "[-2.26723535  7.10100588] 0\n",
      "[5.26554618 1.11601213] 1\n",
      "[-2.41212007  9.98293112] 0\n",
      "[4.89742923 1.89872377] 1\n",
      "[3.75036441 1.1573594 ] 1\n",
      "[-2.1475616   8.36916637] 0\n",
      "[-2.42215055  8.71527878] 0\n",
      "[4.41641605 2.68717018] 1\n",
      "[-3.03895783  9.52755356] 0\n",
      "[2.72110762 1.94665581] 1\n",
      "[5.79847442 1.15248737] 1\n",
      "[3.7560214  2.12689479] 1\n",
      "[6.52606474 2.1477475 ] 1\n",
      "[-3.92456837  8.59364081] 0\n",
      "[3.0323956  2.15780354] 1\n",
      "[4.89037169 2.31961789] 1\n",
      "[-2.96983639 10.07140835] 0\n",
      "[3.64934251 1.40687195] 1\n",
      "[6.50565335 2.4470026 ] 1\n",
      "[5.78270165 2.72510272] 1\n",
      "[4.19336388 2.82956848] 1\n",
      "[4.47859312 2.37722054] 1\n",
      "[4.7395302  1.46969403] 1\n",
      "[-2.58120774 10.01781903] 0\n",
      "[3.7204546  3.52310409] 1\n",
      "[-2.52269485  7.9565752 ] 0\n",
      "[4.93295131 1.25881827] 1\n",
      "[-3.11090424 10.86656431] 0\n",
      "[-1.68665271  7.79344248] 0\n",
      "[-3.4172217   7.60198243] 0\n",
      "[3.57757512 2.44676211] 1\n",
      "[-2.62484591  8.71318243] 0\n",
      "[-3.21125072  8.68662398] 0\n",
      "[-5.12894273  9.83618863] 0\n",
      "[4.60516707 0.80449165] 1\n",
      "[-3.52202874  9.32853346] 0\n",
      "[6.04267315 0.57131862] 1\n",
      "[-3.10983631  8.72259238] 0\n",
      "[-2.18511365  8.62920385] 0\n",
      "[-3.18611962  9.62596242] 0\n",
      "[-2.85191214  8.21200886] 0\n",
      "[-1.4781981   9.94556625] 0\n",
      "[-1.59379551  9.34303724] 0\n",
      "[3.79308512 0.45832246] 1\n",
      "[-2.72886951  9.3713987 ] 0\n",
      "[-2.50408417  8.77969899] 0\n"
     ]
    }
   ],
   "source": [
    "for point, color in zip(X, y):\n",
    "    print(point, color)"
   ]
  },
  {
   "cell_type": "code",
   "execution_count": null,
   "metadata": {},
   "outputs": [],
   "source": []
  }
 ],
 "metadata": {
  "kernelspec": {
   "display_name": "Python 3",
   "language": "python",
   "name": "python3"
  },
  "language_info": {
   "codemirror_mode": {
    "name": "ipython",
    "version": 3
   },
   "file_extension": ".py",
   "mimetype": "text/x-python",
   "name": "python",
   "nbconvert_exporter": "python",
   "pygments_lexer": "ipython3",
   "version": "3.7.2"
  }
 },
 "nbformat": 4,
 "nbformat_minor": 4
}

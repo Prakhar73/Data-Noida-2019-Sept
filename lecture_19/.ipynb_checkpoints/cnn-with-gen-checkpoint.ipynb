{
 "cells": [
  {
   "cell_type": "code",
   "execution_count": 1,
   "metadata": {},
   "outputs": [],
   "source": [
    "from tensorflow.keras.layers import Dense, Input, Dropout, Conv2D, MaxPooling2D, Flatten\n",
    "from tensorflow.keras.models import Model\n",
    "\n",
    "import pandas as pd\n",
    "import numpy as np\n",
    "from sklearn.preprocessing import OneHotEncoder\n",
    "\n",
    "import matplotlib.pyplot as plt"
   ]
  },
  {
   "cell_type": "code",
   "execution_count": 2,
   "metadata": {},
   "outputs": [],
   "source": [
    "in_layer = Input(shape=(28, 28, 1))\n",
    "conv1 = Conv2D(16, (3, 3), activation=\"relu\")(in_layer)\n",
    "pool1 = MaxPooling2D()(conv1)\n",
    "conv2 = Conv2D(32, (3, 3), activation=\"relu\")(pool1)\n",
    "pool2 = MaxPooling2D()(conv2)\n",
    "flat = Flatten()(pool2)\n",
    "d1 = Dense(400, activation=\"sigmoid\")(flat)\n",
    "d2 = Dense(100, activation=\"sigmoid\")(d1)\n",
    "drop = Dropout(rate=0.2)(d2)\n",
    "d3 = Dense(10, activation=\"softmax\")(drop)"
   ]
  },
  {
   "cell_type": "code",
   "execution_count": 3,
   "metadata": {},
   "outputs": [],
   "source": [
    "model = Model(in_layer, d3)"
   ]
  },
  {
   "cell_type": "code",
   "execution_count": 4,
   "metadata": {},
   "outputs": [],
   "source": [
    "model.compile(optimizer=\"adam\", loss=\"categorical_crossentropy\",metrics=[\"accuracy\"])"
   ]
  },
  {
   "cell_type": "code",
   "execution_count": 5,
   "metadata": {},
   "outputs": [],
   "source": [
    "mnist = pd.read_csv(\"../datasets/mnist_train_small.csv\", header=None).values\n",
    "\n",
    "X, y = mnist[:, 1:], mnist[:, :1]\n",
    "\n",
    "ohe = OneHotEncoder(categories=\"auto\")\n",
    "\n",
    "y_hot = ohe.fit_transform(y).todense()"
   ]
  },
  {
   "cell_type": "code",
   "execution_count": 28,
   "metadata": {},
   "outputs": [
    {
     "name": "stdout",
     "output_type": "stream",
     "text": [
      "Train on 20000 samples\n",
      "Epoch 1/10\n",
      "20000/20000 [==============================] - 4s 202us/sample - loss: 0.1388 - accuracy: 0.9736\n",
      "Epoch 2/10\n",
      "20000/20000 [==============================] - 4s 189us/sample - loss: 0.1133 - accuracy: 0.9782\n",
      "Epoch 3/10\n",
      "20000/20000 [==============================] - 4s 189us/sample - loss: 0.0950 - accuracy: 0.9803\n",
      "Epoch 4/10\n",
      "20000/20000 [==============================] - 4s 177us/sample - loss: 0.0790 - accuracy: 0.9852\n",
      "Epoch 5/10\n",
      "20000/20000 [==============================] - 4s 199us/sample - loss: 0.0675 - accuracy: 0.9874\n",
      "Epoch 6/10\n",
      "20000/20000 [==============================] - 4s 182us/sample - loss: 0.0583 - accuracy: 0.9895\n",
      "Epoch 7/10\n",
      "20000/20000 [==============================] - 4s 180us/sample - loss: 0.0503 - accuracy: 0.9908\n",
      "Epoch 8/10\n",
      "20000/20000 [==============================] - 4s 184us/sample - loss: 0.0434 - accuracy: 0.9930\n",
      "Epoch 9/10\n",
      "20000/20000 [==============================] - 4s 183us/sample - loss: 0.0381 - accuracy: 0.9937\n",
      "Epoch 10/10\n",
      "20000/20000 [==============================] - 4s 204us/sample - loss: 0.0329 - accuracy: 0.9952\n"
     ]
    },
    {
     "data": {
      "text/plain": [
       "<tensorflow.python.keras.callbacks.History at 0x14319db38>"
      ]
     },
     "execution_count": 28,
     "metadata": {},
     "output_type": "execute_result"
    }
   ],
   "source": [
    "model.fit(X.reshape(-1, 28, 28, 1), y_hot, epochs=10, batch_size=1000)"
   ]
  },
  {
   "cell_type": "code",
   "execution_count": 38,
   "metadata": {},
   "outputs": [
    {
     "data": {
      "text/plain": [
       "array([[9, 5, 4, 0, 7, 6, 1, 8, 3, 2]])"
      ]
     },
     "execution_count": 38,
     "metadata": {},
     "output_type": "execute_result"
    }
   ],
   "source": [
    "from keras.preprocessing.image import load_img\n",
    "\n",
    "img = load_img(\"../datasets/nums/seven.jpeg\", target_size=(28, 28), grayscale=True)\n",
    "np_img = np.array(img)\n",
    "np_mod = (255-np_img)\n",
    "model.predict(np_mod.reshape(-1, 28, 28, 1).astype(float)).argsort(axis=1)"
   ]
  },
  {
   "cell_type": "code",
   "execution_count": 11,
   "metadata": {},
   "outputs": [
    {
     "data": {
      "text/plain": [
       "array([1])"
      ]
     },
     "execution_count": 11,
     "metadata": {},
     "output_type": "execute_result"
    }
   ],
   "source": []
  },
  {
   "cell_type": "code",
   "execution_count": 20,
   "metadata": {},
   "outputs": [],
   "source": [
    "temp = np_mod.reshape(1, 28, 28, 1)"
   ]
  },
  {
   "cell_type": "code",
   "execution_count": 23,
   "metadata": {},
   "outputs": [
    {
     "data": {
      "text/plain": [
       "(28, 28, 1)"
      ]
     },
     "execution_count": 23,
     "metadata": {},
     "output_type": "execute_result"
    }
   ],
   "source": [
    "X.reshape(-1, 28, 28, 1)[0].shape"
   ]
  },
  {
   "cell_type": "code",
   "execution_count": 46,
   "metadata": {},
   "outputs": [],
   "source": [
    "(w, b) = model.layers[-1].get_weights()"
   ]
  },
  {
   "cell_type": "code",
   "execution_count": 52,
   "metadata": {},
   "outputs": [
    {
     "data": {
      "text/plain": [
       "(100, 10)"
      ]
     },
     "execution_count": 52,
     "metadata": {},
     "output_type": "execute_result"
    }
   ],
   "source": [
    "w.shape"
   ]
  },
  {
   "cell_type": "code",
   "execution_count": 50,
   "metadata": {},
   "outputs": [
    {
     "data": {
      "text/plain": [
       "(10,)"
      ]
     },
     "execution_count": 50,
     "metadata": {},
     "output_type": "execute_result"
    }
   ],
   "source": [
    "b.shape"
   ]
  },
  {
   "cell_type": "code",
   "execution_count": 49,
   "metadata": {},
   "outputs": [
    {
     "data": {
      "text/plain": [
       "[<tensorflow.python.keras.engine.input_layer.InputLayer at 0x12ed55978>,\n",
       " <tensorflow.python.keras.layers.convolutional.Conv2D at 0x103507710>,\n",
       " <tensorflow.python.keras.layers.pooling.MaxPooling2D at 0x12ed55940>,\n",
       " <tensorflow.python.keras.layers.convolutional.Conv2D at 0x12edd7780>,\n",
       " <tensorflow.python.keras.layers.pooling.MaxPooling2D at 0x12edd7240>,\n",
       " <tensorflow.python.keras.layers.core.Flatten at 0x12ee5c438>,\n",
       " <tensorflow.python.keras.layers.core.Dense at 0x12ee5c400>,\n",
       " <tensorflow.python.keras.layers.core.Dense at 0x12ee67b00>,\n",
       " <tensorflow.python.keras.layers.core.Dropout at 0x12ee67b70>,\n",
       " <tensorflow.python.keras.layers.core.Dense at 0x12ee8cf28>]"
      ]
     },
     "execution_count": 49,
     "metadata": {},
     "output_type": "execute_result"
    }
   ],
   "source": [
    "model.layers"
   ]
  },
  {
   "cell_type": "code",
   "execution_count": null,
   "metadata": {},
   "outputs": [],
   "source": []
  },
  {
   "cell_type": "code",
   "execution_count": 53,
   "metadata": {},
   "outputs": [
    {
     "name": "stdout",
     "output_type": "stream",
     "text": [
      "[master 5b2170b] sess\n",
      " 6 files changed, 774 insertions(+)\n",
      " create mode 100644 lecture_19/.ipynb_checkpoints/cnn-checkpoint.ipynb\n",
      " create mode 100644 lecture_19/.ipynb_checkpoints/cnn_filter-checkpoint.ipynb\n",
      " create mode 100644 lecture_19/.ipynb_checkpoints/dense_revisit-checkpoint.ipynb\n",
      " create mode 100644 lecture_19/cnn.ipynb\n",
      " create mode 100644 lecture_19/cnn_filter.ipynb\n",
      " create mode 100644 lecture_19/dense_revisit.ipynb\n",
      "Enumerating objects: 8, done.\n",
      "Counting objects: 100% (8/8), done.\n",
      "Delta compression using up to 4 threads.\n",
      "Compressing objects: 100% (7/7), done.\n",
      "Writing objects: 100% (7/7), 134.41 KiB | 13.44 MiB/s, done.\n",
      "Total 7 (delta 2), reused 0 (delta 0)\n",
      "remote: Resolving deltas: 100% (2/2), completed with 1 local object.\u001b[K\n",
      "To https://github.com/coding-blocks-archives/Data-Noida-2019-Sept.git\n",
      "   2bd3c09..5b2170b  master -> master\n"
     ]
    }
   ],
   "source": [
    "! push \"sess\" "
   ]
  },
  {
   "cell_type": "code",
   "execution_count": null,
   "metadata": {},
   "outputs": [],
   "source": []
  }
 ],
 "metadata": {
  "kernelspec": {
   "display_name": "Python 3",
   "language": "python",
   "name": "python3"
  },
  "language_info": {
   "codemirror_mode": {
    "name": "ipython",
    "version": 3
   },
   "file_extension": ".py",
   "mimetype": "text/x-python",
   "name": "python",
   "nbconvert_exporter": "python",
   "pygments_lexer": "ipython3",
   "version": "3.7.2"
  }
 },
 "nbformat": 4,
 "nbformat_minor": 4
}

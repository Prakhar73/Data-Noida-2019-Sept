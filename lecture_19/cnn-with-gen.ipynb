{
 "cells": [
  {
   "cell_type": "code",
   "execution_count": 2,
   "metadata": {},
   "outputs": [],
   "source": [
    "from tensorflow.keras.layers import Dense, Input, Dropout, Conv2D, MaxPooling2D, Flatten\n",
    "from tensorflow.keras.models import Model\n",
    "\n",
    "import pandas as pd\n",
    "import numpy as np\n",
    "from sklearn.preprocessing import OneHotEncoder\n",
    "\n",
    "import matplotlib.pyplot as plt\n",
    "\n",
    "from keras.preprocessing.image import ImageDataGenerator"
   ]
  },
  {
   "cell_type": "code",
   "execution_count": 39,
   "metadata": {},
   "outputs": [],
   "source": [
    "in_layer = Input(shape=(28, 28, 1))\n",
    "conv1 = Conv2D(16, (3, 3), activation=\"relu\")(in_layer)\n",
    "conv2 = Conv2D(32, (3, 3), activation=\"relu\")(conv1)\n",
    "conv3 = Conv2D(32, (3, 3), activation=\"relu\")(conv2)\n",
    "pool2 = MaxPooling2D()(conv3)\n",
    "flat = Flatten()(pool2)\n",
    "d1 = Dense(400, activation=\"tanh\")(flat)\n",
    "d2 = Dense(100, activation=\"tanh\")(d1)\n",
    "drop = Dropout(rate=0.2)(d2)\n",
    "d3 = Dense(10, activation=\"softmax\")(drop)"
   ]
  },
  {
   "cell_type": "code",
   "execution_count": 40,
   "metadata": {},
   "outputs": [],
   "source": [
    "model = Model(in_layer, d3)\n",
    "\n",
    "model.compile(optimizer=\"adam\", loss=\"categorical_crossentropy\",metrics=[\"accuracy\"])"
   ]
  },
  {
   "cell_type": "code",
   "execution_count": 42,
   "metadata": {},
   "outputs": [],
   "source": [
    "mnist = pd.read_csv(\"../datasets/mnist_train_small.csv\", header=None).values\n",
    "\n",
    "X, y = mnist[:, 1:].reshape(-1, 28, 28, 1), mnist[:, :1]\n",
    "\n",
    "ohe = OneHotEncoder(categories=\"auto\")\n",
    "\n",
    "y_hot = ohe.fit_transform(y).todense()"
   ]
  },
  {
   "cell_type": "code",
   "execution_count": 43,
   "metadata": {},
   "outputs": [],
   "source": [
    "img_gen = ImageDataGenerator(rotation_range=10, shear_range=.2, zoom_range=.1)\n",
    "gen = img_gen.flow(X, y_hot, batch_size=1000)"
   ]
  },
  {
   "cell_type": "code",
   "execution_count": null,
   "metadata": {},
   "outputs": [],
   "source": []
  },
  {
   "cell_type": "code",
   "execution_count": 44,
   "metadata": {},
   "outputs": [
    {
     "name": "stdout",
     "output_type": "stream",
     "text": [
      "Epoch 1/10\n",
      "10/10 [==============================] - 10s 1s/step - loss: 1.5296 - accuracy: 0.5253\n",
      "Epoch 2/10\n",
      "10/10 [==============================] - 9s 916ms/step - loss: 0.6302 - accuracy: 0.8229\n",
      "Epoch 3/10\n",
      "10/10 [==============================] - 10s 972ms/step - loss: 0.3783 - accuracy: 0.8990\n",
      "Epoch 4/10\n",
      "10/10 [==============================] - 9s 913ms/step - loss: 0.2680 - accuracy: 0.9260\n",
      "Epoch 5/10\n",
      "10/10 [==============================] - 10s 1s/step - loss: 0.2024 - accuracy: 0.9450\n",
      "Epoch 6/10\n",
      "10/10 [==============================] - 9s 924ms/step - loss: 0.1639 - accuracy: 0.9543\n",
      "Epoch 7/10\n",
      "10/10 [==============================] - 10s 998ms/step - loss: 0.1389 - accuracy: 0.9639\n",
      "Epoch 8/10\n",
      "10/10 [==============================] - 10s 956ms/step - loss: 0.1094 - accuracy: 0.9711\n",
      "Epoch 9/10\n",
      "10/10 [==============================] - 10s 997ms/step - loss: 0.0960 - accuracy: 0.9735\n",
      "Epoch 10/10\n",
      "10/10 [==============================] - 9s 928ms/step - loss: 0.0918 - accuracy: 0.9749\n"
     ]
    },
    {
     "data": {
      "text/plain": [
       "<tensorflow.python.keras.callbacks.History at 0x1366f4828>"
      ]
     },
     "execution_count": 44,
     "metadata": {},
     "output_type": "execute_result"
    }
   ],
   "source": [
    "model.fit_generator(gen, steps_per_epoch=10, epochs=10)"
   ]
  },
  {
   "cell_type": "code",
   "execution_count": 48,
   "metadata": {},
   "outputs": [
    {
     "data": {
      "text/plain": [
       "array([[7, 4, 6, 0, 5, 9, 1, 2, 3, 8]])"
      ]
     },
     "execution_count": 48,
     "metadata": {},
     "output_type": "execute_result"
    }
   ],
   "source": [
    "from keras.preprocessing.image import load_img\n",
    "\n",
    "img = load_img(\"../datasets/nums/three.jpeg\", target_size=(28, 28), grayscale=True)\n",
    "np_img = np.array(img)\n",
    "np_mod = (255-np_img)\n",
    "model.predict(np_mod.reshape(-1, 28, 28, 1).astype(float)).argsort(axis=1)"
   ]
  },
  {
   "cell_type": "code",
   "execution_count": 49,
   "metadata": {},
   "outputs": [
    {
     "name": "stdout",
     "output_type": "stream",
     "text": [
      "Model: \"model_3\"\n",
      "_________________________________________________________________\n",
      "Layer (type)                 Output Shape              Param #   \n",
      "=================================================================\n",
      "input_4 (InputLayer)         [(None, 28, 28, 1)]       0         \n",
      "_________________________________________________________________\n",
      "conv2d_6 (Conv2D)            (None, 26, 26, 16)        160       \n",
      "_________________________________________________________________\n",
      "conv2d_7 (Conv2D)            (None, 24, 24, 32)        4640      \n",
      "_________________________________________________________________\n",
      "conv2d_8 (Conv2D)            (None, 22, 22, 32)        9248      \n",
      "_________________________________________________________________\n",
      "max_pooling2d_6 (MaxPooling2 (None, 11, 11, 32)        0         \n",
      "_________________________________________________________________\n",
      "flatten_3 (Flatten)          (None, 3872)              0         \n",
      "_________________________________________________________________\n",
      "dense_9 (Dense)              (None, 400)               1549200   \n",
      "_________________________________________________________________\n",
      "dense_10 (Dense)             (None, 100)               40100     \n",
      "_________________________________________________________________\n",
      "dropout_3 (Dropout)          (None, 100)               0         \n",
      "_________________________________________________________________\n",
      "dense_11 (Dense)             (None, 10)                1010      \n",
      "=================================================================\n",
      "Total params: 1,604,358\n",
      "Trainable params: 1,604,358\n",
      "Non-trainable params: 0\n",
      "_________________________________________________________________\n"
     ]
    }
   ],
   "source": [
    "model.summary()"
   ]
  },
  {
   "cell_type": "code",
   "execution_count": 35,
   "metadata": {},
   "outputs": [],
   "source": [
    "temp = np_mod.reshape(1, 28, 28, 1)"
   ]
  },
  {
   "cell_type": "code",
   "execution_count": 36,
   "metadata": {},
   "outputs": [
    {
     "data": {
      "text/plain": [
       "(28, 28, 1)"
      ]
     },
     "execution_count": 36,
     "metadata": {},
     "output_type": "execute_result"
    }
   ],
   "source": [
    "X.reshape(-1, 28, 28, 1)[0].shape"
   ]
  },
  {
   "cell_type": "code",
   "execution_count": 46,
   "metadata": {},
   "outputs": [],
   "source": [
    "(w, b) = model.layers[-1].get_weights()"
   ]
  },
  {
   "cell_type": "code",
   "execution_count": 52,
   "metadata": {},
   "outputs": [
    {
     "data": {
      "text/plain": [
       "(100, 10)"
      ]
     },
     "execution_count": 52,
     "metadata": {},
     "output_type": "execute_result"
    }
   ],
   "source": [
    "w.shape"
   ]
  },
  {
   "cell_type": "code",
   "execution_count": 51,
   "metadata": {},
   "outputs": [
    {
     "data": {
      "text/plain": [
       "[0.07538791596889496, 0.9786]"
      ]
     },
     "execution_count": 51,
     "metadata": {},
     "output_type": "execute_result"
    }
   ],
   "source": [
    "model.evaluate_generator(gen, steps=5)"
   ]
  },
  {
   "cell_type": "code",
   "execution_count": 49,
   "metadata": {},
   "outputs": [
    {
     "data": {
      "text/plain": [
       "[<tensorflow.python.keras.engine.input_layer.InputLayer at 0x12ed55978>,\n",
       " <tensorflow.python.keras.layers.convolutional.Conv2D at 0x103507710>,\n",
       " <tensorflow.python.keras.layers.pooling.MaxPooling2D at 0x12ed55940>,\n",
       " <tensorflow.python.keras.layers.convolutional.Conv2D at 0x12edd7780>,\n",
       " <tensorflow.python.keras.layers.pooling.MaxPooling2D at 0x12edd7240>,\n",
       " <tensorflow.python.keras.layers.core.Flatten at 0x12ee5c438>,\n",
       " <tensorflow.python.keras.layers.core.Dense at 0x12ee5c400>,\n",
       " <tensorflow.python.keras.layers.core.Dense at 0x12ee67b00>,\n",
       " <tensorflow.python.keras.layers.core.Dropout at 0x12ee67b70>,\n",
       " <tensorflow.python.keras.layers.core.Dense at 0x12ee8cf28>]"
      ]
     },
     "execution_count": 49,
     "metadata": {},
     "output_type": "execute_result"
    }
   ],
   "source": [
    "model.layers"
   ]
  },
  {
   "cell_type": "code",
   "execution_count": null,
   "metadata": {},
   "outputs": [],
   "source": []
  },
  {
   "cell_type": "code",
   "execution_count": 53,
   "metadata": {},
   "outputs": [
    {
     "name": "stdout",
     "output_type": "stream",
     "text": [
      "[master 5b2170b] sess\n",
      " 6 files changed, 774 insertions(+)\n",
      " create mode 100644 lecture_19/.ipynb_checkpoints/cnn-checkpoint.ipynb\n",
      " create mode 100644 lecture_19/.ipynb_checkpoints/cnn_filter-checkpoint.ipynb\n",
      " create mode 100644 lecture_19/.ipynb_checkpoints/dense_revisit-checkpoint.ipynb\n",
      " create mode 100644 lecture_19/cnn.ipynb\n",
      " create mode 100644 lecture_19/cnn_filter.ipynb\n",
      " create mode 100644 lecture_19/dense_revisit.ipynb\n",
      "Enumerating objects: 8, done.\n",
      "Counting objects: 100% (8/8), done.\n",
      "Delta compression using up to 4 threads.\n",
      "Compressing objects: 100% (7/7), done.\n",
      "Writing objects: 100% (7/7), 134.41 KiB | 13.44 MiB/s, done.\n",
      "Total 7 (delta 2), reused 0 (delta 0)\n",
      "remote: Resolving deltas: 100% (2/2), completed with 1 local object.\u001b[K\n",
      "To https://github.com/coding-blocks-archives/Data-Noida-2019-Sept.git\n",
      "   2bd3c09..5b2170b  master -> master\n"
     ]
    }
   ],
   "source": [
    "! push \"sess\" "
   ]
  },
  {
   "cell_type": "code",
   "execution_count": null,
   "metadata": {},
   "outputs": [],
   "source": []
  }
 ],
 "metadata": {
  "kernelspec": {
   "display_name": "Python 3",
   "language": "python",
   "name": "python3"
  },
  "language_info": {
   "codemirror_mode": {
    "name": "ipython",
    "version": 3
   },
   "file_extension": ".py",
   "mimetype": "text/x-python",
   "name": "python",
   "nbconvert_exporter": "python",
   "pygments_lexer": "ipython3",
   "version": "3.7.2"
  }
 },
 "nbformat": 4,
 "nbformat_minor": 4
}

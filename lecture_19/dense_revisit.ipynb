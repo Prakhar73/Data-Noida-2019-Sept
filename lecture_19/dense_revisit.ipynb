{
 "cells": [
  {
   "cell_type": "code",
   "execution_count": 124,
   "metadata": {},
   "outputs": [],
   "source": [
    "from tensorflow.keras.layers import Dense, Input, Dropout\n",
    "from tensorflow.keras.models import Model\n",
    "\n",
    "import pandas as pd\n",
    "import numpy as np\n",
    "from sklearn.preprocessing import OneHotEncoder\n",
    "\n",
    "import matplotlib.pyplot as plt"
   ]
  },
  {
   "cell_type": "code",
   "execution_count": 125,
   "metadata": {},
   "outputs": [],
   "source": [
    "in_layer = Input(shape=[784])\n",
    "d1 = Dense(400, activation=\"sigmoid\")(in_layer)\n",
    "d2 = Dense(100, activation=\"sigmoid\")(d1)\n",
    "drop = Dropout(rate=0.2)(d2)\n",
    "d3 = Dense(10, activation=\"softmax\")(drop)"
   ]
  },
  {
   "cell_type": "code",
   "execution_count": 126,
   "metadata": {},
   "outputs": [],
   "source": [
    "model = Model(in_layer, d3)"
   ]
  },
  {
   "cell_type": "code",
   "execution_count": 127,
   "metadata": {},
   "outputs": [],
   "source": [
    "# model.summary()"
   ]
  },
  {
   "cell_type": "code",
   "execution_count": 128,
   "metadata": {},
   "outputs": [],
   "source": [
    "model.compile(optimizer=\"adam\", loss=\"categorical_crossentropy\",metrics=[\"accuracy\"])"
   ]
  },
  {
   "cell_type": "code",
   "execution_count": 129,
   "metadata": {},
   "outputs": [],
   "source": [
    "mnist = pd.read_csv(\"../datasets/mnist_train_small.csv\", header=None).values\n",
    "\n",
    "X, y = mnist[:, 1:], mnist[:, :1]\n",
    "\n",
    "ohe = OneHotEncoder(categories=\"auto\")\n",
    "\n",
    "y_hot = ohe.fit_transform(y).todense()"
   ]
  },
  {
   "cell_type": "code",
   "execution_count": 133,
   "metadata": {},
   "outputs": [
    {
     "name": "stdout",
     "output_type": "stream",
     "text": [
      "Train on 16000 samples, validate on 4000 samples\n",
      "Epoch 1/10\n",
      "16000/16000 [==============================] - 1s 46us/sample - loss: 1.8779 - accuracy: 0.4266 - val_loss: 1.3260 - val_accuracy: 0.6902\n",
      "Epoch 2/10\n",
      "16000/16000 [==============================] - 0s 20us/sample - loss: 1.1207 - accuracy: 0.7432 - val_loss: 0.8490 - val_accuracy: 0.8313\n",
      "Epoch 3/10\n",
      "16000/16000 [==============================] - 0s 27us/sample - loss: 0.7632 - accuracy: 0.8326 - val_loss: 0.6168 - val_accuracy: 0.8748\n",
      "Epoch 4/10\n",
      "16000/16000 [==============================] - 0s 26us/sample - loss: 0.5779 - accuracy: 0.8738 - val_loss: 0.4878 - val_accuracy: 0.8955\n",
      "Epoch 5/10\n",
      "16000/16000 [==============================] - 0s 27us/sample - loss: 0.4689 - accuracy: 0.8949 - val_loss: 0.4116 - val_accuracy: 0.9060\n",
      "Epoch 6/10\n",
      "16000/16000 [==============================] - 0s 24us/sample - loss: 0.4033 - accuracy: 0.9042 - val_loss: 0.3662 - val_accuracy: 0.9125\n",
      "Epoch 7/10\n",
      "16000/16000 [==============================] - 0s 24us/sample - loss: 0.3595 - accuracy: 0.9144 - val_loss: 0.3329 - val_accuracy: 0.9168\n",
      "Epoch 8/10\n",
      "16000/16000 [==============================] - 0s 25us/sample - loss: 0.3235 - accuracy: 0.9210 - val_loss: 0.3097 - val_accuracy: 0.9202\n",
      "Epoch 9/10\n",
      "16000/16000 [==============================] - 0s 24us/sample - loss: 0.2965 - accuracy: 0.9261 - val_loss: 0.2910 - val_accuracy: 0.9243\n",
      "Epoch 10/10\n",
      "16000/16000 [==============================] - 0s 25us/sample - loss: 0.2758 - accuracy: 0.9289 - val_loss: 0.2724 - val_accuracy: 0.9277\n"
     ]
    }
   ],
   "source": [
    "hist = model.fit(X, y_hot, batch_size=1000, epochs=10, validation_split=0.2)"
   ]
  },
  {
   "cell_type": "code",
   "execution_count": null,
   "metadata": {},
   "outputs": [],
   "source": []
  },
  {
   "cell_type": "code",
   "execution_count": 134,
   "metadata": {},
   "outputs": [
    {
     "data": {
      "text/plain": [
       "{'loss': [1.8778664991259575,\n",
       "  1.1207120642066002,\n",
       "  0.7631940804421902,\n",
       "  0.5778898186981678,\n",
       "  0.46890585869550705,\n",
       "  0.4033345468342304,\n",
       "  0.3595088869333267,\n",
       "  0.32346283085644245,\n",
       "  0.29652678593993187,\n",
       "  0.27580250333994627],\n",
       " 'accuracy': [0.4265625,\n",
       "  0.7431875,\n",
       "  0.832625,\n",
       "  0.8738125,\n",
       "  0.894875,\n",
       "  0.9041875,\n",
       "  0.914375,\n",
       "  0.921,\n",
       "  0.9260625,\n",
       "  0.9289375],\n",
       " 'val_loss': [1.3260459899902344,\n",
       "  0.8490144163370132,\n",
       "  0.6167925298213959,\n",
       "  0.4877718314528465,\n",
       "  0.41163116693496704,\n",
       "  0.3661910146474838,\n",
       "  0.332920178771019,\n",
       "  0.30967266112565994,\n",
       "  0.29101990163326263,\n",
       "  0.2724081948399544],\n",
       " 'val_accuracy': [0.69025,\n",
       "  0.83125,\n",
       "  0.87475,\n",
       "  0.8955,\n",
       "  0.906,\n",
       "  0.9125,\n",
       "  0.91675,\n",
       "  0.92025,\n",
       "  0.92425,\n",
       "  0.92775]}"
      ]
     },
     "execution_count": 134,
     "metadata": {},
     "output_type": "execute_result"
    }
   ],
   "source": [
    "hist.history"
   ]
  },
  {
   "cell_type": "code",
   "execution_count": 135,
   "metadata": {},
   "outputs": [
    {
     "data": {
      "text/plain": [
       "<matplotlib.legend.Legend at 0x141388da0>"
      ]
     },
     "execution_count": 135,
     "metadata": {},
     "output_type": "execute_result"
    },
    {
     "data": {
      "image/png": "[encoded data removed]",
      "text/plain": [
       "<Figure size 432x288 with 1 Axes>"
      ]
     },
     "metadata": {
      "needs_background": "light"
     },
     "output_type": "display_data"
    }
   ],
   "source": [
    "plt.plot(hist.history[\"loss\"], label=\"loss\")\n",
    "plt.plot(hist.history[\"accuracy\"], label = \"accuracy\")\n",
    "plt.plot(hist.history[\"val_loss\"])\n",
    "plt.plot(hist.history[\"val_accuracy\"])\n",
    "plt.legend()"
   ]
  },
  {
   "cell_type": "code",
   "execution_count": 136,
   "metadata": {},
   "outputs": [],
   "source": [
    "from keras.preprocessing.image import load_img\n",
    "\n",
    "img = load_img(\"../datasets/nums/seven.jpeg\", target_size=(28, 28), grayscale=True)\n",
    "np_img = np.array(img)\n",
    "np_mod = (np_img < 100).astype(int)*255\n",
    "model.predict(np_mod.reshape(1, 784)).argmax(axis=1)"
   ]
  },
  {
   "cell_type": "code",
   "execution_count": 148,
   "metadata": {},
   "outputs": [
    {
     "data": {
      "text/plain": [
       "<matplotlib.image.AxesImage at 0x140a88588>"
      ]
     },
     "execution_count": 148,
     "metadata": {},
     "output_type": "execute_result"
    },
    {
     "data": {
      "image/png": "[encoded data removed]",
      "text/plain": [
       "<Figure size 432x288 with 1 Axes>"
      ]
     },
     "metadata": {
      "needs_background": "light"
     },
     "output_type": "display_data"
    }
   ],
   "source": [
    "plt.imshow(np_mod)"
   ]
  },
  {
   "cell_type": "code",
   "execution_count": null,
   "metadata": {},
   "outputs": [],
   "source": []
  }
 ],
 "metadata": {
  "kernelspec": {
   "display_name": "Python 3",
   "language": "python",
   "name": "python3"
  },
  "language_info": {
   "codemirror_mode": {
    "name": "ipython",
    "version": 3
   },
   "file_extension": ".py",
   "mimetype": "text/x-python",
   "name": "python",
   "nbconvert_exporter": "python",
   "pygments_lexer": "ipython3",
   "version": "3.7.2"
  }
 },
 "nbformat": 4,
 "nbformat_minor": 4
}

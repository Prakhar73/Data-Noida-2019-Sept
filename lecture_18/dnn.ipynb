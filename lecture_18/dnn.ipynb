{
  "nbformat": 4,
  "nbformat_minor": 0,
  "metadata": {
    "colab": {
      "name": "dnn.ipynb",
      "provenance": []
    },
    "kernelspec": {
      "name": "python3",
      "display_name": "Python 3"
    }
  },
  "cells": [
    {
      "cell_type": "code",
      "metadata": {
        "id": "qvT-5abJ15RB",
        "colab_type": "code",
        "colab": {}
      },
      "source": [
        "from keras.layers import Dense, Input\n",
        "from keras.models import Model\n",
        "from keras.datasets import mnist\n",
        "\n",
        "import pandas as pd\n",
        "\n",
        "from sklearn.preprocessing import OneHotEncoder"
      ],
      "execution_count": 0,
      "outputs": []
    },
    {
      "cell_type": "code",
      "metadata": {
        "id": "56hhV2Zb18zp",
        "colab_type": "code",
        "colab": {}
      },
      "source": [
        "in_layer = Input((784,))\n",
        "d1 = Dense(400, activation=\"sigmoid\", name=\"chacha\")(in_layer)\n",
        "d2 = Dense(100, activation=\"sigmoid\", name=\"mama\")(d1)\n",
        "d3 = Dense(10, activation=\"softmax\", name=\"taya\")(d2)"
      ],
      "execution_count": 0,
      "outputs": []
    },
    {
      "cell_type": "code",
      "metadata": {
        "id": "t9VAyJzU2DIy",
        "colab_type": "code",
        "colab": {}
      },
      "source": [
        "model = Model(in_layer, d3)"
      ],
      "execution_count": 0,
      "outputs": []
    },
    {
      "cell_type": "code",
      "metadata": {
        "id": "aED-mJc22Xgk",
        "colab_type": "code",
        "colab": {
          "base_uri": "https://localhost:8080/",
          "height": 297
        },
        "outputId": "200e9475-818c-4e73-f438-348e110b6325"
      },
      "source": [
        "model.summary()"
      ],
      "execution_count": 59,
      "outputs": [
        {
          "output_type": "stream",
          "text": [
            "Model: \"model_6\"\n",
            "_________________________________________________________________\n",
            "Layer (type)                 Output Shape              Param #   \n",
            "=================================================================\n",
            "input_5 (InputLayer)         (None, 784)               0         \n",
            "_________________________________________________________________\n",
            "chacha (Dense)               (None, 400)               314000    \n",
            "_________________________________________________________________\n",
            "mama (Dense)                 (None, 100)               40100     \n",
            "_________________________________________________________________\n",
            "taya (Dense)                 (None, 10)                1010      \n",
            "=================================================================\n",
            "Total params: 355,110\n",
            "Trainable params: 355,110\n",
            "Non-trainable params: 0\n",
            "_________________________________________________________________\n"
          ],
          "name": "stdout"
        }
      ]
    },
    {
      "cell_type": "code",
      "metadata": {
        "id": "rMwANn6l2ZOH",
        "colab_type": "code",
        "colab": {}
      },
      "source": [
        "model.compile(optimizer=\"adam\", loss=\"categorical_crossentropy\", metrics=[\"accuracy\"])"
      ],
      "execution_count": 0,
      "outputs": []
    },
    {
      "cell_type": "code",
      "metadata": {
        "id": "gaRC9n9E3_PY",
        "colab_type": "code",
        "colab": {}
      },
      "source": [
        "# ((X_train, y_train), (X_test, y_test)) = mnist.load_data()"
      ],
      "execution_count": 0,
      "outputs": []
    },
    {
      "cell_type": "code",
      "metadata": {
        "id": "3GJDbc9Q5H5A",
        "colab_type": "code",
        "colab": {}
      },
      "source": [
        "mnist = pd.read_csv(\"sample_data/mnist_train_small.csv\").values"
      ],
      "execution_count": 0,
      "outputs": []
    },
    {
      "cell_type": "code",
      "metadata": {
        "id": "JTAzTWxi7-aK",
        "colab_type": "code",
        "colab": {}
      },
      "source": [
        "X, y = mnist[:, 1:], mnist[:, 0]"
      ],
      "execution_count": 0,
      "outputs": []
    },
    {
      "cell_type": "code",
      "metadata": {
        "id": "a_K3-1Of8Fmk",
        "colab_type": "code",
        "colab": {}
      },
      "source": [
        "ohe = OneHotEncoder(categories=\"auto\")"
      ],
      "execution_count": 0,
      "outputs": []
    },
    {
      "cell_type": "code",
      "metadata": {
        "id": "2UStFukM8WbM",
        "colab_type": "code",
        "colab": {}
      },
      "source": [
        "y_hot = ohe.fit_transform(y.reshape(-1, 1))"
      ],
      "execution_count": 0,
      "outputs": []
    },
    {
      "cell_type": "code",
      "metadata": {
        "id": "v2XzE5NW8p5D",
        "colab_type": "code",
        "colab": {}
      },
      "source": [
        "y_oe = (y % 2)"
      ],
      "execution_count": 0,
      "outputs": []
    },
    {
      "cell_type": "code",
      "metadata": {
        "id": "weE9w8Bt8z7P",
        "colab_type": "code",
        "colab": {
          "base_uri": "https://localhost:8080/",
          "height": 229
        },
        "outputId": "95bbb7c9-9dd8-4929-f180-a95e3a0a7980"
      },
      "source": [
        "model.fit(X, y_hot, epochs=5)"
      ],
      "execution_count": 64,
      "outputs": [
        {
          "output_type": "stream",
          "text": [
            "Epoch 1/5\n",
            "19999/19999 [==============================] - 5s 267us/step - loss: 0.7071 - acc: 0.8336\n",
            "Epoch 2/5\n",
            "19999/19999 [==============================] - 5s 243us/step - loss: 0.3421 - acc: 0.9037\n",
            "Epoch 3/5\n",
            "19999/19999 [==============================] - 5s 241us/step - loss: 0.3059 - acc: 0.9096\n",
            "Epoch 4/5\n",
            "19999/19999 [==============================] - 5s 242us/step - loss: 0.2956 - acc: 0.9108\n",
            "Epoch 5/5\n",
            "19999/19999 [==============================] - 5s 240us/step - loss: 0.2834 - acc: 0.9132\n"
          ],
          "name": "stdout"
        },
        {
          "output_type": "execute_result",
          "data": {
            "text/plain": [
              "<keras.callbacks.History at 0x7f0e48c43470>"
            ]
          },
          "metadata": {
            "tags": []
          },
          "execution_count": 64
        }
      ]
    },
    {
      "cell_type": "code",
      "metadata": {
        "id": "S-pvtxxN9D7G",
        "colab_type": "code",
        "colab": {
          "base_uri": "https://localhost:8080/",
          "height": 34
        },
        "outputId": "de3f1dc3-32a3-402d-9ab5-493dea696abe"
      },
      "source": [
        "y_oe.shape"
      ],
      "execution_count": 32,
      "outputs": [
        {
          "output_type": "execute_result",
          "data": {
            "text/plain": [
              "(19999,)"
            ]
          },
          "metadata": {
            "tags": []
          },
          "execution_count": 32
        }
      ]
    },
    {
      "cell_type": "code",
      "metadata": {
        "id": "gH3AQMW3-nMC",
        "colab_type": "code",
        "colab": {
          "base_uri": "https://localhost:8080/",
          "height": 192
        },
        "outputId": "5274c06f-7687-4b04-c220-5cee0be0f008"
      },
      "source": [
        "(model.predict(X[:10])).argsort(axis=1)"
      ],
      "execution_count": 66,
      "outputs": [
        {
          "output_type": "execute_result",
          "data": {
            "text/plain": [
              "array([[6, 4, 7, 2, 1, 9, 8, 0, 3, 5],\n",
              "       [1, 6, 8, 2, 3, 4, 9, 5, 7, 0],\n",
              "       [2, 6, 1, 8, 0, 3, 5, 4, 7, 9],\n",
              "       [6, 4, 2, 7, 1, 8, 9, 0, 3, 5],\n",
              "       [5, 6, 9, 1, 4, 0, 8, 7, 3, 2],\n",
              "       [4, 1, 9, 7, 6, 8, 3, 2, 5, 0],\n",
              "       [7, 3, 9, 4, 8, 1, 0, 5, 2, 6],\n",
              "       [7, 2, 6, 4, 1, 9, 0, 8, 3, 5],\n",
              "       [7, 1, 2, 4, 9, 3, 8, 0, 6, 5],\n",
              "       [4, 6, 5, 0, 3, 7, 9, 1, 2, 8]])"
            ]
          },
          "metadata": {
            "tags": []
          },
          "execution_count": 66
        }
      ]
    },
    {
      "cell_type": "code",
      "metadata": {
        "id": "E8AEMxrQ_XiE",
        "colab_type": "code",
        "colab": {
          "base_uri": "https://localhost:8080/",
          "height": 34
        },
        "outputId": "8fbefe60-746a-45aa-8469-fd44d46de60a"
      },
      "source": [
        "y[:10]"
      ],
      "execution_count": 54,
      "outputs": [
        {
          "output_type": "execute_result",
          "data": {
            "text/plain": [
              "array([5, 7, 9, 5, 2, 0, 6, 5, 5, 2])"
            ]
          },
          "metadata": {
            "tags": []
          },
          "execution_count": 54
        }
      ]
    },
    {
      "cell_type": "code",
      "metadata": {
        "id": "ex_BIiOM_lC4",
        "colab_type": "code",
        "colab": {}
      },
      "source": [
        "import numpy as np"
      ],
      "execution_count": 0,
      "outputs": []
    },
    {
      "cell_type": "code",
      "metadata": {
        "id": "3h8vQfwnDa_B",
        "colab_type": "code",
        "colab": {}
      },
      "source": [
        "arr = np.array([100, 111])"
      ],
      "execution_count": 0,
      "outputs": []
    },
    {
      "cell_type": "code",
      "metadata": {
        "id": "BB2XatfbDdm1",
        "colab_type": "code",
        "colab": {
          "base_uri": "https://localhost:8080/",
          "height": 34
        },
        "outputId": "6c2cf070-f63e-4498-8df3-e9d283c3c7d4"
      },
      "source": [
        "(1 / (1 + np.exp(-arr)))"
      ],
      "execution_count": 75,
      "outputs": [
        {
          "output_type": "execute_result",
          "data": {
            "text/plain": [
              "array([1., 1.])"
            ]
          },
          "metadata": {
            "tags": []
          },
          "execution_count": 75
        }
      ]
    },
    {
      "cell_type": "code",
      "metadata": {
        "id": "h_1blehWDlCK",
        "colab_type": "code",
        "colab": {
          "base_uri": "https://localhost:8080/",
          "height": 34
        },
        "outputId": "539e0d9f-85fd-492e-f9b9-d927d1e84a75"
      },
      "source": [
        "np.exp(arr) / np.sum(np.exp(arr))"
      ],
      "execution_count": 76,
      "outputs": [
        {
          "output_type": "execute_result",
          "data": {
            "text/plain": [
              "array([1.67014218e-05, 9.99983299e-01])"
            ]
          },
          "metadata": {
            "tags": []
          },
          "execution_count": 76
        }
      ]
    },
    {
      "cell_type": "code",
      "metadata": {
        "id": "ObCFfQe5Dzyu",
        "colab_type": "code",
        "colab": {}
      },
      "source": [
        ""
      ],
      "execution_count": 0,
      "outputs": []
    }
  ]
}
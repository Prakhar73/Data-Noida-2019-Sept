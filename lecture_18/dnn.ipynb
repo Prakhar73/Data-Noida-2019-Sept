{
 "cells": [
  {
   "cell_type": "code",
   "execution_count": 1,
   "metadata": {
    "colab": {},
    "colab_type": "code",
    "id": "qvT-5abJ15RB"
   },
   "outputs": [
    {
     "name": "stderr",
     "output_type": "stream",
     "text": [
      "Using TensorFlow backend.\n"
     ]
    }
   ],
   "source": [
    "from keras.layers import Dense, Input\n",
    "from keras.models import Model\n",
    "from keras.datasets import mnist\n",
    "\n",
    "import pandas as pd\n",
    "\n",
    "from sklearn.preprocessing import OneHotEncoder"
   ]
  },
  {
   "cell_type": "code",
   "execution_count": 2,
   "metadata": {
    "colab": {},
    "colab_type": "code",
    "id": "56hhV2Zb18zp"
   },
   "outputs": [],
   "source": [
    "in_layer = Input((784,))\n",
    "d1 = Dense(400, activation=\"sigmoid\", name=\"chacha\")(in_layer)\n",
    "d2 = Dense(100, activation=\"sigmoid\", name=\"mama\")(d1)\n",
    "d3 = Dense(10, activation=\"softmax\", name=\"taya\")(d2)"
   ]
  },
  {
   "cell_type": "code",
   "execution_count": 3,
   "metadata": {
    "colab": {},
    "colab_type": "code",
    "id": "t9VAyJzU2DIy"
   },
   "outputs": [],
   "source": [
    "model = Model(in_layer, d3)"
   ]
  },
  {
   "cell_type": "code",
   "execution_count": 4,
   "metadata": {
    "colab": {
     "base_uri": "https://localhost:8080/",
     "height": 297
    },
    "colab_type": "code",
    "id": "aED-mJc22Xgk",
    "outputId": "200e9475-818c-4e73-f438-348e110b6325"
   },
   "outputs": [
    {
     "name": "stdout",
     "output_type": "stream",
     "text": [
      "Model: \"model_1\"\n",
      "_________________________________________________________________\n",
      "Layer (type)                 Output Shape              Param #   \n",
      "=================================================================\n",
      "input_1 (InputLayer)         (None, 784)               0         \n",
      "_________________________________________________________________\n",
      "chacha (Dense)               (None, 400)               314000    \n",
      "_________________________________________________________________\n",
      "mama (Dense)                 (None, 100)               40100     \n",
      "_________________________________________________________________\n",
      "taya (Dense)                 (None, 10)                1010      \n",
      "=================================================================\n",
      "Total params: 355,110\n",
      "Trainable params: 355,110\n",
      "Non-trainable params: 0\n",
      "_________________________________________________________________\n"
     ]
    }
   ],
   "source": [
    "model.summary()"
   ]
  },
  {
   "cell_type": "code",
   "execution_count": 5,
   "metadata": {
    "colab": {},
    "colab_type": "code",
    "id": "rMwANn6l2ZOH"
   },
   "outputs": [],
   "source": [
    "model.compile(optimizer=\"adam\", loss=\"categorical_crossentropy\", metrics=[\"accuracy\"])"
   ]
  },
  {
   "cell_type": "code",
   "execution_count": null,
   "metadata": {
    "colab": {},
    "colab_type": "code",
    "id": "gaRC9n9E3_PY"
   },
   "outputs": [],
   "source": [
    "# ((X_train, y_train), (X_test, y_test)) = mnist.load_data()"
   ]
  },
  {
   "cell_type": "code",
   "execution_count": 6,
   "metadata": {
    "colab": {},
    "colab_type": "code",
    "id": "3GJDbc9Q5H5A"
   },
   "outputs": [],
   "source": [
    "mnist = pd.read_csv(\"../datasets/mnist_train_small.csv\").values"
   ]
  },
  {
   "cell_type": "code",
   "execution_count": 7,
   "metadata": {
    "colab": {},
    "colab_type": "code",
    "id": "JTAzTWxi7-aK"
   },
   "outputs": [],
   "source": [
    "X, y = mnist[:, 1:], mnist[:, 0]"
   ]
  },
  {
   "cell_type": "code",
   "execution_count": 8,
   "metadata": {
    "colab": {},
    "colab_type": "code",
    "id": "a_K3-1Of8Fmk"
   },
   "outputs": [],
   "source": [
    "ohe = OneHotEncoder(categories=\"auto\")"
   ]
  },
  {
   "cell_type": "code",
   "execution_count": 9,
   "metadata": {
    "colab": {},
    "colab_type": "code",
    "id": "2UStFukM8WbM"
   },
   "outputs": [],
   "source": [
    "y_hot = ohe.fit_transform(y.reshape(-1, 1))"
   ]
  },
  {
   "cell_type": "code",
   "execution_count": 10,
   "metadata": {
    "colab": {},
    "colab_type": "code",
    "id": "v2XzE5NW8p5D"
   },
   "outputs": [],
   "source": [
    "y_oe = (y % 2)"
   ]
  },
  {
   "cell_type": "code",
   "execution_count": 11,
   "metadata": {
    "colab": {
     "base_uri": "https://localhost:8080/",
     "height": 229
    },
    "colab_type": "code",
    "id": "weE9w8Bt8z7P",
    "outputId": "95bbb7c9-9dd8-4929-f180-a95e3a0a7980"
   },
   "outputs": [
    {
     "name": "stdout",
     "output_type": "stream",
     "text": [
      "Epoch 1/5\n",
      "19999/19999 [==============================] - 3s 143us/step - loss: 0.6229 - accuracy: 0.8433\n",
      "Epoch 2/5\n",
      "19999/19999 [==============================] - 2s 122us/step - loss: 0.3468 - accuracy: 0.9038\n",
      "Epoch 3/5\n",
      "19999/19999 [==============================] - 3s 130us/step - loss: 0.3081 - accuracy: 0.9086\n",
      "Epoch 4/5\n",
      "19999/19999 [==============================] - 3s 126us/step - loss: 0.2800 - accuracy: 0.9175\n",
      "Epoch 5/5\n",
      "19999/19999 [==============================] - 3s 139us/step - loss: 0.2800 - accuracy: 0.9163\n"
     ]
    },
    {
     "data": {
      "text/plain": [
       "<keras.callbacks.callbacks.History at 0x138239fd0>"
      ]
     },
     "execution_count": 11,
     "metadata": {},
     "output_type": "execute_result"
    }
   ],
   "source": [
    "model.fit(X, y_hot, epochs=5)"
   ]
  },
  {
   "cell_type": "code",
   "execution_count": 12,
   "metadata": {
    "colab": {
     "base_uri": "https://localhost:8080/",
     "height": 34
    },
    "colab_type": "code",
    "id": "S-pvtxxN9D7G",
    "outputId": "de3f1dc3-32a3-402d-9ab5-493dea696abe"
   },
   "outputs": [
    {
     "data": {
      "text/plain": [
       "(19999,)"
      ]
     },
     "execution_count": 12,
     "metadata": {},
     "output_type": "execute_result"
    }
   ],
   "source": [
    "y_oe.shape"
   ]
  },
  {
   "cell_type": "code",
   "execution_count": 13,
   "metadata": {
    "colab": {
     "base_uri": "https://localhost:8080/",
     "height": 192
    },
    "colab_type": "code",
    "id": "gH3AQMW3-nMC",
    "outputId": "5274c06f-7687-4b04-c220-5cee0be0f008"
   },
   "outputs": [
    {
     "data": {
      "text/plain": [
       "array([[2, 7, 4, 6, 1, 9, 0, 8, 3, 5],\n",
       "       [1, 6, 3, 8, 2, 4, 9, 5, 7, 0],\n",
       "       [1, 2, 0, 8, 6, 3, 5, 7, 4, 9],\n",
       "       [7, 2, 4, 1, 6, 9, 0, 8, 3, 5],\n",
       "       [9, 6, 4, 1, 5, 7, 0, 3, 8, 2],\n",
       "       [1, 4, 6, 7, 8, 9, 2, 3, 5, 0],\n",
       "       [7, 9, 3, 0, 8, 4, 1, 2, 5, 6],\n",
       "       [7, 4, 2, 1, 9, 0, 6, 3, 8, 5],\n",
       "       [7, 0, 9, 2, 1, 4, 3, 8, 6, 5],\n",
       "       [4, 0, 6, 9, 5, 1, 7, 3, 8, 2]])"
      ]
     },
     "execution_count": 13,
     "metadata": {},
     "output_type": "execute_result"
    }
   ],
   "source": [
    "(model.predict(X[:10])).argsort(axis=1)"
   ]
  },
  {
   "cell_type": "code",
   "execution_count": 14,
   "metadata": {
    "colab": {
     "base_uri": "https://localhost:8080/",
     "height": 34
    },
    "colab_type": "code",
    "id": "E8AEMxrQ_XiE",
    "outputId": "8fbefe60-746a-45aa-8469-fd44d46de60a"
   },
   "outputs": [
    {
     "data": {
      "text/plain": [
       "array([5, 7, 9, 5, 2, 0, 6, 5, 5, 2])"
      ]
     },
     "execution_count": 14,
     "metadata": {},
     "output_type": "execute_result"
    }
   ],
   "source": [
    "y[:10]"
   ]
  },
  {
   "cell_type": "code",
   "execution_count": 15,
   "metadata": {
    "colab": {},
    "colab_type": "code",
    "id": "ex_BIiOM_lC4"
   },
   "outputs": [],
   "source": [
    "import numpy as np"
   ]
  },
  {
   "cell_type": "code",
   "execution_count": 16,
   "metadata": {
    "colab": {},
    "colab_type": "code",
    "id": "3h8vQfwnDa_B"
   },
   "outputs": [],
   "source": [
    "arr = np.array([100, 111])"
   ]
  },
  {
   "cell_type": "code",
   "execution_count": 17,
   "metadata": {
    "colab": {
     "base_uri": "https://localhost:8080/",
     "height": 34
    },
    "colab_type": "code",
    "id": "BB2XatfbDdm1",
    "outputId": "6c2cf070-f63e-4498-8df3-e9d283c3c7d4"
   },
   "outputs": [
    {
     "data": {
      "text/plain": [
       "array([1., 1.])"
      ]
     },
     "execution_count": 17,
     "metadata": {},
     "output_type": "execute_result"
    }
   ],
   "source": [
    "(1 / (1 + np.exp(-arr)))"
   ]
  },
  {
   "cell_type": "code",
   "execution_count": 18,
   "metadata": {
    "colab": {
     "base_uri": "https://localhost:8080/",
     "height": 34
    },
    "colab_type": "code",
    "id": "h_1blehWDlCK",
    "outputId": "539e0d9f-85fd-492e-f9b9-d927d1e84a75"
   },
   "outputs": [
    {
     "data": {
      "text/plain": [
       "array([1.67014218e-05, 9.99983299e-01])"
      ]
     },
     "execution_count": 18,
     "metadata": {},
     "output_type": "execute_result"
    }
   ],
   "source": [
    "np.exp(arr) / np.sum(np.exp(arr))"
   ]
  },
  {
   "cell_type": "code",
   "execution_count": null,
   "metadata": {
    "colab": {},
    "colab_type": "code",
    "id": "ObCFfQe5Dzyu"
   },
   "outputs": [],
   "source": []
  },
  {
   "cell_type": "code",
   "execution_count": null,
   "metadata": {},
   "outputs": [],
   "source": []
  },
  {
   "cell_type": "code",
   "execution_count": null,
   "metadata": {},
   "outputs": [],
   "source": []
  }
 ],
 "metadata": {
  "colab": {
   "name": "dnn.ipynb",
   "provenance": []
  },
  "kernelspec": {
   "display_name": "Python 3",
   "language": "python",
   "name": "python3"
  },
  "language_info": {
   "codemirror_mode": {
    "name": "ipython",
    "version": 3
   },
   "file_extension": ".py",
   "mimetype": "text/x-python",
   "name": "python",
   "nbconvert_exporter": "python",
   "pygments_lexer": "ipython3",
   "version": "3.7.2"
  }
 },
 "nbformat": 4,
 "nbformat_minor": 4
}

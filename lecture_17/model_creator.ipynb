{
 "cells": [
  {
   "cell_type": "code",
   "execution_count": 22,
   "metadata": {},
   "outputs": [],
   "source": [
    "import pandas as pd\n",
    "import numpy as np\n",
    "from sklearn.feature_extraction.text import CountVectorizer\n",
    "from sklearn.model_selection import train_test_split\n",
    "\n",
    "from sklearn.naive_bayes import MultinomialNB\n",
    "\n",
    "import pickle"
   ]
  },
  {
   "cell_type": "code",
   "execution_count": 3,
   "metadata": {},
   "outputs": [],
   "source": [
    "reviews = pd.read_csv(\"deploy-models/reviews.csv\")"
   ]
  },
  {
   "cell_type": "code",
   "execution_count": 5,
   "metadata": {},
   "outputs": [
    {
     "data": {
      "text/plain": [
       "Index(['critic', 'fresh', 'imdb', 'link', 'publication', 'quote',\n",
       "       'review_date', 'rtid', 'title'],\n",
       "      dtype='object')"
      ]
     },
     "execution_count": 5,
     "metadata": {},
     "output_type": "execute_result"
    }
   ],
   "source": [
    "reviews.columns"
   ]
  },
  {
   "cell_type": "code",
   "execution_count": 7,
   "metadata": {},
   "outputs": [
    {
     "data": {
      "text/plain": [
       "array(['fresh', 'rotten', 'none'], dtype=object)"
      ]
     },
     "execution_count": 7,
     "metadata": {},
     "output_type": "execute_result"
    }
   ],
   "source": [
    "reviews.fresh.unique()"
   ]
  },
  {
   "cell_type": "code",
   "execution_count": 10,
   "metadata": {},
   "outputs": [],
   "source": [
    "vector = CountVectorizer()"
   ]
  },
  {
   "cell_type": "code",
   "execution_count": 14,
   "metadata": {},
   "outputs": [],
   "source": [
    "X = vector.fit_transform(reviews.quote.values).todense()"
   ]
  },
  {
   "cell_type": "code",
   "execution_count": 16,
   "metadata": {},
   "outputs": [],
   "source": [
    "y = reviews.fresh.values"
   ]
  },
  {
   "cell_type": "code",
   "execution_count": 17,
   "metadata": {},
   "outputs": [
    {
     "data": {
      "text/plain": [
       "array(['fresh', 'fresh', 'fresh', ..., 'fresh', 'rotten', 'rotten'],\n",
       "      dtype=object)"
      ]
     },
     "execution_count": 17,
     "metadata": {},
     "output_type": "execute_result"
    }
   ],
   "source": []
  },
  {
   "cell_type": "code",
   "execution_count": 19,
   "metadata": {},
   "outputs": [],
   "source": [
    "model = MultinomialNB()"
   ]
  },
  {
   "cell_type": "code",
   "execution_count": 20,
   "metadata": {},
   "outputs": [
    {
     "data": {
      "text/plain": [
       "MultinomialNB(alpha=1.0, class_prior=None, fit_prior=True)"
      ]
     },
     "execution_count": 20,
     "metadata": {},
     "output_type": "execute_result"
    }
   ],
   "source": [
    "model.fit(X, y)"
   ]
  },
  {
   "cell_type": "code",
   "execution_count": 21,
   "metadata": {},
   "outputs": [
    {
     "data": {
      "text/plain": [
       "0.9152655854783515"
      ]
     },
     "execution_count": 21,
     "metadata": {},
     "output_type": "execute_result"
    }
   ],
   "source": [
    "model.score(X, y)"
   ]
  },
  {
   "cell_type": "code",
   "execution_count": 27,
   "metadata": {},
   "outputs": [],
   "source": [
    "with open(\"vector.pkl\", \"wb\") as vec_file:\n",
    "    pickle.dump(vector, vec_file)"
   ]
  },
  {
   "cell_type": "code",
   "execution_count": 28,
   "metadata": {},
   "outputs": [],
   "source": [
    "with open(\"model.pkl\", \"wb\") as mod_file:\n",
    "    pickle.dump(model, mod_file)"
   ]
  },
  {
   "cell_type": "code",
   "execution_count": 29,
   "metadata": {},
   "outputs": [
    {
     "data": {
      "text/plain": [
       "'So ingenious in concept, design and execution that you could watch it on a postage stamp-sized screen and still be engulfed by its charm.'"
      ]
     },
     "execution_count": 29,
     "metadata": {},
     "output_type": "execute_result"
    }
   ],
   "source": [
    "reviews.quote.iloc[0]"
   ]
  },
  {
   "cell_type": "code",
   "execution_count": 30,
   "metadata": {},
   "outputs": [
    {
     "data": {
      "text/plain": [
       "array(['Derek Adams', 'Richard Corliss', 'David Ansen', 'Leonard Klady',\n",
       "       'Jonathan Rosenbaum', 'Michael Booth', 'Geoff Andrew',\n",
       "       'Janet Maslin', 'Kenneth Turan', 'Roger Ebert', 'Susan Stark',\n",
       "       'Peter Stack', 'James Berardinelli', 'Rita Kempley', nan,\n",
       "       'Roger Moore', 'Richard Schickel', 'Caryn James', 'Desson Thomson',\n",
       "       'Liam Lacey', 'Edward Guthmann', 'Joan Walsh', 'Joe Baltake',\n",
       "       'Todd McCarthy', 'Andrew Ross', 'Hal Hinson', 'Owen Gleiberman',\n",
       "       'Variety Staff', 'Dave Kehr', 'Bosley Crowther', 'Stephen Holden',\n",
       "       'Mick LaSalle', 'Kevin Thomas', 'Richard Harrington',\n",
       "       'Anthony Lane', 'Rick Groen', 'Joe Leydon', 'David Kronke',\n",
       "       'Emanuel Levy', 'Jack Mathews', 'Brian Lowry', 'Nigel Floyd',\n",
       "       'Ken Tucker', 'David Jenkins', 'Kevin Lee', 'A.O. Scott',\n",
       "       'Jeannette Catsoulis', 'Dan Kois', 'Kyle Smith', 'Brian Miller',\n",
       "       'Jason Anderson', 'Stephen Cole', 'Tom Long', 'J. R. Jones',\n",
       "       'Chris Vognar', 'Stephanie Zacharek', 'Kathleen Murphy',\n",
       "       'Wesley Morris', 'Joe Williams', 'Chris Nashawaty',\n",
       "       'Michael Phillips', 'Anna Smith', 'Michael Sragow', 'Jeff Shannon',\n",
       "       'Steven Rea', 'Jay Boyar', 'Jami Bernard', 'Michael Wilmington',\n",
       "       'Derek Elley', 'Kevin McManus', 'Carrie Rickey', 'Gary Dretzka',\n",
       "       'Doug Thomas', 'Terrence Rafferty', 'Jack Kroll',\n",
       "       'Lisa Schwarzbaum', 'Godfrey Cheshire', 'Stephen Garrett',\n",
       "       'Andrew Geller', 'Laura Evenson', 'Ben Walters', 'Bob Mondello',\n",
       "       'Andrea Gronvall', 'Jonathan F. Richards', 'Joshua Rothkopf',\n",
       "       'Andrew Sarris', 'Rene Rodriguez', 'Joe Morgenstern',\n",
       "       'Peter Rainer', 'Rob Nelson', 'Rob Salem', 'Richard Roeper',\n",
       "       'Ty Burr', 'Glenn Lovell', 'J. Hoberman', 'Laura Shapiro',\n",
       "       'Jeremy Gerard', 'Melissa Anderson', 'Rex Reed', 'Claudia Puig',\n",
       "       'Peter Howell', 'Stephen Whitty', 'Elizabeth Weitzman',\n",
       "       'Terry Lawson', 'Lisa Kennedy', 'Esther Iverem', 'John Anderson',\n",
       "       'Daniel M. Kimmel', 'John Monaghan', \"Michael O'Sullivan\",\n",
       "       'Ann Hornaday', 'Malene Arpe', 'Moira MacDonald', 'Lisa Rose',\n",
       "       'Amy Biancolli', 'Leah McLaren', 'Kevin Crust', 'Charles Taylor',\n",
       "       'Brendan Kelly', 'Bruce Diones', 'Trevor Johnston',\n",
       "       'Peter Travers', 'Richard Leiby', 'Bruce Westbrook',\n",
       "       'Bruce Newman', 'Peter Hartlaub', 'Jim Emerson', 'David Fear',\n",
       "       'Sam Adams', 'Ruthe Stein', 'Marta Barber', 'Lael Loewenstein',\n",
       "       'Gene Seymour', 'Scott Foundas', 'Akiva Gottlieb', 'Gene Siskel',\n",
       "       'A.D. Murphy', 'Dave Calhoun', 'Michael Atkinson', 'Vincent Canby',\n",
       "       'Sarah Kerr', 'Lawrence Cohn', 'Joe Brown', 'Gary Kamiya',\n",
       "       'Steve Murray', 'David Edelstein', 'Eric Harrison', 'Kate Taylor',\n",
       "       'Robert Denerstein', 'Mark Rahner', 'Colin Covert', 'Dennis Lim',\n",
       "       'Hazel-Dawn Dumpert', 'Desmond Ryan', 'Ted Fry', 'David Chute',\n",
       "       'Jane Sumner', 'Philip Wuntch', 'Renata Adler', 'Wally Hammond',\n",
       "       'Steve Daly', 'Eve Zibart', 'Frank Ahrens', 'Jessica Winter',\n",
       "       'Tom Milne', 'Susan Walker', 'Joe Neumaier', 'Mark Olsen',\n",
       "       'Kamal Al-Solaylee', 'Ed Gonzalez', 'Alissa Simon', 'David Rooney',\n",
       "       'Geoff Pevere', 'John Petrakis', 'Pauline Kael',\n",
       "       'Penelope Gilliatt', 'Charles Champlin', 'Mike Clark',\n",
       "       'Alfred Rushford Greason', 'Don Druker', 'Mordaunt Hall',\n",
       "       'Chuck Wilson', 'Chris Tamarri', 'Stephen Hunter', 'Dana Stevens',\n",
       "       'Robert K. Elder', 'Clifford Terry', 'Megan Rosenfeld',\n",
       "       \"Shirley O'Hara\", 'Lisa Nesselson', 'John Hartl',\n",
       "       'Stanley Kauffmann', 'Betsy Sharkey', 'Christopher Orr',\n",
       "       'Jonathan Kiefer', 'Dennis Harvey', 'Christopher Harris',\n",
       "       'Tom Huddlestone', 'Peter M. Nichols', 'Steven Winn',\n",
       "       'John F. Kelly', 'Hank Sartin', 'Ella Taylor', 'Ronnie Scheib',\n",
       "       'Jan Stuart', 'Joshua Land', 'Peter Debruge', 'Mark Medley',\n",
       "       'Nancy Churnin', 'Christy Lemire', 'Bill Zwecker', 'Janice Page',\n",
       "       'David Stratton', 'David Mills', 'Joanne Kaufman',\n",
       "       \"Andrew O'Hehir\", 'Hap Erstein', 'Jeff Strickler', 'Connie Ogle',\n",
       "       'Michael Snyder', 'Cliff Doerksen', 'Ben Mankiewicz', 'Ben Lyons',\n",
       "       'Lou Lumenick', 'Glenn Whipp', 'Adam Graham', 'Trevor Lewis',\n",
       "       'Francis X. Clines', 'Tom Russo', 'Rafer Guzman', \"Sean O'Connell\",\n",
       "       'Nell Minow', 'Alan Scherstuhl', 'Steven Gaydos', 'William Goss',\n",
       "       'Chris Willman', 'Keith Uhlich', 'Norman Chad', 'Jake Tracer',\n",
       "       'Johanna Steinmetz', 'Scott Brown', 'Daniel Gray Longino',\n",
       "       'Mark Bourne', 'Richard Nilsen', 'Nick Schager', 'Aaron Hillis',\n",
       "       'Justin Chang', 'Achy Obejas', 'Jeanne Cooper', 'Sheila Benson',\n",
       "       'Michael Upchurch', 'Amy Dawes', 'Eleanor Ringel Gillespie',\n",
       "       'Cath Clarke', 'Jennie Punter', 'Richard Ouzounian',\n",
       "       'Charles Solomon', 'Frank S. Nugent', 'Whitney Willaims',\n",
       "       'Jesse Hamlin', 'Laura Miller', 'Stefan Kanfer', 'Scott Rosenberg',\n",
       "       'Bill Muller', 'Jennifer Preyss', 'Tom Keogh', 'Pam Grady',\n",
       "       'Carina Chocano', 'Mary Elizabeth Williams', 'Milo Miles',\n",
       "       'Mark Caro', 'Bruce Fretts', 'Keith Simanton', 'Christy DeSmith',\n",
       "       'Tom Maurstad', 'Gary Goldstein', 'Ernest Hardy', 'Kevin Courrier',\n",
       "       'Lawrence Van Gelder', 'Jeff Millar', 'V.A. Musetto', 'Laura Kern',\n",
       "       'Lisa Alspector', 'Carol Buckland', 'Cynthia Joyce',\n",
       "       'Anthony Puccinelli', 'Chris Colin', 'Richard Eder', 'Ruth Hessey',\n",
       "       'Tasha Robinson', 'Catherine Dawson March', 'Eric Brace',\n",
       "       'Erin Richter', 'Tim Purtell', 'F.X. Feeney', 'Jay Cocks',\n",
       "       'Paul Tatara', 'Bill Stamets', 'Herb Golden', 'A.H. Weiler',\n",
       "       'Richard Brody', 'Ed Park', 'Robert B. Frederick', 'David Denby',\n",
       "       'Otis Ferguson', 'Robert J. Landry', 'Keith Staskiewicz',\n",
       "       'Stephanie Merry', 'Todd Gilchrist', 'John C. Flinn Sr.',\n",
       "       'Whittaker Chambers', 'Bob Graham', 'Arthur Schlesinger',\n",
       "       'Judith Crist', 'William Brogdon', 'Thomas M. Pryor',\n",
       "       'Edwin Schallert', 'Robert Hatch', 'Abel Green',\n",
       "       'Philip Kennicott', 'Linda Barnard', 'David Wiegand',\n",
       "       'Justin Berton', 'Joey Guerra', 'Delmore Schwartz', 'Gary Dowell',\n",
       "       'Elliott Stein', 'Andre Sennwald', 'Nick Pinkerton',\n",
       "       'Erik Lundegaard', 'Rich Cohen', 'Manny Farber', 'Bert Briller',\n",
       "       'Tim Grierson', 'Eddie Cockrell', 'Amos Barshad',\n",
       "       'Paul Clinton (CNN.com)', 'Walter V. Addiego', 'David Germain',\n",
       "       'Louise Kennedy', 'Howard Thompson', 'Glenn Collins',\n",
       "       \"Suzanne O'Connor\", 'Lloyd Rose', \"Charlotte O'Sullivan\",\n",
       "       'Joseph McBride', 'Amy Simmons', 'Jen Chaney', 'Brangien Davis',\n",
       "       'Robert Abele', 'Dave Kaufman', 'B. Kite', 'Pat Graham',\n",
       "       'Paul Attanasio', 'Don McKellar', 'Walter Goodman', 'Kris Wilton',\n",
       "       'Sara Gebhardt', 'Carla Meyer', 'Steven Rosen', 'Mark Salisbury',\n",
       "       'R. Emmet Sweeney', 'Paul Malcolm', 'Teresa Wiltz', 'Tom Sime',\n",
       "       'Manohla Dargis', 'Nathan Lee', 'Dan Fienberg', 'Jenn Shreve',\n",
       "       'David Mermelstein', 'Crosby Day', 'James Harwood',\n",
       "       'Judith Martin', 'Gary Arnold', 'Stephen Klain', 'Tom Huddleston',\n",
       "       'Dale Pollock', 'Allen Barra', 'Chuck Stephens', 'Frank Rich',\n",
       "       'Mark Holcomb', 'Mark Feeney', 'Amy Taubin', 'Paine Knickerbocker',\n",
       "       'Benedict Nightingale', 'Amy E. Schwartz', 'Richard McGuinness',\n",
       "       'Laremy Legel', 'James Rocchi', 'Robin Dougherty', 'Philip Roth',\n",
       "       'Mike Kaplan', 'Herb Schoenfeld', 'Joe Bigelow',\n",
       "       'Charles Schreger', 'Sid Smith', 'Leba Hertz', 'Richard Natale',\n",
       "       'Chris Peachment', 'Henry Allen', 'Ronald Holloway', 'David Ng',\n",
       "       'Sean Daly', 'Barbara Thomas', 'Bob Longino', 'Kerry Lengel',\n",
       "       'Dwight Garner', 'Misha Berson', 'John L. Wasserman',\n",
       "       'Bill Goodykoontz', 'Jennie Yabroff', 'Bruce Walker',\n",
       "       'Jane Horwitz', 'Matt Zoller Seitz', 'Vic Vogler', 'Gina Fattore',\n",
       "       'Kathie Smith', 'Jeff Giles', \"Lonnae O'Neal Parker\",\n",
       "       'Michelle Goldberg', 'Bob Heisler', 'Jorge Morales',\n",
       "       'Sara Frederick', 'Eric D. Snider', 'Anita Gates', 'Gerald Clarke',\n",
       "       'Elizabeth Williams', 'Cole Haddon', 'Ted Shen', 'Joyce Millman',\n",
       "       'Bill Boisvert', 'Sid Silverman', 'Loren King', 'Daphne Gordon',\n",
       "       'Ray Conlogue', 'Roy Chartier', 'Hobe Morrison', 'Rich Gold',\n",
       "       'Roger Greenspun', 'Jack Pitman', 'Nina Darnton', 'Joseph Litsch',\n",
       "       'Bruce Demara', 'Clark Collis', 'David Thomson', 'Ed Halter',\n",
       "       'Christine Dolen', 'C.W. Nevius', 'Theodore Strauss',\n",
       "       'Hillel Italie', 'Ruth Ford', 'John Corry', 'Bilge Ebiri',\n",
       "       'Lance Goldenberg', 'Logan Hill', 'Damon Smith', 'Nora Sayre',\n",
       "       'Greg Quill', 'John Skow', 'Eric Hynes', 'Tom Charity',\n",
       "       'Jeff Unger', 'Monica Eng', 'John Haslett Cuff', 'Eugene Archer',\n",
       "       'Calvin Wilson', 'Dan Zak', 'Louis B. Parks', 'Mario Tarradell',\n",
       "       'Neely Tucker', 'Joshua Katzman', 'Jessica Reaves',\n",
       "       'Janelle Brown', 'Robert Koehler', 'Molly Haskell', 'Gary Dauphin',\n",
       "       'Jonathan Lethem', 'Kevin Maynard', 'Elizabeth M. Tamny',\n",
       "       'Carol Lloyd', 'Craig Seligman', 'Mike Musgrove', 'Elvis Mitchell',\n",
       "       'Patrick Goldstein', 'Allison Benedikt', 'Ron Stringer',\n",
       "       'Bob Campbell', \"Thomas O'Connor\", 'Justine Elias', 'John Dooley',\n",
       "       'B.J. Sigesmund', 'Athima Chansanchai', 'Rod Dreher',\n",
       "       'Nicole Arthur', 'Ted Anthony', 'Jay Carr', 'Dick Kreck',\n",
       "       'Douglas Cruickshank', 'Daniel Mangin', 'Jeffrey Wells',\n",
       "       'Andrea C. Basora', 'John Patterson', 'Robin Rauzi',\n",
       "       'Rashod D. Ollison', 'Jonathan Foreman', 'Doug Saunders',\n",
       "       'Simon Houpt', 'Jim Ridley', 'John Hofsess', 'Nina Caplan',\n",
       "       'Ben Kenigsberg', 'Jonathan Holland', 'Barbara Shulgasser',\n",
       "       'Charles Ealy', \"Peter L'Official\", 'Ron Givens', 'Jonas Mekas',\n",
       "       'Sam Hurwitt', 'Tony Wong', 'Chelsea Bain', 'Adam Markovitz',\n",
       "       'John Moore', 'Lawson Taitte', 'Harold C. Schonberg',\n",
       "       'Ana Marie Cox', 'Al Brumley', 'Scott Bowles', 'Sean Howe',\n",
       "       'Mary Houlihan', 'Joe McGovern', 'David Hiltbrand', 'Fred Camper',\n",
       "       'Deborah Young', 'Gene Moskowitz', 'Edward Margulies',\n",
       "       'King Kaufman', 'Julia Wallace', 'Russell Edwards', 'Martin Hoyle',\n",
       "       'Mark Chalon Smith', 'G. Allen Johnson'], dtype=object)"
      ]
     },
     "execution_count": 30,
     "metadata": {},
     "output_type": "execute_result"
    }
   ],
   "source": [
    "reviews.critic.unique()"
   ]
  },
  {
   "cell_type": "code",
   "execution_count": null,
   "metadata": {},
   "outputs": [],
   "source": []
  }
 ],
 "metadata": {
  "kernelspec": {
   "display_name": "Python 3",
   "language": "python",
   "name": "python3"
  },
  "language_info": {
   "codemirror_mode": {
    "name": "ipython",
    "version": 3
   },
   "file_extension": ".py",
   "mimetype": "text/x-python",
   "name": "python",
   "nbconvert_exporter": "python",
   "pygments_lexer": "ipython3",
   "version": "3.7.2"
  }
 },
 "nbformat": 4,
 "nbformat_minor": 4
}

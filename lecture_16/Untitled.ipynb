{
 "cells": [
  {
   "cell_type": "code",
   "execution_count": 26,
   "metadata": {},
   "outputs": [],
   "source": [
    "import random"
   ]
  },
  {
   "cell_type": "code",
   "execution_count": 1,
   "metadata": {},
   "outputs": [],
   "source": [
    "with open(\"../datasets/speeches/speech.txt\") as f:\n",
    "    text = f.read()"
   ]
  },
  {
   "cell_type": "code",
   "execution_count": 53,
   "metadata": {},
   "outputs": [],
   "source": [
    "k = 10\n",
    "\n",
    "probs = {}\n",
    "\n",
    "for index in range(len(text) - k - 1):\n",
    "    cut = text[index: index + k]\n",
    "    next_char = text[index + k]\n",
    "    \n",
    "    if cut not in probs:\n",
    "        probs[cut] = {}\n",
    "        \n",
    "    if next_char not in probs[cut]:\n",
    "        probs[cut][next_char] = 0\n",
    "    \n",
    "    probs[cut][next_char] += 1\n",
    "   "
   ]
  },
  {
   "cell_type": "code",
   "execution_count": 86,
   "metadata": {},
   "outputs": [],
   "source": [
    "ind = 500"
   ]
  },
  {
   "cell_type": "code",
   "execution_count": 82,
   "metadata": {},
   "outputs": [],
   "source": [
    "greeting = text[ind:ind+50]"
   ]
  },
  {
   "cell_type": "code",
   "execution_count": 83,
   "metadata": {},
   "outputs": [
    {
     "data": {
      "text/plain": [
       "'ation with national and international experts;\\n- t'"
      ]
     },
     "execution_count": 83,
     "metadata": {},
     "output_type": "execute_result"
    }
   ],
   "source": [
    "greeting"
   ]
  },
  {
   "cell_type": "code",
   "execution_count": 84,
   "metadata": {},
   "outputs": [
    {
     "ename": "KeyError",
     "evalue": "' t'",
     "output_type": "error",
     "traceback": [
      "\u001b[0;31m---------------------------------------------------------------------------\u001b[0m",
      "\u001b[0;31mKeyError\u001b[0m                                  Traceback (most recent call last)",
      "\u001b[0;32m<ipython-input-84-c80bea236e85>\u001b[0m in \u001b[0;36m<module>\u001b[0;34m\u001b[0m\n\u001b[1;32m      1\u001b[0m \u001b[0;32mfor\u001b[0m \u001b[0mi\u001b[0m \u001b[0;32min\u001b[0m \u001b[0mrange\u001b[0m\u001b[0;34m(\u001b[0m\u001b[0;36m500\u001b[0m\u001b[0;34m)\u001b[0m\u001b[0;34m:\u001b[0m\u001b[0;34m\u001b[0m\u001b[0;34m\u001b[0m\u001b[0m\n\u001b[1;32m      2\u001b[0m     \u001b[0mcut\u001b[0m \u001b[0;34m=\u001b[0m \u001b[0mgreeting\u001b[0m\u001b[0;34m[\u001b[0m\u001b[0;34m-\u001b[0m\u001b[0mk\u001b[0m\u001b[0;34m:\u001b[0m\u001b[0;34m]\u001b[0m\u001b[0;34m\u001b[0m\u001b[0;34m\u001b[0m\u001b[0m\n\u001b[0;32m----> 3\u001b[0;31m     \u001b[0mt_three\u001b[0m \u001b[0;34m=\u001b[0m \u001b[0msorted\u001b[0m\u001b[0;34m(\u001b[0m\u001b[0mlist\u001b[0m\u001b[0;34m(\u001b[0m\u001b[0mprobs\u001b[0m\u001b[0;34m[\u001b[0m\u001b[0mcut\u001b[0m\u001b[0;34m]\u001b[0m\u001b[0;34m.\u001b[0m\u001b[0mitems\u001b[0m\u001b[0;34m(\u001b[0m\u001b[0;34m)\u001b[0m\u001b[0;34m)\u001b[0m\u001b[0;34m,\u001b[0m \u001b[0mkey\u001b[0m\u001b[0;34m=\u001b[0m\u001b[0;32mlambda\u001b[0m \u001b[0mx\u001b[0m\u001b[0;34m:\u001b[0m \u001b[0mx\u001b[0m\u001b[0;34m[\u001b[0m\u001b[0;36m1\u001b[0m\u001b[0;34m]\u001b[0m\u001b[0;34m,\u001b[0m \u001b[0mreverse\u001b[0m\u001b[0;34m=\u001b[0m\u001b[0;32mTrue\u001b[0m\u001b[0;34m)\u001b[0m\u001b[0;34m[\u001b[0m\u001b[0;34m:\u001b[0m\u001b[0;36m3\u001b[0m\u001b[0;34m]\u001b[0m\u001b[0;34m\u001b[0m\u001b[0;34m\u001b[0m\u001b[0m\n\u001b[0m\u001b[1;32m      4\u001b[0m     \u001b[0mgreeting\u001b[0m \u001b[0;34m+=\u001b[0m \u001b[0mrandom\u001b[0m\u001b[0;34m.\u001b[0m\u001b[0mchoice\u001b[0m\u001b[0;34m(\u001b[0m\u001b[0mt_three\u001b[0m\u001b[0;34m)\u001b[0m\u001b[0;34m[\u001b[0m\u001b[0;36m0\u001b[0m\u001b[0;34m]\u001b[0m\u001b[0;34m\u001b[0m\u001b[0;34m\u001b[0m\u001b[0m\n",
      "\u001b[0;31mKeyError\u001b[0m: ' t'"
     ]
    }
   ],
   "source": [
    "for i in range(500):\n",
    "    cut = greeting[-k:]\n",
    "    t_three = sorted(list(probs[cut].items()), key=lambda x: x[1], reverse=True)[:3]\n",
    "    greeting += random.choice(t_three)[0]"
   ]
  },
  {
   "cell_type": "code",
   "execution_count": 85,
   "metadata": {},
   "outputs": [
    {
     "name": "stdout",
     "output_type": "stream",
     "text": [
      "ation with national and international experts;\n",
      "- t\n"
     ]
    }
   ],
   "source": [
    "print(greeting)"
   ]
  },
  {
   "cell_type": "code",
   "execution_count": null,
   "metadata": {},
   "outputs": [],
   "source": []
  },
  {
   "cell_type": "code",
   "execution_count": 98,
   "metadata": {},
   "outputs": [],
   "source": [
    "from nltk.tokenize import word_tokenize"
   ]
  },
  {
   "cell_type": "code",
   "execution_count": 99,
   "metadata": {},
   "outputs": [],
   "source": [
    "words = word_tokenize(text)"
   ]
  },
  {
   "cell_type": "code",
   "execution_count": 131,
   "metadata": {},
   "outputs": [],
   "source": [
    "probs = {}\n",
    "k = 3\n",
    "\n",
    "\n",
    "for index in range(len(words) - k - 1):\n",
    "    cut_list = words[index: index + k]\n",
    "    next_word = words[index + k]\n",
    "    cut = \" \".join(cut_list)\n",
    "    if cut not in probs:\n",
    "        probs[cut] = {}\n",
    "        \n",
    "    if next_word not in probs[cut]:\n",
    "        probs[cut][next_word] = 0\n",
    "    probs[cut][next_word] += 1"
   ]
  },
  {
   "cell_type": "code",
   "execution_count": 132,
   "metadata": {},
   "outputs": [],
   "source": [
    "greeting = word_tokenize(text[ind:ind+40])[:-1]"
   ]
  },
  {
   "cell_type": "code",
   "execution_count": null,
   "metadata": {},
   "outputs": [],
   "source": []
  },
  {
   "cell_type": "code",
   "execution_count": 133,
   "metadata": {},
   "outputs": [],
   "source": [
    "for i in range(500):\n",
    "    cut = \" \".join(greeting[-k:])\n",
    "    t_three = sorted(list(probs[cut].items()), key=lambda x: x[1], reverse=True)[:3]\n",
    "    greeting.append(random.choice(t_three)[0])"
   ]
  },
  {
   "cell_type": "code",
   "execution_count": 134,
   "metadata": {},
   "outputs": [
    {
     "name": "stdout",
     "output_type": "stream",
     "text": [
      "ation with national and international experts ; - to be the Government ’ s Meghalaya Mission Football aims at detecting talent at the grass-root level and providing support for grooming and nurturing promising children and youngsters as professional footballers . I am confident it will , India would remain in step with each other in the world ; in enhanced stability of our economy to FDI . India achieved the highest ever ; The traffic in Major Ports has shown a drastic improvement in wheat yield from 1,629 kilogram per hectare to 2,323 kilogram per hectare to 2,323 kilogram per hectare . The amount is also so low that I feel reluctant even to mention it . On this logic , Mandana Mishra was an elderly scholar and high ritualist who believed even in animal sacrifice . Adi Sankara , a vedantic who did not want to wait for that moment when they will be the force of circumstances . Either way , we shall connect every citizen in the development modelling of the world , we have a long historical journey and heritage . Buddhism and Buddhist heritage have been a very productive and pleasant visit . I am confident it would certainly be helpful . Even today there are about eighteen thousand , five hundred villages with wires and polls . The country is celebrating 150th birth anniversary of Babasaheb Ambedkar then can we make 26th January a medium to organize debates , poetry , slogan competition regarding duties in our own country . Last month , President Sirisena honoured us by making India his first foreign visit as President . I am pleased with the agreements on two Chinese industrial parks in India – for India and the world . We will also be happy to further remove the imbalance in trade between us . We have also come up with the concerned . In a way , he created a faith without God , and a force of peace and prosperity of the people . We invite Malaysian students to study in the world , India is not new to the parliament . About 600 Indo-German Joint ventures are already operating in India . I have seen that while on 26th June some years ago the voice of peace , stability and prosperity in this region is to uphold and strengthen the Indo Chinese relations in the times ahead . The road for the first time that this programme was organized in Bhopal . All the rights of children and the disabled . This is the strength of our values and partnership to shape a better and more sustainable future for the region . I am sure , this event could not have a chosen a better venue than the Nazarbayev University . In its short life , it has become imperative to present Islam in its true essence . Last week has been a story of resolve , determination , diligence . Remain steadfast friends , if you have a\n"
     ]
    }
   ],
   "source": [
    "print(\" \".join(greeting))"
   ]
  },
  {
   "cell_type": "code",
   "execution_count": null,
   "metadata": {},
   "outputs": [],
   "source": []
  },
  {
   "cell_type": "code",
   "execution_count": null,
   "metadata": {},
   "outputs": [],
   "source": []
  }
 ],
 "metadata": {
  "kernelspec": {
   "display_name": "Python 3",
   "language": "python",
   "name": "python3"
  },
  "language_info": {
   "codemirror_mode": {
    "name": "ipython",
    "version": 3
   },
   "file_extension": ".py",
   "mimetype": "text/x-python",
   "name": "python",
   "nbconvert_exporter": "python",
   "pygments_lexer": "ipython3",
   "version": "3.7.2"
  }
 },
 "nbformat": 4,
 "nbformat_minor": 4
}

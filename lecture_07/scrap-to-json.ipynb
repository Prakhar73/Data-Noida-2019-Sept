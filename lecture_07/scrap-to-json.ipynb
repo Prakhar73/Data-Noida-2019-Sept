{
 "cells": [
  {
   "cell_type": "code",
   "execution_count": 2,
   "metadata": {},
   "outputs": [],
   "source": [
    "import bs4"
   ]
  },
  {
   "cell_type": "code",
   "execution_count": 3,
   "metadata": {},
   "outputs": [],
   "source": [
    "with open(\"quote.html\") as f:\n",
    "    text = f.read()"
   ]
  },
  {
   "cell_type": "code",
   "execution_count": null,
   "metadata": {},
   "outputs": [],
   "source": []
  },
  {
   "cell_type": "code",
   "execution_count": 7,
   "metadata": {},
   "outputs": [],
   "source": [
    "soup = bs4.BeautifulSoup(text)\n",
    "\n",
    "\n",
    "quotes = soup.find_all(\"div\", {\"class\": \"quote\"})\n",
    "\n",
    "quote_list = []\n",
    "\n",
    "for quote in quotes:\n",
    "\n",
    "    quoteText = quote.find_next(\"div\", {\"class\": \"quoteText\"})\n",
    "\n",
    "    lines = quoteText.text.split(\"\\n\")\n",
    "    quote_line = lines[1].strip()[1: -1]\n",
    "    quote_auther = lines[4].strip()\n",
    "    links = quote.find_all(\"a\")\n",
    "\n",
    "    tags = []\n",
    "    for link in links:\n",
    "        if link.has_attr(\"href\"):\n",
    "            if link[\"href\"].startswith(\"/quotes/tag\"):\n",
    "                tags.append(link.text)\n",
    "                \n",
    "    quote_details = {\n",
    "        \"quote\" : quote_line,\n",
    "        \"author\" : quote_auther,\n",
    "        \"tags\" : tags\n",
    "    }\n",
    "    \n",
    "    quote_list.append(quote_details)\n",
    "    \n",
    "    \n",
    "\n",
    "\n",
    "\n"
   ]
  },
  {
   "cell_type": "code",
   "execution_count": 9,
   "metadata": {},
   "outputs": [],
   "source": [
    "# quote_list"
   ]
  },
  {
   "cell_type": "code",
   "execution_count": 10,
   "metadata": {},
   "outputs": [],
   "source": [
    "import json"
   ]
  },
  {
   "cell_type": "code",
   "execution_count": 14,
   "metadata": {},
   "outputs": [],
   "source": [
    "with open(\"quotes.json\", \"wt\") as fname:\n",
    "    json.dump(quote_list, fname)"
   ]
  },
  {
   "cell_type": "code",
   "execution_count": 18,
   "metadata": {},
   "outputs": [],
   "source": [
    "# json.dumps(quote_list)"
   ]
  },
  {
   "cell_type": "code",
   "execution_count": null,
   "metadata": {},
   "outputs": [],
   "source": []
  }
 ],
 "metadata": {
  "kernelspec": {
   "display_name": "Python 3",
   "language": "python",
   "name": "python3"
  },
  "language_info": {
   "codemirror_mode": {
    "name": "ipython",
    "version": 3
   },
   "file_extension": ".py",
   "mimetype": "text/x-python",
   "name": "python",
   "nbconvert_exporter": "python",
   "pygments_lexer": "ipython3",
   "version": "3.7.2"
  }
 },
 "nbformat": 4,
 "nbformat_minor": 4
}

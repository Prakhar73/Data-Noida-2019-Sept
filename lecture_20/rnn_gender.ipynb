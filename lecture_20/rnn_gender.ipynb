{
 "cells": [
  {
   "cell_type": "code",
   "execution_count": null,
   "metadata": {
    "colab": {},
    "colab_type": "code",
    "id": "ez6ngvBrYYwj"
   },
   "outputs": [],
   "source": [
    "! mkdir /root/.kaggle\n",
    "! cp kaggle.json /root/.kaggle/kaggle.json"
   ]
  },
  {
   "cell_type": "code",
   "execution_count": null,
   "metadata": {
    "colab": {},
    "colab_type": "code",
    "id": "fL4RU6ZYYhcQ"
   },
   "outputs": [],
   "source": [
    "! chmod 600  /root/.kaggle/kaggle.json"
   ]
  },
  {
   "cell_type": "code",
   "execution_count": null,
   "metadata": {
    "colab": {
     "base_uri": "https://localhost:8080/",
     "height": 69
    },
    "colab_type": "code",
    "id": "Nrql2LtpYsrw",
    "outputId": "bec49bb7-bcce-4262-f8ce-faca1b41afd7"
   },
   "outputs": [
    {
     "name": "stdout",
     "output_type": "stream",
     "text": [
      "Downloading us-baby-names.zip to /content\n",
      " 94% 163M/173M [00:07<00:00, 25.3MB/s]\n",
      "100% 173M/173M [00:07<00:00, 23.2MB/s]\n"
     ]
    }
   ],
   "source": [
    "! kaggle datasets download kaggle/us-baby-names"
   ]
  },
  {
   "cell_type": "code",
   "execution_count": null,
   "metadata": {
    "colab": {
     "base_uri": "https://localhost:8080/",
     "height": 139
    },
    "colab_type": "code",
    "id": "HROB_QHaYwCh",
    "outputId": "2fb6883a-0c5d-4b27-db17-14260e9d1ba1"
   },
   "outputs": [
    {
     "name": "stdout",
     "output_type": "stream",
     "text": [
      "Archive:  us-baby-names.zip\n",
      "  inflating: NationalNames.csv       \n",
      "  inflating: NationalReadMe.pdf      \n",
      "  inflating: StateNames.csv          \n",
      "  inflating: StateReadMe.pdf         \n",
      "  inflating: database.sqlite         \n",
      "  inflating: hashes.txt              \n"
     ]
    }
   ],
   "source": [
    "! unzip us-baby-names.zip"
   ]
  },
  {
   "cell_type": "code",
   "execution_count": null,
   "metadata": {
    "colab": {},
    "colab_type": "code",
    "id": "WRhR-momZCgG"
   },
   "outputs": [],
   "source": [
    "import pandas as pd"
   ]
  },
  {
   "cell_type": "code",
   "execution_count": null,
   "metadata": {
    "colab": {},
    "colab_type": "code",
    "id": "vAP9zI3rZKYu"
   },
   "outputs": [],
   "source": [
    "nn_names = pd.read_csv(\"NationalNames.csv\")"
   ]
  },
  {
   "cell_type": "code",
   "execution_count": null,
   "metadata": {
    "colab": {
     "base_uri": "https://localhost:8080/",
     "height": 35
    },
    "colab_type": "code",
    "id": "uv32LR20ZSjs",
    "outputId": "1021c885-9825-4a33-b686-bdd26302d490"
   },
   "outputs": [
    {
     "data": {
      "text/plain": [
       "Index(['Id', 'Name', 'Year', 'Gender', 'Count'], dtype='object')"
      ]
     },
     "execution_count": 7,
     "metadata": {
      "tags": []
     },
     "output_type": "execute_result"
    }
   ],
   "source": [
    "nn_names.columns"
   ]
  },
  {
   "cell_type": "code",
   "execution_count": null,
   "metadata": {
    "colab": {},
    "colab_type": "code",
    "id": "-kZiDSFnZVXo"
   },
   "outputs": [],
   "source": [
    "names = nn_names[['Name', 'Gender']]"
   ]
  },
  {
   "cell_type": "code",
   "execution_count": null,
   "metadata": {
    "colab": {
     "base_uri": "https://localhost:8080/",
     "height": 35
    },
    "colab_type": "code",
    "id": "WSKbKyYFZcVC",
    "outputId": "b2699f6f-8e84-444f-a0d2-2b01bae07f96"
   },
   "outputs": [
    {
     "data": {
      "text/plain": [
       "(1825433, 2)"
      ]
     },
     "execution_count": 9,
     "metadata": {
      "tags": []
     },
     "output_type": "execute_result"
    }
   ],
   "source": [
    "names.shape"
   ]
  },
  {
   "cell_type": "code",
   "execution_count": null,
   "metadata": {
    "colab": {},
    "colab_type": "code",
    "id": "m1kQSXNQZeJk"
   },
   "outputs": [],
   "source": [
    "import string\n",
    "letters = string.ascii_lowercase[:26]"
   ]
  },
  {
   "cell_type": "code",
   "execution_count": null,
   "metadata": {
    "colab": {},
    "colab_type": "code",
    "id": "KytHw5i4Z3Vj"
   },
   "outputs": [],
   "source": [
    "vocab = {}\n",
    "for index, letter in enumerate(letters):\n",
    "  vocab[letter] = index + 1"
   ]
  },
  {
   "cell_type": "code",
   "execution_count": null,
   "metadata": {
    "colab": {},
    "colab_type": "code",
    "id": "9NTkytzwaRGz"
   },
   "outputs": [],
   "source": [
    "names_list = []\n",
    "for name in names.Name:\n",
    "  name_li = []\n",
    "  for letter in name.lower():\n",
    "      if letter in vocab:\n",
    "        name_li.append(vocab[letter])\n",
    "  names_list.append(name_li)"
   ]
  },
  {
   "cell_type": "code",
   "execution_count": null,
   "metadata": {
    "colab": {
     "base_uri": "https://localhost:8080/",
     "height": 99
    },
    "colab_type": "code",
    "id": "frhMG2iZaSz1",
    "outputId": "0f06d799-8b19-4131-c579-fdcd4be2aa7d"
   },
   "outputs": [
    {
     "name": "stderr",
     "output_type": "stream",
     "text": [
      "Using TensorFlow backend.\n"
     ]
    },
    {
     "data": {
      "text/html": [
       "<p style=\"color: red;\">\n",
       "The default version of TensorFlow in Colab will soon switch to TensorFlow 2.x.<br>\n",
       "We recommend you <a href=\"https://www.tensorflow.org/guide/migrate\" target=\"_blank\">upgrade</a> now \n",
       "or ensure your notebook will continue to use TensorFlow 1.x via the <code>%tensorflow_version 1.x</code> magic:\n",
       "<a href=\"https://colab.research.google.com/notebooks/tensorflow_version.ipynb\" target=\"_blank\">more info</a>.</p>\n"
      ],
      "text/plain": [
       "<IPython.core.display.HTML object>"
      ]
     },
     "metadata": {
      "tags": []
     },
     "output_type": "display_data"
    }
   ],
   "source": [
    "from keras.preprocessing.sequence import pad_sequences\n",
    "from sklearn.preprocessing import LabelEncoder"
   ]
  },
  {
   "cell_type": "code",
   "execution_count": null,
   "metadata": {
    "colab": {},
    "colab_type": "code",
    "id": "3GFGpB4pa9zh"
   },
   "outputs": [],
   "source": [
    "X = pad_sequences(names_list, maxlen=10)"
   ]
  },
  {
   "cell_type": "code",
   "execution_count": null,
   "metadata": {
    "colab": {},
    "colab_type": "code",
    "id": "2rp72-aKbkyX"
   },
   "outputs": [],
   "source": [
    "le = LabelEncoder()"
   ]
  },
  {
   "cell_type": "code",
   "execution_count": null,
   "metadata": {
    "colab": {},
    "colab_type": "code",
    "id": "DLtjYmoNcVE7"
   },
   "outputs": [],
   "source": [
    "y = le.fit_transform(names.Gender.values).reshape(-1, 1)"
   ]
  },
  {
   "cell_type": "code",
   "execution_count": null,
   "metadata": {
    "colab": {
     "base_uri": "https://localhost:8080/",
     "height": 35
    },
    "colab_type": "code",
    "id": "KqeSJ9c3cg6O",
    "outputId": "c9ced289-5a1e-49f1-ce7e-28bf2ce1e75e"
   },
   "outputs": [
    {
     "data": {
      "text/plain": [
       "(1825433, 1)"
      ]
     },
     "execution_count": 17,
     "metadata": {
      "tags": []
     },
     "output_type": "execute_result"
    }
   ],
   "source": [
    "y.shape"
   ]
  },
  {
   "cell_type": "code",
   "execution_count": null,
   "metadata": {
    "colab": {},
    "colab_type": "code",
    "id": "EtuP3sBYconS"
   },
   "outputs": [],
   "source": [
    "from keras.layers import Input, LSTM, Dense, Embedding\n",
    "from keras.models import Model"
   ]
  },
  {
   "cell_type": "code",
   "execution_count": null,
   "metadata": {
    "colab": {},
    "colab_type": "code",
    "id": "z2fQrM-XeU2p"
   },
   "outputs": [],
   "source": [
    "in_layer = Input(shape=(10, ))\n",
    "embed = Embedding(27, 3)(in_layer)\n",
    "l1 = LSTM(64)(embed)\n",
    "d1 = Dense(10, activation=\"tanh\")(l1)\n",
    "out = Dense(1, activation=\"sigmoid\")(d1)\n"
   ]
  },
  {
   "cell_type": "code",
   "execution_count": null,
   "metadata": {
    "colab": {},
    "colab_type": "code",
    "id": "ELvPRfSmeg9H"
   },
   "outputs": [],
   "source": [
    "model = Model(in_layer, out)"
   ]
  },
  {
   "cell_type": "code",
   "execution_count": null,
   "metadata": {
    "colab": {},
    "colab_type": "code",
    "id": "6gb4ZtJRfSjS"
   },
   "outputs": [],
   "source": [
    "model.compile(optimizer=\"rmsprop\", loss=\"binary_crossentropy\", metrics=[\"accuracy\"])"
   ]
  },
  {
   "cell_type": "code",
   "execution_count": null,
   "metadata": {
    "colab": {
     "base_uri": "https://localhost:8080/",
     "height": 523
    },
    "colab_type": "code",
    "id": "4XEnO9vffyxY",
    "outputId": "8cf76e5d-c3e4-45a8-d4c3-d06e2200ce73"
   },
   "outputs": [
    {
     "name": "stdout",
     "output_type": "stream",
     "text": [
      "WARNING:tensorflow:From /usr/local/lib/python3.6/dist-packages/keras/backend/tensorflow_backend.py:1033: The name tf.assign_add is deprecated. Please use tf.compat.v1.assign_add instead.\n",
      "\n",
      "WARNING:tensorflow:From /usr/local/lib/python3.6/dist-packages/keras/backend/tensorflow_backend.py:1020: The name tf.assign is deprecated. Please use tf.compat.v1.assign instead.\n",
      "\n",
      "WARNING:tensorflow:From /usr/local/lib/python3.6/dist-packages/keras/backend/tensorflow_backend.py:3005: The name tf.Session is deprecated. Please use tf.compat.v1.Session instead.\n",
      "\n",
      "Train on 1460346 samples, validate on 365087 samples\n",
      "Epoch 1/5\n",
      "WARNING:tensorflow:From /usr/local/lib/python3.6/dist-packages/keras/backend/tensorflow_backend.py:190: The name tf.get_default_session is deprecated. Please use tf.compat.v1.get_default_session instead.\n",
      "\n",
      "WARNING:tensorflow:From /usr/local/lib/python3.6/dist-packages/keras/backend/tensorflow_backend.py:197: The name tf.ConfigProto is deprecated. Please use tf.compat.v1.ConfigProto instead.\n",
      "\n",
      "WARNING:tensorflow:From /usr/local/lib/python3.6/dist-packages/keras/backend/tensorflow_backend.py:207: The name tf.global_variables is deprecated. Please use tf.compat.v1.global_variables instead.\n",
      "\n",
      "WARNING:tensorflow:From /usr/local/lib/python3.6/dist-packages/keras/backend/tensorflow_backend.py:216: The name tf.is_variable_initialized is deprecated. Please use tf.compat.v1.is_variable_initialized instead.\n",
      "\n",
      "WARNING:tensorflow:From /usr/local/lib/python3.6/dist-packages/keras/backend/tensorflow_backend.py:223: The name tf.variables_initializer is deprecated. Please use tf.compat.v1.variables_initializer instead.\n",
      "\n",
      "1460346/1460346 [==============================] - 180s 123us/step - loss: 0.5902 - acc: 0.6781 - val_loss: 0.5023 - val_acc: 0.7527\n",
      "Epoch 2/5\n",
      "1460346/1460346 [==============================] - 179s 122us/step - loss: 0.4769 - acc: 0.7710 - val_loss: 0.4717 - val_acc: 0.7796\n",
      "Epoch 3/5\n",
      "1460346/1460346 [==============================] - 176s 121us/step - loss: 0.4637 - acc: 0.7813 - val_loss: 0.4566 - val_acc: 0.7840\n",
      "Epoch 4/5\n",
      "1460346/1460346 [==============================] - 180s 123us/step - loss: 0.4564 - acc: 0.7848 - val_loss: 0.4576 - val_acc: 0.7862\n",
      "Epoch 5/5\n",
      "1460346/1460346 [==============================] - 178s 122us/step - loss: 0.4524 - acc: 0.7876 - val_loss: 0.4635 - val_acc: 0.7810\n"
     ]
    },
    {
     "data": {
      "text/plain": [
       "<keras.callbacks.History at 0x7f442d328ba8>"
      ]
     },
     "execution_count": 26,
     "metadata": {
      "tags": []
     },
     "output_type": "execute_result"
    }
   ],
   "source": [
    "model.fit(X, y, batch_size=10000, epochs=5, validation_split=0.2)"
   ]
  },
  {
   "cell_type": "code",
   "execution_count": null,
   "metadata": {
    "colab": {},
    "colab_type": "code",
    "id": "3uhdhuQIf1Np"
   },
   "outputs": [],
   "source": [
    "model.evaluate(X, y)"
   ]
  },
  {
   "cell_type": "code",
   "execution_count": null,
   "metadata": {
    "colab": {},
    "colab_type": "code",
    "id": "QtLGrjjuhdW5"
   },
   "outputs": [],
   "source": [
    "names = [\"Meenal\"]\n",
    "\n",
    "names_list = []\n",
    "for name in names:\n",
    "  name_li = []\n",
    "  for letter in name.lower():\n",
    "\n",
    "      if letter in vocab:\n",
    "        name_li.append(vocab[letter])\n",
    "  names_list.append(name_li)"
   ]
  },
  {
   "cell_type": "code",
   "execution_count": null,
   "metadata": {
    "colab": {},
    "colab_type": "code",
    "id": "y21WMXxOiYt8"
   },
   "outputs": [],
   "source": [
    "X_test = pad_sequences(names_list, maxlen=10)"
   ]
  },
  {
   "cell_type": "code",
   "execution_count": null,
   "metadata": {
    "colab": {},
    "colab_type": "code",
    "id": "b2TIjOz8iht2"
   },
   "outputs": [],
   "source": [
    "X_test"
   ]
  },
  {
   "cell_type": "code",
   "execution_count": null,
   "metadata": {
    "colab": {},
    "colab_type": "code",
    "id": "I5UzI5wcii1Y"
   },
   "outputs": [],
   "source": [
    "model.predict(X_test)"
   ]
  },
  {
   "cell_type": "code",
   "execution_count": null,
   "metadata": {
    "colab": {},
    "colab_type": "code",
    "id": "7GQwHQ7KjGtc"
   },
   "outputs": [],
   "source": []
  }
 ],
 "metadata": {
  "colab": {
   "name": "rnn_gender.ipynb",
   "provenance": []
  },
  "kernelspec": {
   "display_name": "Python 3",
   "language": "python",
   "name": "python3"
  },
  "language_info": {
   "codemirror_mode": {
    "name": "ipython",
    "version": 3
   },
   "file_extension": ".py",
   "mimetype": "text/x-python",
   "name": "python",
   "nbconvert_exporter": "python",
   "pygments_lexer": "ipython3",
   "version": "3.7.2"
  }
 },
 "nbformat": 4,
 "nbformat_minor": 4
}

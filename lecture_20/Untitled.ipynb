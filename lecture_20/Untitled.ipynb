{
 "cells": [
  {
   "cell_type": "code",
   "execution_count": 15,
   "metadata": {},
   "outputs": [],
   "source": [
    "from tensorflow.keras.layers import Dense, Input\n",
    "from tensorflow.keras.models import Model\n",
    "\n",
    "import pandas as pd\n",
    "import numpy as np\n",
    "from sklearn.preprocessing import OneHotEncoder\n",
    "from sklearn.model_selection import train_test_split\n",
    "\n",
    "import matplotlib.pyplot as plt\n",
    "\n",
    "from keras.preprocessing.image import ImageDataGenerator"
   ]
  },
  {
   "cell_type": "code",
   "execution_count": 19,
   "metadata": {},
   "outputs": [],
   "source": [
    "mnist = pd.read_csv(\"../datasets/mnist_train_small.csv\", header=None).values\n",
    "\n",
    "X, y = mnist[:, 1:], mnist[:, :1]\n",
    "\n",
    "ohe = OneHotEncoder(categories=\"auto\")\n",
    "\n",
    "y_hot = ohe.fit_transform(y).todense()"
   ]
  },
  {
   "cell_type": "code",
   "execution_count": 46,
   "metadata": {},
   "outputs": [],
   "source": [
    "in_encod = Input(shape=(784,))\n",
    "d_en_1 = Dense(200, activation=\"relu\")(in_encod)\n",
    "d_en_2 = Dense(100, activation=\"relu\")(d_en_1)\n",
    "out_encod = Dense(50, activation=\"relu\")(d_en_2)"
   ]
  },
  {
   "cell_type": "code",
   "execution_count": 47,
   "metadata": {},
   "outputs": [],
   "source": [
    "encoder = Model(in_encod, out_encod)"
   ]
  },
  {
   "cell_type": "code",
   "execution_count": 48,
   "metadata": {},
   "outputs": [],
   "source": [
    "in_decod = Input(shape=(50,))\n",
    "d_de_1 = Dense(100, activation=\"relu\")(in_decod)\n",
    "d_de_2 = Dense(200, activation=\"relu\")(d_de_1)\n",
    "out_decod = Dense(784, activation=\"sigmoid\")(d_de_2)"
   ]
  },
  {
   "cell_type": "code",
   "execution_count": 49,
   "metadata": {},
   "outputs": [],
   "source": [
    "decoder = Model(in_decod, out_decod)"
   ]
  },
  {
   "cell_type": "code",
   "execution_count": 50,
   "metadata": {},
   "outputs": [],
   "source": [
    "in_auto = Input(shape=(784,))\n",
    "enc_layer = encoder(in_auto)\n",
    "dec_layer = decoder(enc_layer)"
   ]
  },
  {
   "cell_type": "code",
   "execution_count": 51,
   "metadata": {},
   "outputs": [],
   "source": [
    "autoencoder = Model(in_auto, dec_layer)"
   ]
  },
  {
   "cell_type": "code",
   "execution_count": 52,
   "metadata": {},
   "outputs": [
    {
     "name": "stdout",
     "output_type": "stream",
     "text": [
      "Model: \"model_9\"\n",
      "_________________________________________________________________\n",
      "Layer (type)                 Output Shape              Param #   \n",
      "=================================================================\n",
      "input_11 (InputLayer)        [(None, 784)]             0         \n",
      "_________________________________________________________________\n",
      "model_7 (Model)              (None, 50)                182150    \n",
      "_________________________________________________________________\n",
      "model_8 (Model)              (None, 784)               182884    \n",
      "=================================================================\n",
      "Total params: 365,034\n",
      "Trainable params: 365,034\n",
      "Non-trainable params: 0\n",
      "_________________________________________________________________\n"
     ]
    }
   ],
   "source": [
    "autoencoder.summary()"
   ]
  },
  {
   "cell_type": "code",
   "execution_count": 53,
   "metadata": {},
   "outputs": [],
   "source": [
    "X_mod = X / 255"
   ]
  },
  {
   "cell_type": "code",
   "execution_count": 62,
   "metadata": {},
   "outputs": [],
   "source": [
    "autoencoder.compile(optimizer='adam', loss='binary_crossentropy')"
   ]
  },
  {
   "cell_type": "code",
   "execution_count": 63,
   "metadata": {},
   "outputs": [],
   "source": [
    "X_train, X_test, y_train, y_test = train_test_split(\n",
    "...     X_mod, y, test_size=0.33, random_state=42)"
   ]
  },
  {
   "cell_type": "code",
   "execution_count": 64,
   "metadata": {},
   "outputs": [
    {
     "name": "stdout",
     "output_type": "stream",
     "text": [
      "Train on 13400 samples, validate on 6600 samples\n",
      "Epoch 1/100\n",
      "13400/13400 [==============================] - 1s 86us/sample - loss: 0.3482 - val_loss: 0.2581\n",
      "Epoch 2/100\n",
      "13400/13400 [==============================] - 1s 52us/sample - loss: 0.2375 - val_loss: 0.2078\n",
      "Epoch 3/100\n",
      "13400/13400 [==============================] - 1s 62us/sample - loss: 0.1906 - val_loss: 0.1774\n",
      "Epoch 4/100\n",
      "13400/13400 [==============================] - 1s 58us/sample - loss: 0.1690 - val_loss: 0.1590\n",
      "Epoch 5/100\n",
      "13400/13400 [==============================] - 1s 71us/sample - loss: 0.1535 - val_loss: 0.1471\n",
      "Epoch 6/100\n",
      "13400/13400 [==============================] - 1s 51us/sample - loss: 0.1434 - val_loss: 0.1389\n",
      "Epoch 7/100\n",
      "13400/13400 [==============================] - 1s 52us/sample - loss: 0.1360 - val_loss: 0.1331\n",
      "Epoch 8/100\n",
      "13400/13400 [==============================] - 1s 55us/sample - loss: 0.1300 - val_loss: 0.1275\n",
      "Epoch 9/100\n",
      "13400/13400 [==============================] - 1s 63us/sample - loss: 0.1249 - val_loss: 0.1230\n",
      "Epoch 10/100\n",
      "13400/13400 [==============================] - 1s 55us/sample - loss: 0.1207 - val_loss: 0.1196\n",
      "Epoch 11/100\n",
      "13400/13400 [==============================] - 1s 70us/sample - loss: 0.1177 - val_loss: 0.1180\n",
      "Epoch 12/100\n",
      "13400/13400 [==============================] - 1s 62us/sample - loss: 0.1149 - val_loss: 0.1141\n",
      "Epoch 13/100\n",
      "13400/13400 [==============================] - 1s 62us/sample - loss: 0.1124 - val_loss: 0.1120\n",
      "Epoch 14/100\n",
      "13400/13400 [==============================] - 1s 63us/sample - loss: 0.1101 - val_loss: 0.1101\n",
      "Epoch 15/100\n",
      "13400/13400 [==============================] - 1s 61us/sample - loss: 0.1082 - val_loss: 0.1088\n",
      "Epoch 16/100\n",
      "13400/13400 [==============================] - 1s 67us/sample - loss: 0.1068 - val_loss: 0.1072\n",
      "Epoch 17/100\n",
      "13400/13400 [==============================] - 1s 52us/sample - loss: 0.1051 - val_loss: 0.1052\n",
      "Epoch 18/100\n",
      "13400/13400 [==============================] - 1s 53us/sample - loss: 0.1035 - val_loss: 0.1044\n",
      "Epoch 19/100\n",
      "13400/13400 [==============================] - 1s 53us/sample - loss: 0.1021 - val_loss: 0.1029\n",
      "Epoch 20/100\n",
      "13400/13400 [==============================] - 1s 55us/sample - loss: 0.1007 - val_loss: 0.1020\n",
      "Epoch 21/100\n",
      "13400/13400 [==============================] - 1s 58us/sample - loss: 0.1000 - val_loss: 0.1005\n",
      "Epoch 22/100\n",
      "13400/13400 [==============================] - 1s 60us/sample - loss: 0.0986 - val_loss: 0.1001\n",
      "Epoch 23/100\n",
      "13400/13400 [==============================] - 1s 58us/sample - loss: 0.0980 - val_loss: 0.0988\n",
      "Epoch 24/100\n",
      "13400/13400 [==============================] - 1s 71us/sample - loss: 0.0970 - val_loss: 0.0983\n",
      "Epoch 25/100\n",
      "13400/13400 [==============================] - 1s 58us/sample - loss: 0.0965 - val_loss: 0.0974\n",
      "Epoch 26/100\n",
      "13400/13400 [==============================] - 1s 53us/sample - loss: 0.0956 - val_loss: 0.0968\n",
      "Epoch 27/100\n",
      "13400/13400 [==============================] - 1s 53us/sample - loss: 0.0951 - val_loss: 0.0964\n",
      "Epoch 28/100\n",
      "13400/13400 [==============================] - 1s 53us/sample - loss: 0.0946 - val_loss: 0.0963\n",
      "Epoch 29/100\n",
      "13400/13400 [==============================] - 1s 54us/sample - loss: 0.0942 - val_loss: 0.0954\n",
      "Epoch 30/100\n",
      "13400/13400 [==============================] - 1s 54us/sample - loss: 0.0936 - val_loss: 0.0957\n",
      "Epoch 31/100\n",
      "13400/13400 [==============================] - 1s 54us/sample - loss: 0.0933 - val_loss: 0.0947\n",
      "Epoch 32/100\n",
      "13400/13400 [==============================] - 1s 54us/sample - loss: 0.0928 - val_loss: 0.0943\n",
      "Epoch 33/100\n",
      "13400/13400 [==============================] - 1s 55us/sample - loss: 0.0924 - val_loss: 0.0943\n",
      "Epoch 34/100\n",
      "13400/13400 [==============================] - 1s 54us/sample - loss: 0.0919 - val_loss: 0.0931\n",
      "Epoch 35/100\n",
      "13400/13400 [==============================] - 1s 54us/sample - loss: 0.0915 - val_loss: 0.0934\n",
      "Epoch 36/100\n",
      "13400/13400 [==============================] - 1s 53us/sample - loss: 0.0911 - val_loss: 0.0929\n",
      "Epoch 37/100\n",
      "13400/13400 [==============================] - 1s 54us/sample - loss: 0.0908 - val_loss: 0.0924\n",
      "Epoch 38/100\n",
      "13400/13400 [==============================] - 1s 55us/sample - loss: 0.0903 - val_loss: 0.0923\n",
      "Epoch 39/100\n",
      "13400/13400 [==============================] - 1s 53us/sample - loss: 0.0901 - val_loss: 0.0919\n",
      "Epoch 40/100\n",
      "13400/13400 [==============================] - 1s 54us/sample - loss: 0.0897 - val_loss: 0.0918\n",
      "Epoch 41/100\n",
      "13400/13400 [==============================] - 1s 53us/sample - loss: 0.0893 - val_loss: 0.0913\n",
      "Epoch 42/100\n",
      "13400/13400 [==============================] - 1s 55us/sample - loss: 0.0892 - val_loss: 0.0909\n",
      "Epoch 43/100\n",
      "13400/13400 [==============================] - 1s 54us/sample - loss: 0.0888 - val_loss: 0.0905\n",
      "Epoch 44/100\n",
      "13400/13400 [==============================] - 1s 54us/sample - loss: 0.0884 - val_loss: 0.0903\n",
      "Epoch 45/100\n",
      "13400/13400 [==============================] - 1s 54us/sample - loss: 0.0881 - val_loss: 0.0905\n",
      "Epoch 46/100\n",
      "13400/13400 [==============================] - 1s 54us/sample - loss: 0.0880 - val_loss: 0.0900\n",
      "Epoch 47/100\n",
      "13400/13400 [==============================] - 1s 58us/sample - loss: 0.0876 - val_loss: 0.0897\n",
      "Epoch 48/100\n",
      "13400/13400 [==============================] - 1s 55us/sample - loss: 0.0873 - val_loss: 0.0895\n",
      "Epoch 49/100\n",
      "13400/13400 [==============================] - 1s 54us/sample - loss: 0.0872 - val_loss: 0.0893\n",
      "Epoch 50/100\n",
      "13400/13400 [==============================] - 1s 54us/sample - loss: 0.0870 - val_loss: 0.0889\n",
      "Epoch 51/100\n",
      "13400/13400 [==============================] - 1s 55us/sample - loss: 0.0867 - val_loss: 0.0891\n",
      "Epoch 52/100\n",
      "13400/13400 [==============================] - 1s 55us/sample - loss: 0.0864 - val_loss: 0.0884\n",
      "Epoch 53/100\n",
      "13400/13400 [==============================] - 1s 55us/sample - loss: 0.0862 - val_loss: 0.0891\n",
      "Epoch 54/100\n",
      "13400/13400 [==============================] - 1s 54us/sample - loss: 0.0860 - val_loss: 0.0884\n",
      "Epoch 55/100\n",
      "13400/13400 [==============================] - 1s 55us/sample - loss: 0.0859 - val_loss: 0.0886\n",
      "Epoch 56/100\n",
      "13400/13400 [==============================] - 1s 55us/sample - loss: 0.0858 - val_loss: 0.0881\n",
      "Epoch 57/100\n",
      "13400/13400 [==============================] - 1s 55us/sample - loss: 0.0855 - val_loss: 0.0877\n",
      "Epoch 58/100\n",
      "13400/13400 [==============================] - 1s 56us/sample - loss: 0.0853 - val_loss: 0.0876\n",
      "Epoch 59/100\n",
      "13400/13400 [==============================] - 1s 55us/sample - loss: 0.0851 - val_loss: 0.0873\n",
      "Epoch 60/100\n",
      "13400/13400 [==============================] - 1s 55us/sample - loss: 0.0850 - val_loss: 0.0877\n",
      "Epoch 61/100\n",
      "13400/13400 [==============================] - 1s 58us/sample - loss: 0.0847 - val_loss: 0.0870\n",
      "Epoch 62/100\n",
      "13400/13400 [==============================] - 1s 54us/sample - loss: 0.0845 - val_loss: 0.0869\n",
      "Epoch 63/100\n",
      "13400/13400 [==============================] - 1s 55us/sample - loss: 0.0843 - val_loss: 0.0872\n",
      "Epoch 64/100\n",
      "13400/13400 [==============================] - 1s 54us/sample - loss: 0.0843 - val_loss: 0.0866\n",
      "Epoch 65/100\n",
      "13400/13400 [==============================] - 1s 55us/sample - loss: 0.0840 - val_loss: 0.0862\n",
      "Epoch 66/100\n",
      "13400/13400 [==============================] - 1s 55us/sample - loss: 0.0838 - val_loss: 0.0865\n",
      "Epoch 67/100\n",
      "13400/13400 [==============================] - 1s 56us/sample - loss: 0.0836 - val_loss: 0.0860\n",
      "Epoch 68/100\n",
      "13400/13400 [==============================] - 1s 55us/sample - loss: 0.0834 - val_loss: 0.0863\n",
      "Epoch 69/100\n",
      "13400/13400 [==============================] - 1s 59us/sample - loss: 0.0837 - val_loss: 0.0858\n",
      "Epoch 70/100\n",
      "13400/13400 [==============================] - 1s 55us/sample - loss: 0.0831 - val_loss: 0.0856\n",
      "Epoch 71/100\n",
      "13400/13400 [==============================] - 1s 55us/sample - loss: 0.0830 - val_loss: 0.0862\n",
      "Epoch 72/100\n",
      "13400/13400 [==============================] - 1s 55us/sample - loss: 0.0830 - val_loss: 0.0852\n",
      "Epoch 73/100\n",
      "13400/13400 [==============================] - 1s 56us/sample - loss: 0.0826 - val_loss: 0.0854\n",
      "Epoch 74/100\n",
      "13400/13400 [==============================] - 1s 56us/sample - loss: 0.0826 - val_loss: 0.0857\n",
      "Epoch 75/100\n",
      "13400/13400 [==============================] - 1s 56us/sample - loss: 0.0825 - val_loss: 0.0853\n",
      "Epoch 76/100\n",
      "13400/13400 [==============================] - 1s 55us/sample - loss: 0.0824 - val_loss: 0.0853\n",
      "Epoch 77/100\n",
      "13400/13400 [==============================] - 1s 56us/sample - loss: 0.0822 - val_loss: 0.0852\n",
      "Epoch 78/100\n",
      "13400/13400 [==============================] - 1s 55us/sample - loss: 0.0821 - val_loss: 0.0851\n",
      "Epoch 79/100\n",
      "13400/13400 [==============================] - 1s 55us/sample - loss: 0.0820 - val_loss: 0.0846\n",
      "Epoch 80/100\n",
      "13400/13400 [==============================] - 1s 57us/sample - loss: 0.0819 - val_loss: 0.0847\n",
      "Epoch 81/100\n",
      "13400/13400 [==============================] - 1s 79us/sample - loss: 0.0818 - val_loss: 0.0843\n",
      "Epoch 82/100\n",
      "13400/13400 [==============================] - 1s 78us/sample - loss: 0.0816 - val_loss: 0.0844\n",
      "Epoch 83/100\n",
      "13400/13400 [==============================] - 1s 78us/sample - loss: 0.0815 - val_loss: 0.0841\n",
      "Epoch 84/100\n",
      "13400/13400 [==============================] - 1s 59us/sample - loss: 0.0814 - val_loss: 0.0841\n",
      "Epoch 85/100\n",
      "13400/13400 [==============================] - 1s 58us/sample - loss: 0.0814 - val_loss: 0.0841\n",
      "Epoch 86/100\n",
      "13400/13400 [==============================] - 1s 62us/sample - loss: 0.0812 - val_loss: 0.0841\n",
      "Epoch 87/100\n",
      "13400/13400 [==============================] - 1s 59us/sample - loss: 0.0812 - val_loss: 0.0842\n",
      "Epoch 88/100\n",
      "13400/13400 [==============================] - 1s 65us/sample - loss: 0.0810 - val_loss: 0.0837\n",
      "Epoch 89/100\n",
      "13400/13400 [==============================] - 1s 69us/sample - loss: 0.0810 - val_loss: 0.0839\n",
      "Epoch 90/100\n",
      "13400/13400 [==============================] - 1s 63us/sample - loss: 0.0809 - val_loss: 0.0838\n",
      "Epoch 91/100\n",
      "13400/13400 [==============================] - 1s 58us/sample - loss: 0.0807 - val_loss: 0.0838\n",
      "Epoch 92/100\n",
      "13400/13400 [==============================] - 1s 55us/sample - loss: 0.0806 - val_loss: 0.0837\n",
      "Epoch 93/100\n",
      "13400/13400 [==============================] - 1s 57us/sample - loss: 0.0806 - val_loss: 0.0834\n",
      "Epoch 94/100\n",
      "13400/13400 [==============================] - 1s 61us/sample - loss: 0.0805 - val_loss: 0.0834\n",
      "Epoch 95/100\n",
      "13400/13400 [==============================] - 1s 67us/sample - loss: 0.0804 - val_loss: 0.0835\n",
      "Epoch 96/100\n",
      "13400/13400 [==============================] - 1s 63us/sample - loss: 0.0804 - val_loss: 0.0835\n",
      "Epoch 97/100\n",
      "13400/13400 [==============================] - 1s 67us/sample - loss: 0.0803 - val_loss: 0.0832\n",
      "Epoch 98/100\n",
      "13400/13400 [==============================] - 1s 66us/sample - loss: 0.0802 - val_loss: 0.0832\n",
      "Epoch 99/100\n",
      "13400/13400 [==============================] - 1s 67us/sample - loss: 0.0802 - val_loss: 0.0832\n",
      "Epoch 100/100\n",
      "13400/13400 [==============================] - 1s 56us/sample - loss: 0.0800 - val_loss: 0.0829\n"
     ]
    }
   ],
   "source": [
    "hist = autoencoder.fit(X_train, X_train,\n",
    "                epochs=100,\n",
    "                batch_size=256,\n",
    "                shuffle=True,\n",
    "                validation_data=(X_test, X_test))"
   ]
  },
  {
   "cell_type": "code",
   "execution_count": 65,
   "metadata": {},
   "outputs": [
    {
     "data": {
      "text/plain": [
       "<matplotlib.image.AxesImage at 0x14467b1d0>"
      ]
     },
     "execution_count": 65,
     "metadata": {},
     "output_type": "execute_result"
    },
    {
     "data": {
      "image/png": "[encoded data removed]",
      "text/plain": [
       "<Figure size 432x288 with 1 Axes>"
      ]
     },
     "metadata": {
      "needs_background": "light"
     },
     "output_type": "display_data"
    }
   ],
   "source": [
    "plt.imshow(X_train[3].reshape(28, 28))"
   ]
  },
  {
   "cell_type": "code",
   "execution_count": 66,
   "metadata": {},
   "outputs": [],
   "source": [
    "out = autoencoder.predict(np.array([X_train[3]]))"
   ]
  },
  {
   "cell_type": "code",
   "execution_count": 67,
   "metadata": {},
   "outputs": [
    {
     "data": {
      "text/plain": [
       "<matplotlib.image.AxesImage at 0x14322d4e0>"
      ]
     },
     "execution_count": 67,
     "metadata": {},
     "output_type": "execute_result"
    },
    {
     "data": {
      "image/png": "[encoded data removed]",
      "text/plain": [
       "<Figure size 432x288 with 1 Axes>"
      ]
     },
     "metadata": {
      "needs_background": "light"
     },
     "output_type": "display_data"
    }
   ],
   "source": [
    "plt.imshow(out[0].reshape(28, 28))"
   ]
  },
  {
   "cell_type": "code",
   "execution_count": null,
   "metadata": {},
   "outputs": [],
   "source": []
  }
 ],
 "metadata": {
  "kernelspec": {
   "display_name": "Python 3",
   "language": "python",
   "name": "python3"
  },
  "language_info": {
   "codemirror_mode": {
    "name": "ipython",
    "version": 3
   },
   "file_extension": ".py",
   "mimetype": "text/x-python",
   "name": "python",
   "nbconvert_exporter": "python",
   "pygments_lexer": "ipython3",
   "version": "3.7.2"
  }
 },
 "nbformat": 4,
 "nbformat_minor": 4
}

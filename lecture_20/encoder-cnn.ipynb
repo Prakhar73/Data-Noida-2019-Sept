{
 "cells": [
  {
   "cell_type": "code",
   "execution_count": 4,
   "metadata": {},
   "outputs": [],
   "source": [
    "from tensorflow.keras.layers import Dense, Input, Conv2D, MaxPooling2D, UpSampling2D\n",
    "from tensorflow.keras.models import Model\n",
    "\n",
    "import pandas as pd\n",
    "import numpy as np\n",
    "from sklearn.preprocessing import OneHotEncoder\n",
    "from sklearn.model_selection import train_test_split\n",
    "\n",
    "import matplotlib.pyplot as plt\n",
    "\n",
    "from keras.preprocessing.image import ImageDataGenerator"
   ]
  },
  {
   "cell_type": "code",
   "execution_count": 5,
   "metadata": {},
   "outputs": [],
   "source": [
    "mnist = pd.read_csv(\"../datasets/mnist_train_small.csv\", header=None).values\n",
    "\n",
    "X, y = mnist[:, 1:].reshape(-1, 28, 28, 1), mnist[:, :1]\n",
    "\n",
    "ohe = OneHotEncoder(categories=\"auto\")\n",
    "\n",
    "y_hot = ohe.fit_transform(y).todense()"
   ]
  },
  {
   "cell_type": "code",
   "execution_count": 7,
   "metadata": {},
   "outputs": [],
   "source": [
    "in_encod = Input(shape=(28, 28, 1))\n",
    "x = Conv2D(16, (3, 3), activation=\"relu\", padding=\"same\")(in_encod)\n",
    "x = MaxPooling2D(padding=\"same\")(x)\n",
    "x = Conv2D(32, (3, 3), activation=\"relu\", padding=\"same\")(x)\n",
    "x = MaxPooling2D(padding=\"same\")(x)\n",
    "x = Conv2D(64, (3, 3), activation=\"relu\", padding=\"same\")(x)\n",
    "out_encod = MaxPooling2D(padding=\"same\")(x)"
   ]
  },
  {
   "cell_type": "code",
   "execution_count": 8,
   "metadata": {},
   "outputs": [],
   "source": [
    "encoder = Model(in_encod, out_encod)"
   ]
  },
  {
   "cell_type": "code",
   "execution_count": 11,
   "metadata": {},
   "outputs": [],
   "source": [
    "# encoder.summary()\n"
   ]
  },
  {
   "cell_type": "code",
   "execution_count": 17,
   "metadata": {},
   "outputs": [],
   "source": [
    "in_decod = Input(shape=(4, 4, 64))\n",
    "x = UpSampling2D()(in_decod)\n",
    "x = Conv2D(32, (3, 3), padding=\"same\", activation=\"relu\")(x)\n",
    "x = UpSampling2D()(x)\n",
    "x = Conv2D(16, (3, 3), activation=\"relu\")(x)\n",
    "x = UpSampling2D()(x)\n",
    "out_decod  = Conv2D(1, (3, 3), padding=\"same\", activation=\"sigmoid\")(x)"
   ]
  },
  {
   "cell_type": "code",
   "execution_count": 18,
   "metadata": {},
   "outputs": [],
   "source": [
    "decoder = Model(in_decod, out_decod)"
   ]
  },
  {
   "cell_type": "code",
   "execution_count": 20,
   "metadata": {},
   "outputs": [],
   "source": [
    "# decoder.summary()"
   ]
  },
  {
   "cell_type": "code",
   "execution_count": 21,
   "metadata": {},
   "outputs": [],
   "source": [
    "in_auto = Input(shape=(28, 28, 1))\n",
    "enc_layer = encoder(in_auto)\n",
    "dec_layer = decoder(enc_layer)"
   ]
  },
  {
   "cell_type": "code",
   "execution_count": 22,
   "metadata": {},
   "outputs": [],
   "source": [
    "autoencoder = Model(in_auto, dec_layer)"
   ]
  },
  {
   "cell_type": "code",
   "execution_count": 23,
   "metadata": {},
   "outputs": [
    {
     "name": "stdout",
     "output_type": "stream",
     "text": [
      "Model: \"model_2\"\n",
      "_________________________________________________________________\n",
      "Layer (type)                 Output Shape              Param #   \n",
      "=================================================================\n",
      "input_8 (InputLayer)         [(None, 28, 28, 1)]       0         \n",
      "_________________________________________________________________\n",
      "model (Model)                (None, 4, 4, 64)          23296     \n",
      "_________________________________________________________________\n",
      "model_1 (Model)              (None, 28, 28, 1)         23233     \n",
      "=================================================================\n",
      "Total params: 46,529\n",
      "Trainable params: 46,529\n",
      "Non-trainable params: 0\n",
      "_________________________________________________________________\n"
     ]
    }
   ],
   "source": [
    "autoencoder.summary()"
   ]
  },
  {
   "cell_type": "code",
   "execution_count": 24,
   "metadata": {},
   "outputs": [],
   "source": [
    "X_mod = X / 255"
   ]
  },
  {
   "cell_type": "code",
   "execution_count": 25,
   "metadata": {},
   "outputs": [],
   "source": [
    "autoencoder.compile(optimizer='adam', loss='binary_crossentropy')"
   ]
  },
  {
   "cell_type": "code",
   "execution_count": 26,
   "metadata": {},
   "outputs": [],
   "source": [
    "X_train, X_test, y_train, y_test = train_test_split(\n",
    "...     X_mod, y, test_size=0.33, random_state=42)"
   ]
  },
  {
   "cell_type": "code",
   "execution_count": 27,
   "metadata": {},
   "outputs": [
    {
     "name": "stdout",
     "output_type": "stream",
     "text": [
      "Train on 13400 samples, validate on 6600 samples\n",
      "Epoch 1/10\n",
      "13400/13400 [==============================] - 13s 961us/sample - loss: 0.3669 - val_loss: 0.1935\n",
      "Epoch 2/10\n",
      "13400/13400 [==============================] - 12s 906us/sample - loss: 0.1695 - val_loss: 0.1529\n",
      "Epoch 3/10\n",
      "13400/13400 [==============================] - 12s 899us/sample - loss: 0.1445 - val_loss: 0.1360\n",
      "Epoch 4/10\n",
      "13400/13400 [==============================] - 13s 935us/sample - loss: 0.1298 - val_loss: 0.1233\n",
      "Epoch 5/10\n",
      "13400/13400 [==============================] - 14s 1ms/sample - loss: 0.1207 - val_loss: 0.1186\n",
      "Epoch 6/10\n",
      "13400/13400 [==============================] - 12s 899us/sample - loss: 0.1154 - val_loss: 0.1125\n",
      "Epoch 7/10\n",
      "13400/13400 [==============================] - 12s 904us/sample - loss: 0.1116 - val_loss: 0.1096\n",
      "Epoch 8/10\n",
      "13400/13400 [==============================] - 12s 906us/sample - loss: 0.1084 - val_loss: 0.1062\n",
      "Epoch 9/10\n",
      "13400/13400 [==============================] - 12s 898us/sample - loss: 0.1060 - val_loss: 0.1042\n",
      "Epoch 10/10\n",
      "13400/13400 [==============================] - 12s 885us/sample - loss: 0.1038 - val_loss: 0.1021\n"
     ]
    }
   ],
   "source": [
    "hist = autoencoder.fit(X_train, X_train,\n",
    "                epochs=10,\n",
    "                batch_size=256,\n",
    "                shuffle=True,\n",
    "                validation_data=(X_test, X_test))"
   ]
  },
  {
   "cell_type": "code",
   "execution_count": 28,
   "metadata": {},
   "outputs": [
    {
     "data": {
      "text/plain": [
       "<matplotlib.image.AxesImage at 0x13108d630>"
      ]
     },
     "execution_count": 28,
     "metadata": {},
     "output_type": "execute_result"
    },
    {
     "data": {
      "image/png": "[encoded data removed]",
      "text/plain": [
       "<Figure size 432x288 with 1 Axes>"
      ]
     },
     "metadata": {
      "needs_background": "light"
     },
     "output_type": "display_data"
    }
   ],
   "source": [
    "plt.imshow(X_train[3].reshape(28, 28))"
   ]
  },
  {
   "cell_type": "code",
   "execution_count": 29,
   "metadata": {},
   "outputs": [],
   "source": [
    "out = autoencoder.predict(np.array([X_train[3]]))"
   ]
  },
  {
   "cell_type": "code",
   "execution_count": 30,
   "metadata": {},
   "outputs": [
    {
     "data": {
      "text/plain": [
       "<matplotlib.image.AxesImage at 0x138e756d8>"
      ]
     },
     "execution_count": 30,
     "metadata": {},
     "output_type": "execute_result"
    },
    {
     "data": {
      "image/png": "[encoded data removed]",
      "text/plain": [
       "<Figure size 432x288 with 1 Axes>"
      ]
     },
     "metadata": {
      "needs_background": "light"
     },
     "output_type": "display_data"
    }
   ],
   "source": [
    "plt.imshow(out[0].reshape(28, 28))"
   ]
  },
  {
   "cell_type": "code",
   "execution_count": null,
   "metadata": {},
   "outputs": [],
   "source": []
  }
 ],
 "metadata": {
  "kernelspec": {
   "display_name": "Python 3",
   "language": "python",
   "name": "python3"
  },
  "language_info": {
   "codemirror_mode": {
    "name": "ipython",
    "version": 3
   },
   "file_extension": ".py",
   "mimetype": "text/x-python",
   "name": "python",
   "nbconvert_exporter": "python",
   "pygments_lexer": "ipython3",
   "version": "3.7.2"
  }
 },
 "nbformat": 4,
 "nbformat_minor": 4
}
